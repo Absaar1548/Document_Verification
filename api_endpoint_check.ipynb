{
 "cells": [
  {
   "cell_type": "code",
   "execution_count": 2,
   "metadata": {},
   "outputs": [
    {
     "name": "stdout",
     "output_type": "stream",
     "text": [
      "Response Status Code: 200\n",
      "Response Body: {\"account_details\":\"911010049001545\",\"signature\":\"temp_images\\\\signature_1.png\",\"Verification details\":\"Matched\",\"Distance\":1.1313708455418237e-05}\n"
     ]
    }
   ],
   "source": [
    "import requests\n",
    "\n",
    "# URL of the server endpoint\n",
    "url = \"http://127.0.0.1:8000/verify-document\"  # Replace with your actual server URL and endpoint\n",
    "\n",
    "# Path to the image file you want to send\n",
    "image_path = \"Sample Images\\Cheque309135.jpg\"  # Replace with the actual image path\n",
    "\n",
    "# Open the image file in binary mode\n",
    "with open(image_path, 'rb') as image_file:\n",
    "    # Create a dictionary for the form data\n",
    "    files = {'file': (image_path, image_file, 'image/png')}  # Adjust the MIME type if needed\n",
    "    \n",
    "    # Send the POST request with the image as form-data\n",
    "    response = requests.post(url, files=files)\n",
    "    \n",
    "    # Print the received response\n",
    "    print(\"Response Status Code:\", response.status_code)  # Print status code (200 for OK)\n",
    "    print(\"Response Body:\", response.text)  # Print the body of the response\n"
   ]
  },
  {
   "cell_type": "code",
   "execution_count": null,
   "metadata": {},
   "outputs": [],
   "source": []
  }
 ],
 "metadata": {
  "kernelspec": {
   "display_name": "pytorch_env",
   "language": "python",
   "name": "python3"
  },
  "language_info": {
   "codemirror_mode": {
    "name": "ipython",
    "version": 3
   },
   "file_extension": ".py",
   "mimetype": "text/x-python",
   "name": "python",
   "nbconvert_exporter": "python",
   "pygments_lexer": "ipython3",
   "version": "3.10.15"
  }
 },
 "nbformat": 4,
 "nbformat_minor": 2
}
