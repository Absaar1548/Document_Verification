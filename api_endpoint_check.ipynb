{
 "cells": [
  {
   "cell_type": "code",
   "execution_count": 2,
   "metadata": {},
   "outputs": [
    {
     "name": "stdout",
     "output_type": "stream",
     "text": [
      "Response Status Code: 200\n",
      "Response Body: {\"account_details\":\"911010049001545\",\"signature\":\"temp_images\\\\signature_1.png\",\"Verification details\":\"Matched\",\"Distance\":1.1313708455418237e-05}\n"
     ]
    }
   ],
   "source": [
    "import requests\n",
    "\n",
    "# URL of the server endpoint\n",
    "url = \"http://127.0.0.1:8000/verify-document\"  # Replace with your actual server URL and endpoint\n",
    "\n",
    "# Path to the image file you want to send\n",
    "image_path = \"Sample Images\\Cheque309135.jpg\"  # Replace with the actual image path\n",
    "\n",
    "# Open the image file in binary mode\n",
    "with open(image_path, 'rb') as image_file:\n",
    "    # Create a dictionary for the form data\n",
    "    files = {'file': (image_path, image_file, 'image/png')}  # Adjust the MIME type if needed\n",
    "    \n",
    "    # Send the POST request with the image as form-data\n",
    "    response = requests.post(url, files=files)\n",
    "    \n",
    "    # Print the received response\n",
    "    print(\"Response Status Code:\", response.status_code)  # Print status code (200 for OK)\n",
    "    print(\"Response Body:\", response.text)  # Print the body of the response\n"
   ]
  },
  {
   "cell_type": "code",
   "execution_count": 18,
   "metadata": {},
   "outputs": [
    {
     "name": "stderr",
     "output_type": "stream",
     "text": [
      "Processing images:   0%|          | 0/118 [00:00<?, ?it/s]"
     ]
    },
    {
     "name": "stdout",
     "output_type": "stream",
     "text": [
      "\n",
      "image 1/1 e:\\Document Verfication\\Sample Images\\IDRBT Cheque Image Dataset\\A300\\Cheque 083654.tif: 320x640 1 signature, 1 reciever, 1 account, 1 amount, 19.3ms\n",
      "Speed: 0.0ms preprocess, 19.3ms inference, 0.0ms postprocess per image at shape (1, 3, 320, 640)\n",
      "Class: amount, Shape: (98, 460)\n",
      "Saved cropped image: E:/Document Verfication/temp_images\\extracted_amount_0.png\n",
      "Class: signature, Shape: (174, 306)\n",
      "Saved cropped image: E:/Document Verfication/temp_images\\extracted_signature_1.png\n",
      "Class: account, Shape: (89, 827)\n",
      "Saved cropped image: E:/Document Verfication/temp_images\\extracted_account_2.png\n",
      "Class: reciever, Shape: (126, 1026)\n",
      "Saved cropped image: E:/Document Verfication/temp_images\\extracted_reciever_3.png\n",
      "3000201010884 \n",
      "\n"
     ]
    },
    {
     "name": "stderr",
     "output_type": "stream",
     "text": [
      "Processing images:   5%|▌         | 6/118 [00:00<00:06, 16.00it/s]"
     ]
    },
    {
     "name": "stdout",
     "output_type": "stream",
     "text": [
      "\n",
      "image 1/1 e:\\Document Verfication\\Sample Images\\IDRBT Cheque Image Dataset\\A300\\Cheque 083655.tif: 320x640 1 signature, 1 reciever, 1 account, 1 amount, 34.6ms\n",
      "Speed: 0.0ms preprocess, 34.6ms inference, 0.0ms postprocess per image at shape (1, 3, 320, 640)\n",
      "Class: amount, Shape: (97, 449)\n",
      "Saved cropped image: E:/Document Verfication/temp_images\\extracted_amount_0.png\n",
      "Class: signature, Shape: (147, 276)\n",
      "Saved cropped image: E:/Document Verfication/temp_images\\extracted_signature_1.png\n",
      "Class: account, Shape: (94, 813)\n",
      "Saved cropped image: E:/Document Verfication/temp_images\\extracted_account_2.png\n",
      "Class: reciever, Shape: (113, 845)\n",
      "Saved cropped image: E:/Document Verfication/temp_images\\extracted_reciever_3.png\n",
      "3000201010884 \n",
      "\n",
      "\n",
      "image 1/1 e:\\Document Verfication\\Sample Images\\IDRBT Cheque Image Dataset\\A300\\Cheque 083656.tif: 320x640 1 signature, 1 reciever, 1 account, 1 amount, 20.3ms\n",
      "Speed: 0.0ms preprocess, 20.3ms inference, 0.0ms postprocess per image at shape (1, 3, 320, 640)\n",
      "Class: amount, Shape: (99, 463)\n",
      "Saved cropped image: E:/Document Verfication/temp_images\\extracted_amount_0.png\n",
      "Class: signature, Shape: (140, 286)\n",
      "Saved cropped image: E:/Document Verfication/temp_images\\extracted_signature_1.png\n",
      "Class: account, Shape: (106, 816)\n",
      "Saved cropped image: E:/Document Verfication/temp_images\\extracted_account_2.png\n",
      "Class: reciever, Shape: (122, 885)\n",
      "Saved cropped image: E:/Document Verfication/temp_images\\extracted_reciever_3.png\n"
     ]
    },
    {
     "name": "stderr",
     "output_type": "stream",
     "text": [
      "Processing images:   7%|▋         | 8/118 [00:00<00:13,  8.45it/s]"
     ]
    },
    {
     "name": "stdout",
     "output_type": "stream",
     "text": [
      "30002010408841 \n",
      "\n",
      "\n",
      "image 1/1 e:\\Document Verfication\\Sample Images\\IDRBT Cheque Image Dataset\\A300\\Cheque 083657.tif: 320x640 1 signature, 1 reciever, 1 amount, 19.2ms\n",
      "Speed: 0.0ms preprocess, 19.2ms inference, 0.0ms postprocess per image at shape (1, 3, 320, 640)\n",
      "Class: amount, Shape: (98, 462)\n",
      "Saved cropped image: E:/Document Verfication/temp_images\\extracted_amount_0.png\n",
      "Class: signature, Shape: (138, 284)\n",
      "Saved cropped image: E:/Document Verfication/temp_images\\extracted_signature_1.png\n",
      "Class: reciever, Shape: (116, 794)\n",
      "Saved cropped image: E:/Document Verfication/temp_images\\extracted_reciever_2.png\n",
      "Error Extracting\n",
      "\n",
      "image 1/1 e:\\Document Verfication\\Sample Images\\IDRBT Cheque Image Dataset\\A300\\Cheque 083658.tif: 320x640 1 signature, 1 reciever, 1 account, 1 amount, 22.7ms\n",
      "Speed: 0.0ms preprocess, 22.7ms inference, 0.0ms postprocess per image at shape (1, 3, 320, 640)\n",
      "Class: amount, Shape: (96, 459)\n",
      "Saved cropped image: E:/Document Verfication/temp_images\\extracted_amount_0.png\n",
      "Class: signature, Shape: (138, 266)\n",
      "Saved cropped image: E:/Document Verfication/temp_images\\extracted_signature_1.png\n",
      "Class: reciever, Shape: (99, 515)\n",
      "Saved cropped image: E:/Document Verfication/temp_images\\extracted_reciever_2.png\n",
      "Class: account, Shape: (91, 803)\n",
      "Saved cropped image: E:/Document Verfication/temp_images\\extracted_account_3.png\n"
     ]
    },
    {
     "name": "stderr",
     "output_type": "stream",
     "text": [
      "Processing images:   8%|▊         | 10/118 [00:01<00:13,  7.97it/s]"
     ]
    },
    {
     "name": "stdout",
     "output_type": "stream",
     "text": [
      "3000201010884 \n",
      "\n",
      "\n",
      "image 1/1 e:\\Document Verfication\\Sample Images\\IDRBT Cheque Image Dataset\\A300\\Cheque 083659.tif: 320x640 1 signature, 1 reciever, 1 amount, 15.3ms\n",
      "Speed: 0.0ms preprocess, 15.3ms inference, 6.1ms postprocess per image at shape (1, 3, 320, 640)\n",
      "Class: amount, Shape: (97, 462)\n",
      "Saved cropped image: E:/Document Verfication/temp_images\\extracted_amount_0.png\n",
      "Class: signature, Shape: (142, 320)\n",
      "Saved cropped image: E:/Document Verfication/temp_images\\extracted_signature_1.png\n",
      "Class: reciever, Shape: (87, 653)\n",
      "Saved cropped image: E:/Document Verfication/temp_images\\extracted_reciever_2.png\n",
      "Error Extracting\n",
      "\n",
      "image 1/1 e:\\Document Verfication\\Sample Images\\IDRBT Cheque Image Dataset\\A300\\Cheque 083660.tif: 320x640 1 signature, 1 reciever, 1 account, 1 amount, 14.2ms\n",
      "Speed: 1.9ms preprocess, 14.2ms inference, 0.0ms postprocess per image at shape (1, 3, 320, 640)\n",
      "Class: amount, Shape: (96, 455)\n",
      "Saved cropped image: E:/Document Verfication/temp_images\\extracted_amount_0.png\n",
      "Class: signature, Shape: (142, 195)\n",
      "Saved cropped image: E:/Document Verfication/temp_images\\extracted_signature_1.png\n",
      "Class: reciever, Shape: (121, 859)\n",
      "Saved cropped image: E:/Document Verfication/temp_images\\extracted_reciever_2.png\n",
      "Class: account, Shape: (97, 818)\n",
      "Saved cropped image: E:/Document Verfication/temp_images\\extracted_account_3.png\n"
     ]
    },
    {
     "name": "stderr",
     "output_type": "stream",
     "text": [
      "Processing images:  10%|█         | 12/118 [00:01<00:13,  7.64it/s]"
     ]
    },
    {
     "name": "stdout",
     "output_type": "stream",
     "text": [
      "3000201010884 \n",
      "\n",
      "\n",
      "image 1/1 e:\\Document Verfication\\Sample Images\\IDRBT Cheque Image Dataset\\A300\\Cheque 100828.tif: 320x640 1 signature, 1 reciever, 1 account, 1 amount, 18.7ms\n",
      "Speed: 0.0ms preprocess, 18.7ms inference, 0.0ms postprocess per image at shape (1, 3, 320, 640)\n"
     ]
    },
    {
     "name": "stderr",
     "output_type": "stream",
     "text": [
      "Processing images:  11%|█         | 13/118 [00:01<00:14,  7.44it/s]"
     ]
    },
    {
     "name": "stdout",
     "output_type": "stream",
     "text": [
      "Class: account, Shape: (73, 269)\n",
      "Saved cropped image: E:/Document Verfication/temp_images\\extracted_account_0.png\n",
      "Class: amount, Shape: (109, 460)\n",
      "Saved cropped image: E:/Document Verfication/temp_images\\extracted_amount_1.png\n",
      "Class: signature, Shape: (152, 292)\n",
      "Saved cropped image: E:/Document Verfication/temp_images\\extracted_signature_2.png\n",
      "Class: reciever, Shape: (104, 795)\n",
      "Saved cropped image: E:/Document Verfication/temp_images\\extracted_reciever_3.png\n",
      "630801551452 \n",
      "\n",
      "\n",
      "image 1/1 e:\\Document Verfication\\Sample Images\\IDRBT Cheque Image Dataset\\A300\\Cheque 100829.tif: 320x640 1 signature, 1 reciever, 1 account, 1 amount, 13.0ms\n",
      "Speed: 16.0ms preprocess, 13.0ms inference, 0.0ms postprocess per image at shape (1, 3, 320, 640)\n",
      "Class: account, Shape: (76, 270)\n",
      "Saved cropped image: E:/Document Verfication/temp_images\\extracted_account_0.png\n",
      "Class: amount, Shape: (108, 460)\n",
      "Saved cropped image: E:/Document Verfication/temp_images\\extracted_amount_1.png\n",
      "Class: signature, Shape: (149, 295)\n",
      "Saved cropped image: E:/Document Verfication/temp_images\\extracted_signature_2.png\n",
      "Class: reciever, Shape: (85, 653)\n",
      "Saved cropped image: E:/Document Verfication/temp_images\\extracted_reciever_3.png\n"
     ]
    },
    {
     "name": "stderr",
     "output_type": "stream",
     "text": [
      "Processing images:  12%|█▏        | 14/118 [00:01<00:14,  7.31it/s]"
     ]
    },
    {
     "name": "stdout",
     "output_type": "stream",
     "text": [
      "630801551452 \n",
      "\n",
      "\n",
      "image 1/1 e:\\Document Verfication\\Sample Images\\IDRBT Cheque Image Dataset\\A300\\Cheque 100830.tif: 320x640 1 signature, 1 reciever, 1 account, 1 amount, 19.7ms\n",
      "Speed: 0.0ms preprocess, 19.7ms inference, 0.0ms postprocess per image at shape (1, 3, 320, 640)\n",
      "Class: account, Shape: (74, 278)\n",
      "Saved cropped image: E:/Document Verfication/temp_images\\extracted_account_0.png\n",
      "Class: amount, Shape: (105, 472)\n",
      "Saved cropped image: E:/Document Verfication/temp_images\\extracted_amount_1.png\n",
      "Class: signature, Shape: (149, 282)\n",
      "Saved cropped image: E:/Document Verfication/temp_images\\extracted_signature_2.png\n",
      "Class: reciever, Shape: (105, 699)\n",
      "Saved cropped image: E:/Document Verfication/temp_images\\extracted_reciever_3.png\n"
     ]
    },
    {
     "name": "stderr",
     "output_type": "stream",
     "text": [
      "Processing images:  13%|█▎        | 15/118 [00:01<00:14,  7.08it/s]"
     ]
    },
    {
     "name": "stdout",
     "output_type": "stream",
     "text": [
      "630801551452 \n",
      "\n",
      "\n",
      "image 1/1 e:\\Document Verfication\\Sample Images\\IDRBT Cheque Image Dataset\\A300\\Cheque 100831.tif: 320x640 1 signature, 1 reciever, 1 account, 1 amount, 13.8ms\n",
      "Speed: 0.0ms preprocess, 13.8ms inference, 4.7ms postprocess per image at shape (1, 3, 320, 640)\n",
      "Class: account, Shape: (75, 288)\n",
      "Saved cropped image: E:/Document Verfication/temp_images\\extracted_account_0.png\n",
      "Class: amount, Shape: (110, 463)\n",
      "Saved cropped image: E:/Document Verfication/temp_images\\extracted_amount_1.png\n",
      "Class: signature, Shape: (154, 295)\n",
      "Saved cropped image: E:/Document Verfication/temp_images\\extracted_signature_2.png\n",
      "Class: reciever, Shape: (98, 915)\n",
      "Saved cropped image: E:/Document Verfication/temp_images\\extracted_reciever_3.png\n"
     ]
    },
    {
     "name": "stderr",
     "output_type": "stream",
     "text": [
      "Processing images:  14%|█▎        | 16/118 [00:02<00:14,  6.86it/s]"
     ]
    },
    {
     "name": "stdout",
     "output_type": "stream",
     "text": [
      "630801551452 \n",
      "\n",
      "\n",
      "image 1/1 e:\\Document Verfication\\Sample Images\\IDRBT Cheque Image Dataset\\A300\\Cheque 100832.tif: 320x640 1 signature, 1 reciever, 1 account, 1 amount, 13.1ms\n",
      "Speed: 3.9ms preprocess, 13.1ms inference, 1.3ms postprocess per image at shape (1, 3, 320, 640)\n",
      "Class: account, Shape: (75, 275)\n",
      "Saved cropped image: E:/Document Verfication/temp_images\\extracted_account_0.png\n",
      "Class: amount, Shape: (113, 465)\n",
      "Saved cropped image: E:/Document Verfication/temp_images\\extracted_amount_1.png\n",
      "Class: signature, Shape: (157, 312)\n",
      "Saved cropped image: E:/Document Verfication/temp_images\\extracted_signature_2.png\n",
      "Class: reciever, Shape: (90, 776)\n",
      "Saved cropped image: E:/Document Verfication/temp_images\\extracted_reciever_3.png\n"
     ]
    },
    {
     "name": "stderr",
     "output_type": "stream",
     "text": [
      "Processing images:  14%|█▍        | 17/118 [00:02<00:14,  6.84it/s]"
     ]
    },
    {
     "name": "stdout",
     "output_type": "stream",
     "text": [
      "630801551452 \n",
      "\n",
      "\n",
      "image 1/1 e:\\Document Verfication\\Sample Images\\IDRBT Cheque Image Dataset\\A300\\Cheque 100833.tif: 320x640 1 signature, 1 reciever, 1 account, 1 amount, 13.9ms\n",
      "Speed: 10.1ms preprocess, 13.9ms inference, 1.8ms postprocess per image at shape (1, 3, 320, 640)\n",
      "Class: account, Shape: (75, 269)\n",
      "Saved cropped image: E:/Document Verfication/temp_images\\extracted_account_0.png\n",
      "Class: amount, Shape: (111, 459)\n",
      "Saved cropped image: E:/Document Verfication/temp_images\\extracted_amount_1.png\n",
      "Class: signature, Shape: (151, 246)\n",
      "Saved cropped image: E:/Document Verfication/temp_images\\extracted_signature_2.png\n",
      "Class: reciever, Shape: (112, 876)\n",
      "Saved cropped image: E:/Document Verfication/temp_images\\extracted_reciever_3.png\n"
     ]
    },
    {
     "name": "stderr",
     "output_type": "stream",
     "text": [
      "Processing images:  15%|█▌        | 18/118 [00:02<00:14,  6.84it/s]"
     ]
    },
    {
     "name": "stdout",
     "output_type": "stream",
     "text": [
      "630801551452 \n",
      "\n",
      "\n",
      "image 1/1 e:\\Document Verfication\\Sample Images\\IDRBT Cheque Image Dataset\\A300\\Cheque 100834.tif: 320x640 1 signature, 1 reciever, 1 account, 1 amount, 5.6ms\n",
      "Speed: 2.8ms preprocess, 5.6ms inference, 0.0ms postprocess per image at shape (1, 3, 320, 640)\n",
      "Class: account, Shape: (76, 271)\n",
      "Saved cropped image: E:/Document Verfication/temp_images\\extracted_account_0.png\n",
      "Class: amount, Shape: (103, 462)\n",
      "Saved cropped image: E:/Document Verfication/temp_images\\extracted_amount_1.png\n",
      "Class: signature, Shape: (159, 279)\n",
      "Saved cropped image: E:/Document Verfication/temp_images\\extracted_signature_2.png\n",
      "Class: reciever, Shape: (90, 755)\n",
      "Saved cropped image: E:/Document Verfication/temp_images\\extracted_reciever_3.png\n"
     ]
    },
    {
     "name": "stderr",
     "output_type": "stream",
     "text": [
      "Processing images:  16%|█▌        | 19/118 [00:02<00:14,  6.87it/s]"
     ]
    },
    {
     "name": "stdout",
     "output_type": "stream",
     "text": [
      "630801551452 \n",
      "\n",
      "\n",
      "image 1/1 e:\\Document Verfication\\Sample Images\\IDRBT Cheque Image Dataset\\A300\\Cheque 100835.tif: 320x640 1 signature, 1 reciever, 1 account, 1 amount, 15.4ms\n",
      "Speed: 0.7ms preprocess, 15.4ms inference, 4.1ms postprocess per image at shape (1, 3, 320, 640)\n",
      "Class: account, Shape: (74, 281)\n",
      "Saved cropped image: E:/Document Verfication/temp_images\\extracted_account_0.png\n",
      "Class: amount, Shape: (106, 462)\n",
      "Saved cropped image: E:/Document Verfication/temp_images\\extracted_amount_1.png\n",
      "Class: signature, Shape: (159, 246)\n",
      "Saved cropped image: E:/Document Verfication/temp_images\\extracted_signature_2.png\n",
      "Class: reciever, Shape: (108, 871)\n",
      "Saved cropped image: E:/Document Verfication/temp_images\\extracted_reciever_3.png\n"
     ]
    },
    {
     "name": "stderr",
     "output_type": "stream",
     "text": [
      "Processing images:  17%|█▋        | 20/118 [00:02<00:14,  6.67it/s]"
     ]
    },
    {
     "name": "stdout",
     "output_type": "stream",
     "text": [
      "630801551452 \n",
      "\n",
      "\n",
      "image 1/1 e:\\Document Verfication\\Sample Images\\IDRBT Cheque Image Dataset\\A300\\Cheque 120611.tif: 320x640 1 signature, 1 reciever, 1 account, 1 amount, 17.1ms\n",
      "Speed: 0.0ms preprocess, 17.1ms inference, 0.0ms postprocess per image at shape (1, 3, 320, 640)\n",
      "Class: amount, Shape: (118, 452)\n",
      "Saved cropped image: E:/Document Verfication/temp_images\\extracted_amount_0.png\n",
      "Class: signature, Shape: (137, 349)\n",
      "Saved cropped image: E:/Document Verfication/temp_images\\extracted_signature_1.png\n",
      "Class: account, Shape: (97, 597)\n",
      "Saved cropped image: E:/Document Verfication/temp_images\\extracted_account_2.png\n",
      "Class: reciever, Shape: (109, 644)\n",
      "Saved cropped image: E:/Document Verfication/temp_images\\extracted_reciever_3.png\n",
      " \n",
      "\n"
     ]
    },
    {
     "name": "stderr",
     "output_type": "stream",
     "text": [
      "Processing images:  18%|█▊        | 21/118 [00:02<00:18,  5.19it/s]"
     ]
    },
    {
     "name": "stdout",
     "output_type": "stream",
     "text": [
      "\n",
      "image 1/1 e:\\Document Verfication\\Sample Images\\IDRBT Cheque Image Dataset\\A300\\Cheque 120612.tif: 320x640 1 signature, 1 reciever, 1 account, 1 amount, 14.9ms\n",
      "Speed: 0.0ms preprocess, 14.9ms inference, 7.5ms postprocess per image at shape (1, 3, 320, 640)\n",
      "Class: amount, Shape: (115, 448)\n",
      "Saved cropped image: E:/Document Verfication/temp_images\\extracted_amount_0.png\n",
      "Class: account, Shape: (97, 588)\n",
      "Saved cropped image: E:/Document Verfication/temp_images\\extracted_account_1.png\n",
      "Class: signature, Shape: (118, 366)\n",
      "Saved cropped image: E:/Document Verfication/temp_images\\extracted_signature_2.png\n",
      "Class: reciever, Shape: (135, 1268)\n",
      "Saved cropped image: E:/Document Verfication/temp_images\\extracted_reciever_3.png\n"
     ]
    },
    {
     "name": "stderr",
     "output_type": "stream",
     "text": [
      "Processing images:  19%|█▊        | 22/118 [00:03<00:19,  4.99it/s]"
     ]
    },
    {
     "name": "stdout",
     "output_type": "stream",
     "text": [
      " \n",
      "\n",
      "\n",
      "image 1/1 e:\\Document Verfication\\Sample Images\\IDRBT Cheque Image Dataset\\A300\\Cheque 120613.tif: 320x640 1 signature, 1 reciever, 1 account, 1 amount, 11.8ms\n",
      "Speed: 0.0ms preprocess, 11.8ms inference, 10.0ms postprocess per image at shape (1, 3, 320, 640)\n"
     ]
    },
    {
     "name": "stderr",
     "output_type": "stream",
     "text": [
      "Processing images:  19%|█▉        | 23/118 [00:03<00:18,  5.12it/s]"
     ]
    },
    {
     "name": "stdout",
     "output_type": "stream",
     "text": [
      "Class: amount, Shape: (119, 453)\n",
      "Saved cropped image: E:/Document Verfication/temp_images\\extracted_amount_0.png\n",
      "Class: signature, Shape: (150, 401)\n",
      "Saved cropped image: E:/Document Verfication/temp_images\\extracted_signature_1.png\n",
      "Class: account, Shape: (97, 564)\n",
      "Saved cropped image: E:/Document Verfication/temp_images\\extracted_account_2.png\n",
      "Class: reciever, Shape: (103, 864)\n",
      "Saved cropped image: E:/Document Verfication/temp_images\\extracted_reciever_3.png\n",
      "2854101006936 \n",
      "\n",
      "\n",
      "image 1/1 e:\\Document Verfication\\Sample Images\\IDRBT Cheque Image Dataset\\A300\\Cheque 120614.tif: 320x640 1 signature, 1 reciever, 1 account, 1 amount, 20.4ms\n",
      "Speed: 0.0ms preprocess, 20.4ms inference, 0.0ms postprocess per image at shape (1, 3, 320, 640)\n",
      "Class: amount, Shape: (121, 449)\n",
      "Saved cropped image: E:/Document Verfication/temp_images\\extracted_amount_0.png\n",
      "Class: signature, Shape: (162, 321)\n",
      "Saved cropped image: E:/Document Verfication/temp_images\\extracted_signature_1.png\n",
      "Class: account, Shape: (95, 584)\n",
      "Saved cropped image: E:/Document Verfication/temp_images\\extracted_account_2.png\n",
      "Class: reciever, Shape: (121, 1027)\n",
      "Saved cropped image: E:/Document Verfication/temp_images\\extracted_reciever_3.png\n",
      " \n",
      "\n"
     ]
    },
    {
     "name": "stderr",
     "output_type": "stream",
     "text": [
      "Processing images:  20%|██        | 24/118 [00:03<00:20,  4.64it/s]"
     ]
    },
    {
     "name": "stdout",
     "output_type": "stream",
     "text": [
      "\n",
      "image 1/1 e:\\Document Verfication\\Sample Images\\IDRBT Cheque Image Dataset\\A300\\Cheque 120615.tif: 320x640 1 signature, 1 reciever, 1 account, 1 amount, 9.8ms\n",
      "Speed: 2.9ms preprocess, 9.8ms inference, 0.0ms postprocess per image at shape (1, 3, 320, 640)\n",
      "Class: amount, Shape: (116, 454)\n",
      "Saved cropped image: E:/Document Verfication/temp_images\\extracted_amount_0.png\n",
      "Class: account, Shape: (91, 572)\n",
      "Saved cropped image: E:/Document Verfication/temp_images\\extracted_account_1.png\n",
      "Class: signature, Shape: (133, 239)\n",
      "Saved cropped image: E:/Document Verfication/temp_images\\extracted_signature_2.png\n",
      "Class: reciever, Shape: (110, 773)\n",
      "Saved cropped image: E:/Document Verfication/temp_images\\extracted_reciever_3.png\n"
     ]
    },
    {
     "name": "stderr",
     "output_type": "stream",
     "text": [
      "Processing images:  21%|██        | 25/118 [00:03<00:19,  4.75it/s]"
     ]
    },
    {
     "name": "stdout",
     "output_type": "stream",
     "text": [
      " \n",
      "\n",
      "\n",
      "image 1/1 e:\\Document Verfication\\Sample Images\\IDRBT Cheque Image Dataset\\A300\\Cheque 120616.tif: 320x640 1 signature, 1 reciever, 1 account, 1 amount, 20.1ms\n",
      "Speed: 0.0ms preprocess, 20.1ms inference, 0.0ms postprocess per image at shape (1, 3, 320, 640)\n",
      "Class: amount, Shape: (115, 456)\n",
      "Saved cropped image: E:/Document Verfication/temp_images\\extracted_amount_0.png\n",
      "Class: signature, Shape: (164, 302)\n",
      "Saved cropped image: E:/Document Verfication/temp_images\\extracted_signature_1.png\n",
      "Class: account, Shape: (93, 558)\n",
      "Saved cropped image: E:/Document Verfication/temp_images\\extracted_account_2.png\n",
      "Class: reciever, Shape: (111, 440)\n",
      "Saved cropped image: E:/Document Verfication/temp_images\\extracted_reciever_3.png\n"
     ]
    },
    {
     "name": "stderr",
     "output_type": "stream",
     "text": [
      "Processing images:  22%|██▏       | 26/118 [00:04<00:20,  4.53it/s]"
     ]
    },
    {
     "name": "stdout",
     "output_type": "stream",
     "text": [
      " \n",
      "\n",
      "\n",
      "image 1/1 e:\\Document Verfication\\Sample Images\\IDRBT Cheque Image Dataset\\A300\\Cheque 120617.tif: 320x640 1 signature, 1 reciever, 1 account, 1 amount, 8.7ms\n",
      "Speed: 0.0ms preprocess, 8.7ms inference, 0.0ms postprocess per image at shape (1, 3, 320, 640)\n"
     ]
    },
    {
     "name": "stderr",
     "output_type": "stream",
     "text": [
      "Processing images:  23%|██▎       | 27/118 [00:04<00:19,  4.77it/s]"
     ]
    },
    {
     "name": "stdout",
     "output_type": "stream",
     "text": [
      "Class: amount, Shape: (119, 459)\n",
      "Saved cropped image: E:/Document Verfication/temp_images\\extracted_amount_0.png\n",
      "Class: signature, Shape: (118, 200)\n",
      "Saved cropped image: E:/Document Verfication/temp_images\\extracted_signature_1.png\n",
      "Class: account, Shape: (91, 590)\n",
      "Saved cropped image: E:/Document Verfication/temp_images\\extracted_account_2.png\n",
      "Class: reciever, Shape: (127, 919)\n",
      "Saved cropped image: E:/Document Verfication/temp_images\\extracted_reciever_3.png\n",
      " \n",
      "\n",
      "\n",
      "image 1/1 e:\\Document Verfication\\Sample Images\\IDRBT Cheque Image Dataset\\A300\\Cheque 120618.tif: 320x640 1 signature, 1 reciever, 1 account, 1 amount, 10.1ms\n",
      "Speed: 0.0ms preprocess, 10.1ms inference, 0.0ms postprocess per image at shape (1, 3, 320, 640)\n",
      "Class: amount, Shape: (119, 452)\n"
     ]
    },
    {
     "name": "stderr",
     "output_type": "stream",
     "text": [
      "Processing images:  24%|██▎       | 28/118 [00:04<00:17,  5.22it/s]"
     ]
    },
    {
     "name": "stdout",
     "output_type": "stream",
     "text": [
      "Saved cropped image: E:/Document Verfication/temp_images\\extracted_amount_0.png\n",
      "Class: signature, Shape: (145, 312)\n",
      "Saved cropped image: E:/Document Verfication/temp_images\\extracted_signature_1.png\n",
      "Class: account, Shape: (95, 555)\n",
      "Saved cropped image: E:/Document Verfication/temp_images\\extracted_account_2.png\n",
      "Class: reciever, Shape: (113, 853)\n",
      "Saved cropped image: E:/Document Verfication/temp_images\\extracted_reciever_3.png\n",
      "2854101006936 \n",
      "\n",
      "\n",
      "image 1/1 e:\\Document Verfication\\Sample Images\\IDRBT Cheque Image Dataset\\A300\\Cheque 120619.tif: 320x640 1 signature, 1 reciever, 1 account, 1 amount, 17.2ms\n",
      "Speed: 0.0ms preprocess, 17.2ms inference, 0.0ms postprocess per image at shape (1, 3, 320, 640)\n",
      "Class: amount, Shape: (113, 452)\n",
      "Saved cropped image: E:/Document Verfication/temp_images\\extracted_amount_0.png\n",
      "Class: signature, Shape: (141, 207)\n",
      "Saved cropped image: E:/Document Verfication/temp_images\\extracted_signature_1.png\n",
      "Class: account, Shape: (96, 546)\n",
      "Saved cropped image: E:/Document Verfication/temp_images\\extracted_account_2.png\n",
      "Class: reciever, Shape: (102, 629)\n",
      "Saved cropped image: E:/Document Verfication/temp_images\\extracted_reciever_3.png\n",
      " \n",
      "\n"
     ]
    },
    {
     "name": "stderr",
     "output_type": "stream",
     "text": [
      "Processing images:  25%|██▍       | 29/118 [00:04<00:18,  4.77it/s]"
     ]
    },
    {
     "name": "stdout",
     "output_type": "stream",
     "text": [
      "\n",
      "image 1/1 e:\\Document Verfication\\Sample Images\\IDRBT Cheque Image Dataset\\A300\\Cheque 120620.tif: 320x640 1 signature, 1 reciever, 1 account, 1 amount, 5.4ms\n",
      "Speed: 1.5ms preprocess, 5.4ms inference, 7.5ms postprocess per image at shape (1, 3, 320, 640)\n",
      "Class: signature, Shape: (130, 187)\n",
      "Saved cropped image: E:/Document Verfication/temp_images\\extracted_signature_0.png\n",
      "Class: amount, Shape: (113, 457)\n",
      "Saved cropped image: E:/Document Verfication/temp_images\\extracted_amount_1.png\n",
      "Class: account, Shape: (104, 598)\n",
      "Saved cropped image: E:/Document Verfication/temp_images\\extracted_account_2.png\n",
      "Class: reciever, Shape: (106, 802)\n",
      "Saved cropped image: E:/Document Verfication/temp_images\\extracted_reciever_3.png\n",
      " \n",
      "\n"
     ]
    },
    {
     "name": "stderr",
     "output_type": "stream",
     "text": [
      "Processing images:  25%|██▌       | 30/118 [00:04<00:20,  4.39it/s]"
     ]
    },
    {
     "name": "stdout",
     "output_type": "stream",
     "text": [
      "\n",
      "image 1/1 e:\\Document Verfication\\Sample Images\\IDRBT Cheque Image Dataset\\A300\\Cheque 309061.tif: 320x640 1 signature, 1 reciever, 1 account, 1 amount, 13.7ms\n",
      "Speed: 9.3ms preprocess, 13.7ms inference, 0.4ms postprocess per image at shape (1, 3, 320, 640)\n"
     ]
    },
    {
     "name": "stderr",
     "output_type": "stream",
     "text": [
      "Processing images:  26%|██▋       | 31/118 [00:05<00:17,  5.00it/s]"
     ]
    },
    {
     "name": "stdout",
     "output_type": "stream",
     "text": [
      "Class: signature, Shape: (160, 227)\n",
      "Saved cropped image: E:/Document Verfication/temp_images\\extracted_signature_0.png\n",
      "Class: amount, Shape: (104, 459)\n",
      "Saved cropped image: E:/Document Verfication/temp_images\\extracted_amount_1.png\n",
      "Class: account, Shape: (68, 318)\n",
      "Saved cropped image: E:/Document Verfication/temp_images\\extracted_account_2.png\n",
      "Class: reciever, Shape: (90, 847)\n",
      "Saved cropped image: E:/Document Verfication/temp_images\\extracted_reciever_3.png\n",
      "911010049001545 \n",
      "\n",
      "\n",
      "image 1/1 e:\\Document Verfication\\Sample Images\\IDRBT Cheque Image Dataset\\A300\\Cheque 309062.tif: 320x640 1 reciever, 1 account, 1 amount, 13.1ms\n",
      "Speed: 1.5ms preprocess, 13.1ms inference, 0.0ms postprocess per image at shape (1, 3, 320, 640)\n",
      "Class: account, Shape: (72, 324)\n",
      "Saved cropped image: E:/Document Verfication/temp_images\\extracted_account_0.png\n",
      "Class: amount, Shape: (107, 412)\n",
      "Saved cropped image: E:/Document Verfication/temp_images\\extracted_amount_1.png\n",
      "Class: reciever, Shape: (102, 711)\n",
      "Saved cropped image: E:/Document Verfication/temp_images\\extracted_reciever_2.png\n",
      "Error Extracting\n",
      "\n",
      "image 1/1 e:\\Document Verfication\\Sample Images\\IDRBT Cheque Image Dataset\\A300\\Cheque 309063.tif: 320x640 1 reciever, 1 account, 1 amount, 12.4ms\n",
      "Speed: 1.7ms preprocess, 12.4ms inference, 7.7ms postprocess per image at shape (1, 3, 320, 640)\n"
     ]
    },
    {
     "name": "stderr",
     "output_type": "stream",
     "text": [
      "Processing images:  28%|██▊       | 33/118 [00:05<00:12,  6.94it/s]"
     ]
    },
    {
     "name": "stdout",
     "output_type": "stream",
     "text": [
      "Class: amount, Shape: (109, 394)\n",
      "Saved cropped image: E:/Document Verfication/temp_images\\extracted_amount_0.png\n",
      "Class: reciever, Shape: (90, 849)\n",
      "Saved cropped image: E:/Document Verfication/temp_images\\extracted_reciever_1.png\n",
      "Class: account, Shape: (72, 324)\n",
      "Saved cropped image: E:/Document Verfication/temp_images\\extracted_account_2.png\n",
      "Error Extracting\n",
      "\n",
      "image 1/1 e:\\Document Verfication\\Sample Images\\IDRBT Cheque Image Dataset\\A300\\Cheque 309066.tif: 320x640 1 signature, 1 reciever, 1 account, 1 amount, 19.3ms\n",
      "Speed: 0.0ms preprocess, 19.3ms inference, 0.0ms postprocess per image at shape (1, 3, 320, 640)\n",
      "Class: amount, Shape: (104, 428)\n",
      "Saved cropped image: E:/Document Verfication/temp_images\\extracted_amount_0.png\n",
      "Class: signature, Shape: (85, 204)\n",
      "Saved cropped image: E:/Document Verfication/temp_images\\extracted_signature_1.png\n",
      "Class: account, Shape: (69, 323)\n",
      "Saved cropped image: E:/Document Verfication/temp_images\\extracted_account_2.png\n",
      "Class: reciever, Shape: (95, 602)\n",
      "Saved cropped image: E:/Document Verfication/temp_images\\extracted_reciever_3.png\n",
      "911010049001545 \n",
      "\n"
     ]
    },
    {
     "name": "stderr",
     "output_type": "stream",
     "text": [
      "Processing images:  29%|██▉       | 34/118 [00:05<00:12,  6.92it/s]"
     ]
    },
    {
     "name": "stdout",
     "output_type": "stream",
     "text": [
      "\n",
      "image 1/1 e:\\Document Verfication\\Sample Images\\IDRBT Cheque Image Dataset\\A300\\Cheque 309067.tif: 320x640 1 signature, 1 reciever, 1 account, 1 amount, 14.0ms\n",
      "Speed: 1.3ms preprocess, 14.0ms inference, 0.0ms postprocess per image at shape (1, 3, 320, 640)\n",
      "Class: amount, Shape: (108, 349)\n",
      "Saved cropped image: E:/Document Verfication/temp_images\\extracted_amount_0.png\n",
      "Class: account, Shape: (70, 323)\n",
      "Saved cropped image: E:/Document Verfication/temp_images\\extracted_account_1.png\n",
      "Class: reciever, Shape: (96, 795)\n",
      "Saved cropped image: E:/Document Verfication/temp_images\\extracted_reciever_2.png\n",
      "Class: signature, Shape: (83, 241)\n",
      "Saved cropped image: E:/Document Verfication/temp_images\\extracted_signature_3.png\n"
     ]
    },
    {
     "name": "stderr",
     "output_type": "stream",
     "text": [
      "Processing images:  30%|██▉       | 35/118 [00:05<00:12,  6.90it/s]"
     ]
    },
    {
     "name": "stdout",
     "output_type": "stream",
     "text": [
      "911010049001545 \n",
      "\n",
      "\n",
      "image 1/1 e:\\Document Verfication\\Sample Images\\IDRBT Cheque Image Dataset\\A300\\Cheque 309068.tif: 320x640 1 signature, 1 reciever, 1 account, 1 amount, 26.1ms\n",
      "Speed: 0.0ms preprocess, 26.1ms inference, 0.0ms postprocess per image at shape (1, 3, 320, 640)\n",
      "Class: amount, Shape: (104, 427)\n",
      "Saved cropped image: E:/Document Verfication/temp_images\\extracted_amount_0.png\n",
      "Class: account, Shape: (68, 316)\n",
      "Saved cropped image: E:/Document Verfication/temp_images\\extracted_account_1.png\n",
      "Class: reciever, Shape: (106, 910)\n",
      "Saved cropped image: E:/Document Verfication/temp_images\\extracted_reciever_2.png\n",
      "Class: signature, Shape: (80, 281)\n",
      "Saved cropped image: E:/Document Verfication/temp_images\\extracted_signature_3.png\n",
      "911010049001545 \n",
      "\n"
     ]
    },
    {
     "name": "stderr",
     "output_type": "stream",
     "text": [
      "Processing images:  31%|███       | 36/118 [00:05<00:11,  6.90it/s]"
     ]
    },
    {
     "name": "stdout",
     "output_type": "stream",
     "text": [
      "\n",
      "image 1/1 e:\\Document Verfication\\Sample Images\\IDRBT Cheque Image Dataset\\A300\\Cheque 309069.tif: 320x640 1 signature, 1 reciever, 1 account, 1 amount, 13.3ms\n",
      "Speed: 1.8ms preprocess, 13.3ms inference, 0.0ms postprocess per image at shape (1, 3, 320, 640)\n",
      "Class: amount, Shape: (108, 349)\n",
      "Saved cropped image: E:/Document Verfication/temp_images\\extracted_amount_0.png\n",
      "Class: account, Shape: (76, 325)\n",
      "Saved cropped image: E:/Document Verfication/temp_images\\extracted_account_1.png\n",
      "Class: signature, Shape: (110, 266)\n",
      "Saved cropped image: E:/Document Verfication/temp_images\\extracted_signature_2.png\n",
      "Class: reciever, Shape: (102, 853)\n",
      "Saved cropped image: E:/Document Verfication/temp_images\\extracted_reciever_3.png\n"
     ]
    },
    {
     "name": "stderr",
     "output_type": "stream",
     "text": [
      "Processing images:  31%|███▏      | 37/118 [00:05<00:11,  6.97it/s]"
     ]
    },
    {
     "name": "stdout",
     "output_type": "stream",
     "text": [
      "911010049001545 \n",
      "\n",
      "\n",
      "image 1/1 e:\\Document Verfication\\Sample Images\\IDRBT Cheque Image Dataset\\A300\\Cheque 309070.tif: 320x640 1 signature, 1 reciever, 1 account, 1 amount, 11.3ms\n",
      "Speed: 2.1ms preprocess, 11.3ms inference, 0.0ms postprocess per image at shape (1, 3, 320, 640)\n",
      "Class: signature, Shape: (125, 300)\n",
      "Saved cropped image: E:/Document Verfication/temp_images\\extracted_signature_0.png\n",
      "Class: amount, Shape: (104, 452)\n",
      "Saved cropped image: E:/Document Verfication/temp_images\\extracted_amount_1.png\n",
      "Class: account, Shape: (74, 314)\n",
      "Saved cropped image: E:/Document Verfication/temp_images\\extracted_account_2.png\n",
      "Class: reciever, Shape: (100, 739)\n",
      "Saved cropped image: E:/Document Verfication/temp_images\\extracted_reciever_3.png\n",
      "911010049001545 \n",
      "\n"
     ]
    },
    {
     "name": "stderr",
     "output_type": "stream",
     "text": [
      "Processing images:  32%|███▏      | 38/118 [00:05<00:11,  7.05it/s]"
     ]
    },
    {
     "name": "stdout",
     "output_type": "stream",
     "text": [
      "\n",
      "image 1/1 e:\\Document Verfication\\Sample Images\\IDRBT Cheque Image Dataset\\A300\\Cheque 309071.tif: 320x640 1 signature, 1 reciever, 1 account, 1 amount, 20.7ms\n",
      "Speed: 0.0ms preprocess, 20.7ms inference, 0.0ms postprocess per image at shape (1, 3, 320, 640)\n",
      "Class: signature, Shape: (126, 291)\n",
      "Saved cropped image: E:/Document Verfication/temp_images\\extracted_signature_0.png\n",
      "Class: amount, Shape: (106, 453)\n",
      "Saved cropped image: E:/Document Verfication/temp_images\\extracted_amount_1.png\n",
      "Class: account, Shape: (73, 314)\n",
      "Saved cropped image: E:/Document Verfication/temp_images\\extracted_account_2.png\n",
      "Class: reciever, Shape: (97, 717)\n",
      "Saved cropped image: E:/Document Verfication/temp_images\\extracted_reciever_3.png\n",
      "911010049001545 \n",
      "\n"
     ]
    },
    {
     "name": "stderr",
     "output_type": "stream",
     "text": [
      "Processing images:  33%|███▎      | 39/118 [00:06<00:11,  7.10it/s]"
     ]
    },
    {
     "name": "stdout",
     "output_type": "stream",
     "text": [
      "\n",
      "image 1/1 e:\\Document Verfication\\Sample Images\\IDRBT Cheque Image Dataset\\A300\\Cheque 309072.tif: 320x640 1 signature, 1 reciever, 1 account, 1 amount, 20.0ms\n",
      "Speed: 0.0ms preprocess, 20.0ms inference, 0.0ms postprocess per image at shape (1, 3, 320, 640)\n",
      "Class: amount, Shape: (109, 357)\n",
      "Saved cropped image: E:/Document Verfication/temp_images\\extracted_amount_0.png\n",
      "Class: account, Shape: (69, 320)\n",
      "Saved cropped image: E:/Document Verfication/temp_images\\extracted_account_1.png\n",
      "Class: signature, Shape: (113, 246)\n",
      "Saved cropped image: E:/Document Verfication/temp_images\\extracted_signature_2.png\n",
      "Class: reciever, Shape: (116, 1062)\n",
      "Saved cropped image: E:/Document Verfication/temp_images\\extracted_reciever_3.png\n",
      "911010049001545 \n",
      "\n"
     ]
    },
    {
     "name": "stderr",
     "output_type": "stream",
     "text": [
      "Processing images:  34%|███▍      | 40/118 [00:06<00:10,  7.23it/s]"
     ]
    },
    {
     "name": "stdout",
     "output_type": "stream",
     "text": [
      "\n",
      "image 1/1 e:\\Document Verfication\\Sample Images\\IDRBT Cheque Image Dataset\\A300\\Cheque 309073.tif: 320x640 1 signature, 1 reciever, 1 account, 1 amount, 10.0ms\n",
      "Speed: 0.0ms preprocess, 10.0ms inference, 7.4ms postprocess per image at shape (1, 3, 320, 640)\n",
      "Class: amount, Shape: (103, 357)\n",
      "Saved cropped image: E:/Document Verfication/temp_images\\extracted_amount_0.png\n",
      "Class: signature, Shape: (100, 241)\n",
      "Saved cropped image: E:/Document Verfication/temp_images\\extracted_signature_1.png\n",
      "Class: account, Shape: (73, 323)\n",
      "Saved cropped image: E:/Document Verfication/temp_images\\extracted_account_2.png\n",
      "Class: reciever, Shape: (115, 1095)\n",
      "Saved cropped image: E:/Document Verfication/temp_images\\extracted_reciever_3.png\n"
     ]
    },
    {
     "name": "stderr",
     "output_type": "stream",
     "text": [
      "Processing images:  35%|███▍      | 41/118 [00:06<00:10,  7.27it/s]"
     ]
    },
    {
     "name": "stdout",
     "output_type": "stream",
     "text": [
      "911010049001545 \n",
      "\n",
      "\n",
      "image 1/1 e:\\Document Verfication\\Sample Images\\IDRBT Cheque Image Dataset\\A300\\Cheque 309074.tif: 320x640 1 signature, 1 reciever, 1 account, 1 amount, 14.8ms\n",
      "Speed: 0.0ms preprocess, 14.8ms inference, 0.0ms postprocess per image at shape (1, 3, 320, 640)\n",
      "Class: signature, Shape: (92, 254)\n",
      "Saved cropped image: E:/Document Verfication/temp_images\\extracted_signature_0.png\n",
      "Class: amount, Shape: (106, 384)\n",
      "Saved cropped image: E:/Document Verfication/temp_images\\extracted_amount_1.png\n",
      "Class: account, Shape: (71, 316)\n",
      "Saved cropped image: E:/Document Verfication/temp_images\\extracted_account_2.png\n",
      "Class: reciever, Shape: (123, 733)\n",
      "Saved cropped image: E:/Document Verfication/temp_images\\extracted_reciever_3.png\n"
     ]
    },
    {
     "name": "stderr",
     "output_type": "stream",
     "text": [
      "Processing images:  36%|███▌      | 42/118 [00:06<00:10,  7.37it/s]"
     ]
    },
    {
     "name": "stdout",
     "output_type": "stream",
     "text": [
      "911010049001545 \n",
      "\n",
      "\n",
      "image 1/1 e:\\Document Verfication\\Sample Images\\IDRBT Cheque Image Dataset\\A300\\Cheque 309075.tif: 320x640 1 signature, 1 reciever, 1 account, 1 amount, 10.1ms\n",
      "Speed: 0.0ms preprocess, 10.1ms inference, 10.0ms postprocess per image at shape (1, 3, 320, 640)\n",
      "Class: amount, Shape: (106, 361)\n",
      "Saved cropped image: E:/Document Verfication/temp_images\\extracted_amount_0.png\n",
      "Class: signature, Shape: (120, 260)\n",
      "Saved cropped image: E:/Document Verfication/temp_images\\extracted_signature_1.png\n",
      "Class: account, Shape: (73, 326)\n",
      "Saved cropped image: E:/Document Verfication/temp_images\\extracted_account_2.png\n",
      "Class: reciever, Shape: (114, 970)\n",
      "Saved cropped image: E:/Document Verfication/temp_images\\extracted_reciever_3.png\n"
     ]
    },
    {
     "name": "stderr",
     "output_type": "stream",
     "text": [
      "Processing images:  36%|███▋      | 43/118 [00:06<00:10,  7.25it/s]"
     ]
    },
    {
     "name": "stdout",
     "output_type": "stream",
     "text": [
      "911010049001545 \n",
      "\n",
      "\n",
      "image 1/1 e:\\Document Verfication\\Sample Images\\IDRBT Cheque Image Dataset\\A300\\Cheque 309076.tif: 320x640 1 signature, 1 reciever, 1 account, 1 amount, 17.4ms\n",
      "Speed: 1.3ms preprocess, 17.4ms inference, 9.2ms postprocess per image at shape (1, 3, 320, 640)\n",
      "Class: signature, Shape: (102, 235)\n",
      "Saved cropped image: E:/Document Verfication/temp_images\\extracted_signature_0.png\n",
      "Class: amount, Shape: (103, 336)\n",
      "Saved cropped image: E:/Document Verfication/temp_images\\extracted_amount_1.png\n",
      "Class: account, Shape: (69, 316)\n",
      "Saved cropped image: E:/Document Verfication/temp_images\\extracted_account_2.png\n",
      "Class: reciever, Shape: (105, 894)\n",
      "Saved cropped image: E:/Document Verfication/temp_images\\extracted_reciever_3.png\n"
     ]
    },
    {
     "name": "stderr",
     "output_type": "stream",
     "text": [
      "Processing images:  37%|███▋      | 44/118 [00:06<00:10,  6.99it/s]"
     ]
    },
    {
     "name": "stdout",
     "output_type": "stream",
     "text": [
      "911010049001545 \n",
      "\n",
      "\n",
      "image 1/1 e:\\Document Verfication\\Sample Images\\IDRBT Cheque Image Dataset\\A300\\Cheque 309077.tif: 320x640 1 signature, 1 reciever, 1 account, 1 amount, 20.0ms\n",
      "Speed: 0.0ms preprocess, 20.0ms inference, 0.0ms postprocess per image at shape (1, 3, 320, 640)\n",
      "Class: signature, Shape: (150, 250)\n",
      "Saved cropped image: E:/Document Verfication/temp_images\\extracted_signature_0.png\n",
      "Class: account, Shape: (69, 318)\n",
      "Saved cropped image: E:/Document Verfication/temp_images\\extracted_account_1.png\n",
      "Class: amount, Shape: (109, 279)\n",
      "Saved cropped image: E:/Document Verfication/temp_images\\extracted_amount_2.png\n",
      "Class: reciever, Shape: (111, 422)\n",
      "Saved cropped image: E:/Document Verfication/temp_images\\extracted_reciever_3.png\n",
      "911010049001545 \n",
      "\n"
     ]
    },
    {
     "name": "stderr",
     "output_type": "stream",
     "text": [
      "Processing images:  38%|███▊      | 45/118 [00:06<00:10,  6.88it/s]"
     ]
    },
    {
     "name": "stdout",
     "output_type": "stream",
     "text": [
      "\n",
      "image 1/1 e:\\Document Verfication\\Sample Images\\IDRBT Cheque Image Dataset\\A300\\Cheque 309078.tif: 320x640 1 signature, 1 reciever, 1 account, 1 amount, 11.2ms\n",
      "Speed: 4.0ms preprocess, 11.2ms inference, 7.5ms postprocess per image at shape (1, 3, 320, 640)\n",
      "Class: amount, Shape: (108, 351)\n",
      "Saved cropped image: E:/Document Verfication/temp_images\\extracted_amount_0.png\n",
      "Class: signature, Shape: (160, 199)\n",
      "Saved cropped image: E:/Document Verfication/temp_images\\extracted_signature_1.png\n",
      "Class: account, Shape: (70, 317)\n",
      "Saved cropped image: E:/Document Verfication/temp_images\\extracted_account_2.png\n",
      "Class: reciever, Shape: (102, 864)\n",
      "Saved cropped image: E:/Document Verfication/temp_images\\extracted_reciever_3.png\n"
     ]
    },
    {
     "name": "stderr",
     "output_type": "stream",
     "text": [
      "Processing images:  39%|███▉      | 46/118 [00:07<00:10,  6.68it/s]"
     ]
    },
    {
     "name": "stdout",
     "output_type": "stream",
     "text": [
      "911010049001545 \n",
      "\n",
      "\n",
      "image 1/1 e:\\Document Verfication\\Sample Images\\IDRBT Cheque Image Dataset\\A300\\Cheque 309079.tif: 320x640 1 signature, 1 reciever, 1 account, 1 amount, 10.0ms\n",
      "Speed: 0.0ms preprocess, 10.0ms inference, 0.0ms postprocess per image at shape (1, 3, 320, 640)\n",
      "Class: amount, Shape: (105, 372)\n",
      "Saved cropped image: E:/Document Verfication/temp_images\\extracted_amount_0.png\n",
      "Class: account, Shape: (69, 318)\n",
      "Saved cropped image: E:/Document Verfication/temp_images\\extracted_account_1.png\n",
      "Class: signature, Shape: (168, 208)\n",
      "Saved cropped image: E:/Document Verfication/temp_images\\extracted_signature_2.png\n",
      "Class: reciever, Shape: (98, 660)\n",
      "Saved cropped image: E:/Document Verfication/temp_images\\extracted_reciever_3.png\n"
     ]
    },
    {
     "name": "stderr",
     "output_type": "stream",
     "text": [
      "Processing images:  40%|███▉      | 47/118 [00:07<00:10,  6.84it/s]"
     ]
    },
    {
     "name": "stdout",
     "output_type": "stream",
     "text": [
      "911010049001545 \n",
      "\n",
      "\n",
      "image 1/1 e:\\Document Verfication\\Sample Images\\IDRBT Cheque Image Dataset\\A300\\Cheque 309080.tif: 320x640 1 signature, 1 reciever, 1 account, 1 amount, 20.0ms\n",
      "Speed: 0.0ms preprocess, 20.0ms inference, 0.0ms postprocess per image at shape (1, 3, 320, 640)\n",
      "Class: amount, Shape: (107, 383)\n",
      "Saved cropped image: E:/Document Verfication/temp_images\\extracted_amount_0.png\n",
      "Class: account, Shape: (70, 315)\n",
      "Saved cropped image: E:/Document Verfication/temp_images\\extracted_account_1.png\n",
      "Class: signature, Shape: (162, 206)\n",
      "Saved cropped image: E:/Document Verfication/temp_images\\extracted_signature_2.png\n",
      "Class: reciever, Shape: (101, 494)\n",
      "Saved cropped image: E:/Document Verfication/temp_images\\extracted_reciever_3.png\n"
     ]
    },
    {
     "name": "stderr",
     "output_type": "stream",
     "text": [
      "Processing images:  41%|████      | 48/118 [00:07<00:10,  6.61it/s]"
     ]
    },
    {
     "name": "stdout",
     "output_type": "stream",
     "text": [
      "911010049001545 \n",
      "\n",
      "\n",
      "image 1/1 e:\\Document Verfication\\Sample Images\\IDRBT Cheque Image Dataset\\A300\\Cheque 309082.tif: 320x640 1 signature, 1 reciever, 1 account, 1 amount, 10.2ms\n",
      "Speed: 2.4ms preprocess, 10.2ms inference, 0.0ms postprocess per image at shape (1, 3, 320, 640)\n",
      "Class: amount, Shape: (106, 363)\n",
      "Saved cropped image: E:/Document Verfication/temp_images\\extracted_amount_0.png\n",
      "Class: account, Shape: (74, 312)\n",
      "Saved cropped image: E:/Document Verfication/temp_images\\extracted_account_1.png\n",
      "Class: signature, Shape: (139, 202)\n",
      "Saved cropped image: E:/Document Verfication/temp_images\\extracted_signature_2.png\n",
      "Class: reciever, Shape: (112, 693)\n",
      "Saved cropped image: E:/Document Verfication/temp_images\\extracted_reciever_3.png\n"
     ]
    },
    {
     "name": "stderr",
     "output_type": "stream",
     "text": [
      "Processing images:  42%|████▏     | 49/118 [00:07<00:10,  6.65it/s]"
     ]
    },
    {
     "name": "stdout",
     "output_type": "stream",
     "text": [
      "911010049001545 \n",
      "\n",
      "\n",
      "image 1/1 e:\\Document Verfication\\Sample Images\\IDRBT Cheque Image Dataset\\A300\\Cheque 309083.tif: 320x640 1 signature, 1 reciever, 1 account, 1 amount, 10.0ms\n",
      "Speed: 0.0ms preprocess, 10.0ms inference, 10.0ms postprocess per image at shape (1, 3, 320, 640)\n",
      "Class: signature, Shape: (132, 211)\n",
      "Saved cropped image: E:/Document Verfication/temp_images\\extracted_signature_0.png\n",
      "Class: account, Shape: (71, 326)\n",
      "Saved cropped image: E:/Document Verfication/temp_images\\extracted_account_1.png\n",
      "Class: amount, Shape: (108, 275)\n",
      "Saved cropped image: E:/Document Verfication/temp_images\\extracted_amount_2.png\n",
      "Class: reciever, Shape: (99, 682)\n",
      "Saved cropped image: E:/Document Verfication/temp_images\\extracted_reciever_3.png\n"
     ]
    },
    {
     "name": "stderr",
     "output_type": "stream",
     "text": [
      "Processing images:  42%|████▏     | 50/118 [00:07<00:10,  6.57it/s]"
     ]
    },
    {
     "name": "stdout",
     "output_type": "stream",
     "text": [
      "911010049001545 \n",
      "\n",
      "\n",
      "image 1/1 e:\\Document Verfication\\Sample Images\\IDRBT Cheque Image Dataset\\A300\\Cheque 309084.tif: 320x640 1 signature, 1 reciever, 1 account, 1 amount, 20.0ms\n",
      "Speed: 0.0ms preprocess, 20.0ms inference, 0.0ms postprocess per image at shape (1, 3, 320, 640)\n",
      "Class: amount, Shape: (106, 398)\n",
      "Saved cropped image: E:/Document Verfication/temp_images\\extracted_amount_0.png\n",
      "Class: account, Shape: (71, 324)\n",
      "Saved cropped image: E:/Document Verfication/temp_images\\extracted_account_1.png\n",
      "Class: signature, Shape: (136, 268)\n",
      "Saved cropped image: E:/Document Verfication/temp_images\\extracted_signature_2.png\n",
      "Class: reciever, Shape: (110, 569)\n",
      "Saved cropped image: E:/Document Verfication/temp_images\\extracted_reciever_3.png\n"
     ]
    },
    {
     "name": "stderr",
     "output_type": "stream",
     "text": [
      "Processing images:  43%|████▎     | 51/118 [00:07<00:10,  6.41it/s]"
     ]
    },
    {
     "name": "stdout",
     "output_type": "stream",
     "text": [
      "911010049001545 \n",
      "\n",
      "\n",
      "image 1/1 e:\\Document Verfication\\Sample Images\\IDRBT Cheque Image Dataset\\A300\\Cheque 309086.tif: 320x640 1 signature, 1 reciever, 1 account, 1 amount, 20.0ms\n",
      "Speed: 0.0ms preprocess, 20.0ms inference, 0.0ms postprocess per image at shape (1, 3, 320, 640)\n",
      "Class: account, Shape: (72, 314)\n",
      "Saved cropped image: E:/Document Verfication/temp_images\\extracted_account_0.png\n",
      "Class: amount, Shape: (110, 340)\n",
      "Saved cropped image: E:/Document Verfication/temp_images\\extracted_amount_1.png\n",
      "Class: signature, Shape: (99, 218)\n",
      "Saved cropped image: E:/Document Verfication/temp_images\\extracted_signature_2.png\n",
      "Class: reciever, Shape: (106, 978)\n",
      "Saved cropped image: E:/Document Verfication/temp_images\\extracted_reciever_3.png\n"
     ]
    },
    {
     "name": "stderr",
     "output_type": "stream",
     "text": [
      "Processing images:  44%|████▍     | 52/118 [00:07<00:10,  6.38it/s]"
     ]
    },
    {
     "name": "stdout",
     "output_type": "stream",
     "text": [
      "911010049001545 \n",
      "\n",
      "\n",
      "image 1/1 e:\\Document Verfication\\Sample Images\\IDRBT Cheque Image Dataset\\A300\\Cheque 309089.tif: 320x640 1 signature, 1 reciever, 1 account, 1 amount, 26.8ms\n",
      "Speed: 6.6ms preprocess, 26.8ms inference, 0.0ms postprocess per image at shape (1, 3, 320, 640)\n",
      "Class: amount, Shape: (105, 345)\n",
      "Saved cropped image: E:/Document Verfication/temp_images\\extracted_amount_0.png\n",
      "Class: signature, Shape: (149, 238)\n",
      "Saved cropped image: E:/Document Verfication/temp_images\\extracted_signature_1.png\n",
      "Class: account, Shape: (67, 314)\n",
      "Saved cropped image: E:/Document Verfication/temp_images\\extracted_account_2.png\n",
      "Class: reciever, Shape: (100, 679)\n",
      "Saved cropped image: E:/Document Verfication/temp_images\\extracted_reciever_3.png\n",
      "911010049001545 \n",
      "\n"
     ]
    },
    {
     "name": "stderr",
     "output_type": "stream",
     "text": [
      "Processing images:  45%|████▍     | 53/118 [00:08<00:10,  6.04it/s]"
     ]
    },
    {
     "name": "stdout",
     "output_type": "stream",
     "text": [
      "\n",
      "image 1/1 e:\\Document Verfication\\Sample Images\\IDRBT Cheque Image Dataset\\A300\\Cheque 309090.tif: 320x640 1 signature, 1 reciever, 1 account, 1 amount, 23.3ms\n",
      "Speed: 0.0ms preprocess, 23.3ms inference, 0.0ms postprocess per image at shape (1, 3, 320, 640)\n",
      "Class: signature, Shape: (162, 167)\n",
      "Saved cropped image: E:/Document Verfication/temp_images\\extracted_signature_0.png\n",
      "Class: account, Shape: (70, 322)\n",
      "Saved cropped image: E:/Document Verfication/temp_images\\extracted_account_1.png\n",
      "Class: amount, Shape: (105, 362)\n",
      "Saved cropped image: E:/Document Verfication/temp_images\\extracted_amount_2.png\n",
      "Class: reciever, Shape: (105, 734)\n",
      "Saved cropped image: E:/Document Verfication/temp_images\\extracted_reciever_3.png\n"
     ]
    },
    {
     "name": "stderr",
     "output_type": "stream",
     "text": [
      "Processing images:  46%|████▌     | 54/118 [00:08<00:10,  6.13it/s]"
     ]
    },
    {
     "name": "stdout",
     "output_type": "stream",
     "text": [
      "911010049001545 \n",
      "\n",
      "\n",
      "image 1/1 e:\\Document Verfication\\Sample Images\\IDRBT Cheque Image Dataset\\A300\\Cheque 309091.tif: 320x640 1 signature, 1 reciever, 1 account, 1 amount, 20.1ms\n",
      "Speed: 0.0ms preprocess, 20.1ms inference, 5.4ms postprocess per image at shape (1, 3, 320, 640)\n",
      "Class: reciever, Shape: (112, 918)\n",
      "Saved cropped image: E:/Document Verfication/temp_images\\extracted_reciever_0.png\n",
      "Class: amount, Shape: (106, 275)\n",
      "Saved cropped image: E:/Document Verfication/temp_images\\extracted_amount_1.png\n",
      "Class: signature, Shape: (121, 361)\n",
      "Saved cropped image: E:/Document Verfication/temp_images\\extracted_signature_2.png\n",
      "Class: account, Shape: (69, 321)\n",
      "Saved cropped image: E:/Document Verfication/temp_images\\extracted_account_3.png\n"
     ]
    },
    {
     "name": "stderr",
     "output_type": "stream",
     "text": [
      "Processing images:  47%|████▋     | 55/118 [00:08<00:10,  6.08it/s]"
     ]
    },
    {
     "name": "stdout",
     "output_type": "stream",
     "text": [
      "911010049001545 \n",
      "\n",
      "\n",
      "image 1/1 e:\\Document Verfication\\Sample Images\\IDRBT Cheque Image Dataset\\A300\\Cheque 309092.tif: 320x640 1 signature, 1 reciever, 1 account, 1 amount, 10.4ms\n",
      "Speed: 6.3ms preprocess, 10.4ms inference, 0.0ms postprocess per image at shape (1, 3, 320, 640)\n",
      "Class: signature, Shape: (123, 333)\n",
      "Saved cropped image: E:/Document Verfication/temp_images\\extracted_signature_0.png\n",
      "Class: account, Shape: (70, 319)\n",
      "Saved cropped image: E:/Document Verfication/temp_images\\extracted_account_1.png\n",
      "Class: reciever, Shape: (127, 908)\n",
      "Saved cropped image: E:/Document Verfication/temp_images\\extracted_reciever_2.png\n",
      "Class: amount, Shape: (104, 260)\n",
      "Saved cropped image: E:/Document Verfication/temp_images\\extracted_amount_3.png\n"
     ]
    },
    {
     "name": "stderr",
     "output_type": "stream",
     "text": [
      "Processing images:  47%|████▋     | 56/118 [00:08<00:10,  6.12it/s]"
     ]
    },
    {
     "name": "stdout",
     "output_type": "stream",
     "text": [
      "911010049001545 \n",
      "\n",
      "\n",
      "image 1/1 e:\\Document Verfication\\Sample Images\\IDRBT Cheque Image Dataset\\A300\\Cheque 309093.tif: 320x640 1 signature, 1 reciever, 1 account, 1 amount, 20.9ms\n",
      "Speed: 0.0ms preprocess, 20.9ms inference, 1.1ms postprocess per image at shape (1, 3, 320, 640)\n",
      "Class: amount, Shape: (109, 328)\n",
      "Saved cropped image: E:/Document Verfication/temp_images\\extracted_amount_0.png\n",
      "Class: account, Shape: (75, 322)\n",
      "Saved cropped image: E:/Document Verfication/temp_images\\extracted_account_1.png\n",
      "Class: signature, Shape: (110, 302)\n",
      "Saved cropped image: E:/Document Verfication/temp_images\\extracted_signature_2.png\n",
      "Class: reciever, Shape: (123, 1044)\n",
      "Saved cropped image: E:/Document Verfication/temp_images\\extracted_reciever_3.png\n"
     ]
    },
    {
     "name": "stderr",
     "output_type": "stream",
     "text": [
      "Processing images:  48%|████▊     | 57/118 [00:08<00:10,  5.97it/s]"
     ]
    },
    {
     "name": "stdout",
     "output_type": "stream",
     "text": [
      "911010049001545 \n",
      "\n",
      "\n",
      "image 1/1 e:\\Document Verfication\\Sample Images\\IDRBT Cheque Image Dataset\\A300\\Cheque 309094.tif: 320x640 1 signature, 1 reciever, 1 account, 1 amount, 15.0ms\n",
      "Speed: 0.0ms preprocess, 15.0ms inference, 10.0ms postprocess per image at shape (1, 3, 320, 640)\n",
      "Class: amount, Shape: (106, 286)\n",
      "Saved cropped image: E:/Document Verfication/temp_images\\extracted_amount_0.png\n",
      "Class: signature, Shape: (102, 336)\n",
      "Saved cropped image: E:/Document Verfication/temp_images\\extracted_signature_1.png\n",
      "Class: account, Shape: (68, 319)\n",
      "Saved cropped image: E:/Document Verfication/temp_images\\extracted_account_2.png\n",
      "Class: reciever, Shape: (119, 788)\n",
      "Saved cropped image: E:/Document Verfication/temp_images\\extracted_reciever_3.png\n"
     ]
    },
    {
     "name": "stderr",
     "output_type": "stream",
     "text": [
      "Processing images:  49%|████▉     | 58/118 [00:08<00:10,  5.87it/s]"
     ]
    },
    {
     "name": "stdout",
     "output_type": "stream",
     "text": [
      "911010049001545 \n",
      "\n",
      "\n",
      "image 1/1 e:\\Document Verfication\\Sample Images\\IDRBT Cheque Image Dataset\\A300\\Cheque 309095.tif: 320x640 1 signature, 1 reciever, 1 account, 1 amount, 20.4ms\n",
      "Speed: 0.0ms preprocess, 20.4ms inference, 0.0ms postprocess per image at shape (1, 3, 320, 640)\n",
      "Class: signature, Shape: (102, 283)\n",
      "Saved cropped image: E:/Document Verfication/temp_images\\extracted_signature_0.png\n",
      "Class: amount, Shape: (105, 287)\n",
      "Saved cropped image: E:/Document Verfication/temp_images\\extracted_amount_1.png\n",
      "Class: account, Shape: (71, 323)\n",
      "Saved cropped image: E:/Document Verfication/temp_images\\extracted_account_2.png\n",
      "Class: reciever, Shape: (105, 655)\n",
      "Saved cropped image: E:/Document Verfication/temp_images\\extracted_reciever_3.png\n"
     ]
    },
    {
     "name": "stderr",
     "output_type": "stream",
     "text": [
      "Processing images:  50%|█████     | 59/118 [00:09<00:10,  5.87it/s]"
     ]
    },
    {
     "name": "stdout",
     "output_type": "stream",
     "text": [
      "911010049001545 \n",
      "\n",
      "\n",
      "image 1/1 e:\\Document Verfication\\Sample Images\\IDRBT Cheque Image Dataset\\A300\\Cheque 309096.tif: 320x640 1 signature, 1 reciever, 1 account, 1 amount, 13.6ms\n",
      "Speed: 0.0ms preprocess, 13.6ms inference, 8.0ms postprocess per image at shape (1, 3, 320, 640)\n",
      "Class: account, Shape: (71, 323)\n",
      "Saved cropped image: E:/Document Verfication/temp_images\\extracted_account_0.png\n",
      "Class: amount, Shape: (109, 272)\n",
      "Saved cropped image: E:/Document Verfication/temp_images\\extracted_amount_1.png\n",
      "Class: reciever, Shape: (96, 858)\n",
      "Saved cropped image: E:/Document Verfication/temp_images\\extracted_reciever_2.png\n",
      "Class: signature, Shape: (88, 285)\n",
      "Saved cropped image: E:/Document Verfication/temp_images\\extracted_signature_3.png\n",
      "911010049001545 \n",
      "\n"
     ]
    },
    {
     "name": "stderr",
     "output_type": "stream",
     "text": [
      "Processing images:  51%|█████     | 60/118 [00:09<00:10,  5.79it/s]"
     ]
    },
    {
     "name": "stdout",
     "output_type": "stream",
     "text": [
      "\n",
      "image 1/1 e:\\Document Verfication\\Sample Images\\IDRBT Cheque Image Dataset\\A300\\Cheque 309097.tif: 320x640 1 signature, 1 reciever, 1 account, 1 amount, 23.9ms\n",
      "Speed: 0.0ms preprocess, 23.9ms inference, 0.0ms postprocess per image at shape (1, 3, 320, 640)\n",
      "Class: amount, Shape: (103, 261)\n"
     ]
    },
    {
     "name": "stderr",
     "output_type": "stream",
     "text": [
      "Processing images:  52%|█████▏    | 61/118 [00:09<00:09,  5.94it/s]"
     ]
    },
    {
     "name": "stdout",
     "output_type": "stream",
     "text": [
      "Saved cropped image: E:/Document Verfication/temp_images\\extracted_amount_0.png\n",
      "Class: signature, Shape: (107, 288)\n",
      "Saved cropped image: E:/Document Verfication/temp_images\\extracted_signature_1.png\n",
      "Class: account, Shape: (70, 314)\n",
      "Saved cropped image: E:/Document Verfication/temp_images\\extracted_account_2.png\n",
      "Class: reciever, Shape: (90, 841)\n",
      "Saved cropped image: E:/Document Verfication/temp_images\\extracted_reciever_3.png\n",
      "911010049001545 \n",
      "\n",
      "\n",
      "image 1/1 e:\\Document Verfication\\Sample Images\\IDRBT Cheque Image Dataset\\A300\\Cheque 309098.tif: 320x640 1 signature, 1 reciever, 1 account, 1 amount, 10.7ms\n",
      "Speed: 5.2ms preprocess, 10.7ms inference, 2.0ms postprocess per image at shape (1, 3, 320, 640)\n",
      "Class: signature, Shape: (100, 305)\n",
      "Saved cropped image: E:/Document Verfication/temp_images\\extracted_signature_0.png\n",
      "Class: account, Shape: (69, 314)\n",
      "Saved cropped image: E:/Document Verfication/temp_images\\extracted_account_1.png\n",
      "Class: amount, Shape: (107, 366)\n",
      "Saved cropped image: E:/Document Verfication/temp_images\\extracted_amount_2.png\n",
      "Class: reciever, Shape: (94, 809)\n",
      "Saved cropped image: E:/Document Verfication/temp_images\\extracted_reciever_3.png\n"
     ]
    },
    {
     "name": "stderr",
     "output_type": "stream",
     "text": [
      "Processing images:  53%|█████▎    | 62/118 [00:09<00:09,  6.14it/s]"
     ]
    },
    {
     "name": "stdout",
     "output_type": "stream",
     "text": [
      "911010049001545 \n",
      "\n",
      "\n",
      "image 1/1 e:\\Document Verfication\\Sample Images\\IDRBT Cheque Image Dataset\\A300\\Cheque 309099.tif: 320x640 1 signature, 1 reciever, 1 account, 1 amount, 9.9ms\n",
      "Speed: 3.1ms preprocess, 9.9ms inference, 0.0ms postprocess per image at shape (1, 3, 320, 640)\n",
      "Class: signature, Shape: (93, 260)\n",
      "Saved cropped image: E:/Document Verfication/temp_images\\extracted_signature_0.png\n",
      "Class: amount, Shape: (104, 355)\n",
      "Saved cropped image: E:/Document Verfication/temp_images\\extracted_amount_1.png\n",
      "Class: account, Shape: (70, 321)\n",
      "Saved cropped image: E:/Document Verfication/temp_images\\extracted_account_2.png\n",
      "Class: reciever, Shape: (103, 894)\n",
      "Saved cropped image: E:/Document Verfication/temp_images\\extracted_reciever_3.png\n"
     ]
    },
    {
     "name": "stderr",
     "output_type": "stream",
     "text": [
      "Processing images:  53%|█████▎    | 63/118 [00:09<00:08,  6.13it/s]"
     ]
    },
    {
     "name": "stdout",
     "output_type": "stream",
     "text": [
      "911010049001545 \n",
      "\n",
      "\n",
      "image 1/1 e:\\Document Verfication\\Sample Images\\IDRBT Cheque Image Dataset\\A300\\Cheque 309100.tif: 320x640 1 signature, 1 reciever, 1 account, 1 amount, 14.1ms\n",
      "Speed: 7.5ms preprocess, 14.1ms inference, 0.0ms postprocess per image at shape (1, 3, 320, 640)\n",
      "Class: amount, Shape: (102, 339)\n",
      "Saved cropped image: E:/Document Verfication/temp_images\\extracted_amount_0.png\n",
      "Class: account, Shape: (72, 317)\n",
      "Saved cropped image: E:/Document Verfication/temp_images\\extracted_account_1.png\n",
      "Class: signature, Shape: (82, 253)\n",
      "Saved cropped image: E:/Document Verfication/temp_images\\extracted_signature_2.png\n",
      "Class: reciever, Shape: (124, 902)\n",
      "Saved cropped image: E:/Document Verfication/temp_images\\extracted_reciever_3.png\n"
     ]
    },
    {
     "name": "stderr",
     "output_type": "stream",
     "text": [
      "Processing images:  54%|█████▍    | 64/118 [00:09<00:08,  6.17it/s]"
     ]
    },
    {
     "name": "stdout",
     "output_type": "stream",
     "text": [
      "911010049001545 \n",
      "\n",
      "\n",
      "image 1/1 e:\\Document Verfication\\Sample Images\\IDRBT Cheque Image Dataset\\A300\\Cheque 309101.tif: 320x640 1 signature, 1 reciever, 1 account, 1 amount, 17.0ms\n",
      "Speed: 0.0ms preprocess, 17.0ms inference, 0.0ms postprocess per image at shape (1, 3, 320, 640)\n",
      "Class: amount, Shape: (102, 337)\n",
      "Saved cropped image: E:/Document Verfication/temp_images\\extracted_amount_0.png\n",
      "Class: signature, Shape: (96, 284)\n",
      "Saved cropped image: E:/Document Verfication/temp_images\\extracted_signature_1.png\n",
      "Class: account, Shape: (71, 317)\n",
      "Saved cropped image: E:/Document Verfication/temp_images\\extracted_account_2.png\n",
      "Class: reciever, Shape: (122, 1126)\n",
      "Saved cropped image: E:/Document Verfication/temp_images\\extracted_reciever_3.png\n"
     ]
    },
    {
     "name": "stderr",
     "output_type": "stream",
     "text": [
      "Processing images:  55%|█████▌    | 65/118 [00:10<00:08,  6.37it/s]"
     ]
    },
    {
     "name": "stdout",
     "output_type": "stream",
     "text": [
      "911010049001545 \n",
      "\n",
      "\n",
      "image 1/1 e:\\Document Verfication\\Sample Images\\IDRBT Cheque Image Dataset\\A300\\Cheque 309102.tif: 320x640 1 signature, 1 reciever, 1 account, 1 amount, 13.1ms\n",
      "Speed: 2.3ms preprocess, 13.1ms inference, 2.0ms postprocess per image at shape (1, 3, 320, 640)\n",
      "Class: amount, Shape: (109, 374)\n",
      "Saved cropped image: E:/Document Verfication/temp_images\\extracted_amount_0.png\n",
      "Class: account, Shape: (69, 319)\n",
      "Saved cropped image: E:/Document Verfication/temp_images\\extracted_account_1.png\n",
      "Class: signature, Shape: (101, 293)\n",
      "Saved cropped image: E:/Document Verfication/temp_images\\extracted_signature_2.png\n",
      "Class: reciever, Shape: (121, 1186)\n",
      "Saved cropped image: E:/Document Verfication/temp_images\\extracted_reciever_3.png\n"
     ]
    },
    {
     "name": "stderr",
     "output_type": "stream",
     "text": [
      "Processing images:  56%|█████▌    | 66/118 [00:10<00:07,  6.57it/s]"
     ]
    },
    {
     "name": "stdout",
     "output_type": "stream",
     "text": [
      "911010049001545 \n",
      "\n",
      "\n",
      "image 1/1 e:\\Document Verfication\\Sample Images\\IDRBT Cheque Image Dataset\\A300\\Cheque 309103.tif: 320x640 1 signature, 1 reciever, 1 account, 1 amount, 21.8ms\n",
      "Speed: 4.0ms preprocess, 21.8ms inference, 5.9ms postprocess per image at shape (1, 3, 320, 640)\n",
      "Class: amount, Shape: (101, 376)\n",
      "Saved cropped image: E:/Document Verfication/temp_images\\extracted_amount_0.png\n",
      "Class: signature, Shape: (100, 279)\n",
      "Saved cropped image: E:/Document Verfication/temp_images\\extracted_signature_1.png\n",
      "Class: account, Shape: (70, 311)\n",
      "Saved cropped image: E:/Document Verfication/temp_images\\extracted_account_2.png\n",
      "Class: reciever, Shape: (117, 898)\n",
      "Saved cropped image: E:/Document Verfication/temp_images\\extracted_reciever_3.png\n",
      "911010049001545 \n",
      "\n"
     ]
    },
    {
     "name": "stderr",
     "output_type": "stream",
     "text": [
      "Processing images:  57%|█████▋    | 67/118 [00:10<00:08,  6.23it/s]"
     ]
    },
    {
     "name": "stdout",
     "output_type": "stream",
     "text": [
      "\n",
      "image 1/1 e:\\Document Verfication\\Sample Images\\IDRBT Cheque Image Dataset\\A300\\Cheque 309104.tif: 320x640 1 signature, 1 reciever, 1 account, 1 amount, 12.9ms\n",
      "Speed: 0.0ms preprocess, 12.9ms inference, 1.5ms postprocess per image at shape (1, 3, 320, 640)\n",
      "Class: account, Shape: (72, 316)\n",
      "Saved cropped image: E:/Document Verfication/temp_images\\extracted_account_0.png\n",
      "Class: signature, Shape: (84, 270)\n",
      "Saved cropped image: E:/Document Verfication/temp_images\\extracted_signature_1.png\n",
      "Class: amount, Shape: (108, 356)\n",
      "Saved cropped image: E:/Document Verfication/temp_images\\extracted_amount_2.png\n",
      "Class: reciever, Shape: (114, 917)\n",
      "Saved cropped image: E:/Document Verfication/temp_images\\extracted_reciever_3.png\n"
     ]
    },
    {
     "name": "stderr",
     "output_type": "stream",
     "text": [
      "Processing images:  58%|█████▊    | 68/118 [00:10<00:07,  6.43it/s]"
     ]
    },
    {
     "name": "stdout",
     "output_type": "stream",
     "text": [
      "911010049001545 \n",
      "\n",
      "\n",
      "image 1/1 e:\\Document Verfication\\Sample Images\\IDRBT Cheque Image Dataset\\A300\\Cheque 309105.tif: 320x640 1 signature, 1 reciever, 1 account, 1 amount, 11.2ms\n",
      "Speed: 2.0ms preprocess, 11.2ms inference, 2.0ms postprocess per image at shape (1, 3, 320, 640)\n",
      "Class: amount, Shape: (106, 463)\n",
      "Saved cropped image: E:/Document Verfication/temp_images\\extracted_amount_0.png\n",
      "Class: signature, Shape: (210, 394)\n",
      "Saved cropped image: E:/Document Verfication/temp_images\\extracted_signature_1.png\n",
      "Class: account, Shape: (72, 321)\n",
      "Saved cropped image: E:/Document Verfication/temp_images\\extracted_account_2.png\n",
      "Class: reciever, Shape: (120, 816)\n",
      "Saved cropped image: E:/Document Verfication/temp_images\\extracted_reciever_3.png\n"
     ]
    },
    {
     "name": "stderr",
     "output_type": "stream",
     "text": [
      "Processing images:  58%|█████▊    | 69/118 [00:10<00:07,  6.33it/s]"
     ]
    },
    {
     "name": "stdout",
     "output_type": "stream",
     "text": [
      "911010049001545 \n",
      "\n",
      "\n",
      "image 1/1 e:\\Document Verfication\\Sample Images\\IDRBT Cheque Image Dataset\\A300\\Cheque 309106.tif: 320x640 1 signature, 1 reciever, 1 account, 1 amount, 13.5ms\n",
      "Speed: 0.0ms preprocess, 13.5ms inference, 8.1ms postprocess per image at shape (1, 3, 320, 640)\n",
      "Class: account, Shape: (71, 309)\n",
      "Saved cropped image: E:/Document Verfication/temp_images\\extracted_account_0.png\n",
      "Class: signature, Shape: (195, 312)\n",
      "Saved cropped image: E:/Document Verfication/temp_images\\extracted_signature_1.png\n",
      "Class: amount, Shape: (110, 461)\n",
      "Saved cropped image: E:/Document Verfication/temp_images\\extracted_amount_2.png\n",
      "Class: reciever, Shape: (124, 985)\n",
      "Saved cropped image: E:/Document Verfication/temp_images\\extracted_reciever_3.png\n"
     ]
    },
    {
     "name": "stderr",
     "output_type": "stream",
     "text": [
      "Processing images:  59%|█████▉    | 70/118 [00:10<00:07,  6.25it/s]"
     ]
    },
    {
     "name": "stdout",
     "output_type": "stream",
     "text": [
      "911010049001545 \n",
      "\n",
      "\n",
      "image 1/1 e:\\Document Verfication\\Sample Images\\IDRBT Cheque Image Dataset\\A300\\Cheque 309107.tif: 320x640 1 signature, 1 reciever, 1 account, 1 amount, 10.8ms\n",
      "Speed: 0.0ms preprocess, 10.8ms inference, 0.0ms postprocess per image at shape (1, 3, 320, 640)\n",
      "Class: amount, Shape: (106, 435)\n",
      "Saved cropped image: E:/Document Verfication/temp_images\\extracted_amount_0.png\n",
      "Class: signature, Shape: (146, 279)\n",
      "Saved cropped image: E:/Document Verfication/temp_images\\extracted_signature_1.png\n",
      "Class: account, Shape: (70, 313)\n",
      "Saved cropped image: E:/Document Verfication/temp_images\\extracted_account_2.png\n",
      "Class: reciever, Shape: (99, 975)\n",
      "Saved cropped image: E:/Document Verfication/temp_images\\extracted_reciever_3.png\n"
     ]
    },
    {
     "name": "stderr",
     "output_type": "stream",
     "text": [
      "Processing images:  60%|██████    | 71/118 [00:11<00:07,  6.35it/s]"
     ]
    },
    {
     "name": "stdout",
     "output_type": "stream",
     "text": [
      "911010049001545 \n",
      "\n",
      "\n",
      "image 1/1 e:\\Document Verfication\\Sample Images\\IDRBT Cheque Image Dataset\\A300\\Cheque 309108.tif: 320x640 1 signature, 1 reciever, 1 account, 1 amount, 13.9ms\n",
      "Speed: 4.6ms preprocess, 13.9ms inference, 0.4ms postprocess per image at shape (1, 3, 320, 640)\n",
      "Class: signature, Shape: (184, 271)\n",
      "Saved cropped image: E:/Document Verfication/temp_images\\extracted_signature_0.png\n",
      "Class: account, Shape: (70, 298)\n",
      "Saved cropped image: E:/Document Verfication/temp_images\\extracted_account_1.png\n",
      "Class: amount, Shape: (105, 471)\n",
      "Saved cropped image: E:/Document Verfication/temp_images\\extracted_amount_2.png\n",
      "Class: reciever, Shape: (116, 669)\n",
      "Saved cropped image: E:/Document Verfication/temp_images\\extracted_reciever_3.png\n"
     ]
    },
    {
     "name": "stderr",
     "output_type": "stream",
     "text": [
      "Processing images:  61%|██████    | 72/118 [00:11<00:07,  6.24it/s]"
     ]
    },
    {
     "name": "stdout",
     "output_type": "stream",
     "text": [
      "911010049001545 \n",
      "\n",
      "\n",
      "image 1/1 e:\\Document Verfication\\Sample Images\\IDRBT Cheque Image Dataset\\A300\\Cheque 309109.tif: 320x640 1 signature, 1 reciever, 1 account, 1 amount, 21.1ms\n",
      "Speed: 0.0ms preprocess, 21.1ms inference, 0.0ms postprocess per image at shape (1, 3, 320, 640)\n",
      "Class: signature, Shape: (167, 284)\n"
     ]
    },
    {
     "name": "stderr",
     "output_type": "stream",
     "text": [
      "Processing images:  62%|██████▏   | 73/118 [00:11<00:07,  5.94it/s]"
     ]
    },
    {
     "name": "stdout",
     "output_type": "stream",
     "text": [
      "Saved cropped image: E:/Document Verfication/temp_images\\extracted_signature_0.png\n",
      "Class: account, Shape: (73, 319)\n",
      "Saved cropped image: E:/Document Verfication/temp_images\\extracted_account_1.png\n",
      "Class: reciever, Shape: (134, 811)\n",
      "Saved cropped image: E:/Document Verfication/temp_images\\extracted_reciever_2.png\n",
      "Class: amount, Shape: (109, 497)\n",
      "Saved cropped image: E:/Document Verfication/temp_images\\extracted_amount_3.png\n",
      "911010049001545 \n",
      "\n",
      "\n",
      "image 1/1 e:\\Document Verfication\\Sample Images\\IDRBT Cheque Image Dataset\\A300\\Cheque 309110.tif: 320x640 1 signature, 1 reciever, 1 account, 1 amount, 8.8ms\n",
      "Speed: 6.1ms preprocess, 8.8ms inference, 6.4ms postprocess per image at shape (1, 3, 320, 640)\n",
      "Class: amount, Shape: (112, 336)\n"
     ]
    },
    {
     "name": "stderr",
     "output_type": "stream",
     "text": [
      "Processing images:  63%|██████▎   | 74/118 [00:11<00:07,  5.88it/s]"
     ]
    },
    {
     "name": "stdout",
     "output_type": "stream",
     "text": [
      "Saved cropped image: E:/Document Verfication/temp_images\\extracted_amount_0.png\n",
      "Class: signature, Shape: (207, 272)\n",
      "Saved cropped image: E:/Document Verfication/temp_images\\extracted_signature_1.png\n",
      "Class: account, Shape: (71, 307)\n",
      "Saved cropped image: E:/Document Verfication/temp_images\\extracted_account_2.png\n",
      "Class: reciever, Shape: (148, 862)\n",
      "Saved cropped image: E:/Document Verfication/temp_images\\extracted_reciever_3.png\n",
      "911010049001545 \n",
      "\n",
      "\n",
      "image 1/1 e:\\Document Verfication\\Sample Images\\IDRBT Cheque Image Dataset\\A300\\Cheque 309111.tif: 320x640 1 signature, 1 reciever, 1 account, 1 amount, 20.5ms\n",
      "Speed: 0.0ms preprocess, 20.5ms inference, 3.5ms postprocess per image at shape (1, 3, 320, 640)\n",
      "Class: signature, Shape: (220, 297)\n",
      "Saved cropped image: E:/Document Verfication/temp_images\\extracted_signature_0.png\n",
      "Class: amount, Shape: (108, 466)\n",
      "Saved cropped image: E:/Document Verfication/temp_images\\extracted_amount_1.png\n",
      "Class: account, Shape: (71, 316)\n",
      "Saved cropped image: E:/Document Verfication/temp_images\\extracted_account_2.png\n",
      "Class: reciever, Shape: (144, 934)\n",
      "Saved cropped image: E:/Document Verfication/temp_images\\extracted_reciever_3.png\n"
     ]
    },
    {
     "name": "stderr",
     "output_type": "stream",
     "text": [
      "Processing images:  64%|██████▎   | 75/118 [00:11<00:07,  5.71it/s]"
     ]
    },
    {
     "name": "stdout",
     "output_type": "stream",
     "text": [
      "911010049001545 \n",
      "\n",
      "\n",
      "image 1/1 e:\\Document Verfication\\Sample Images\\IDRBT Cheque Image Dataset\\A300\\Cheque 309112.tif: 320x640 1 signature, 1 reciever, 1 account, 1 amount, 13.6ms\n",
      "Speed: 0.0ms preprocess, 13.6ms inference, 6.7ms postprocess per image at shape (1, 3, 320, 640)\n",
      "Class: amount, Shape: (105, 468)\n"
     ]
    },
    {
     "name": "stderr",
     "output_type": "stream",
     "text": [
      "Processing images:  64%|██████▍   | 76/118 [00:11<00:07,  5.71it/s]"
     ]
    },
    {
     "name": "stdout",
     "output_type": "stream",
     "text": [
      "Saved cropped image: E:/Document Verfication/temp_images\\extracted_amount_0.png\n",
      "Class: signature, Shape: (207, 361)\n",
      "Saved cropped image: E:/Document Verfication/temp_images\\extracted_signature_1.png\n",
      "Class: account, Shape: (71, 303)\n",
      "Saved cropped image: E:/Document Verfication/temp_images\\extracted_account_2.png\n",
      "Class: reciever, Shape: (126, 755)\n",
      "Saved cropped image: E:/Document Verfication/temp_images\\extracted_reciever_3.png\n",
      "911010049001545 \n",
      "\n",
      "\n",
      "image 1/1 e:\\Document Verfication\\Sample Images\\IDRBT Cheque Image Dataset\\A300\\Cheque 309113.tif: 320x640 1 signature, 1 reciever, 1 account, 1 amount, 14.1ms\n",
      "Speed: 0.0ms preprocess, 14.1ms inference, 0.0ms postprocess per image at shape (1, 3, 320, 640)\n",
      "Class: signature, Shape: (255, 318)\n"
     ]
    },
    {
     "name": "stderr",
     "output_type": "stream",
     "text": [
      "Processing images:  65%|██████▌   | 77/118 [00:12<00:07,  5.51it/s]"
     ]
    },
    {
     "name": "stdout",
     "output_type": "stream",
     "text": [
      "Saved cropped image: E:/Document Verfication/temp_images\\extracted_signature_0.png\n",
      "Class: account, Shape: (67, 320)\n",
      "Saved cropped image: E:/Document Verfication/temp_images\\extracted_account_1.png\n",
      "Class: amount, Shape: (112, 524)\n",
      "Saved cropped image: E:/Document Verfication/temp_images\\extracted_amount_2.png\n",
      "Class: reciever, Shape: (129, 950)\n",
      "Saved cropped image: E:/Document Verfication/temp_images\\extracted_reciever_3.png\n",
      "911010049001545 \n",
      "\n",
      "\n",
      "image 1/1 e:\\Document Verfication\\Sample Images\\IDRBT Cheque Image Dataset\\A300\\Cheque 309114.tif: 320x640 1 signature, 1 reciever, 1 account, 1 amount, 14.9ms\n",
      "Speed: 2.3ms preprocess, 14.9ms inference, 1.0ms postprocess per image at shape (1, 3, 320, 640)\n",
      "Class: signature, Shape: (193, 341)\n",
      "Saved cropped image: E:/Document Verfication/temp_images\\extracted_signature_0.png\n",
      "Class: account, Shape: (73, 314)\n",
      "Saved cropped image: E:/Document Verfication/temp_images\\extracted_account_1.png\n",
      "Class: amount, Shape: (109, 465)\n",
      "Saved cropped image: E:/Document Verfication/temp_images\\extracted_amount_2.png\n",
      "Class: reciever, Shape: (138, 1137)\n",
      "Saved cropped image: E:/Document Verfication/temp_images\\extracted_reciever_3.png\n"
     ]
    },
    {
     "name": "stderr",
     "output_type": "stream",
     "text": [
      "Processing images:  66%|██████▌   | 78/118 [00:12<00:07,  5.43it/s]"
     ]
    },
    {
     "name": "stdout",
     "output_type": "stream",
     "text": [
      "911010049001545 \n",
      "\n",
      "\n",
      "image 1/1 e:\\Document Verfication\\Sample Images\\IDRBT Cheque Image Dataset\\A300\\Cheque 309115.tif: 320x640 1 signature, 1 reciever, 1 account, 1 amount, 0.0ms\n",
      "Speed: 0.0ms preprocess, 0.0ms inference, 16.8ms postprocess per image at shape (1, 3, 320, 640)\n",
      "Class: amount, Shape: (107, 464)\n"
     ]
    },
    {
     "name": "stderr",
     "output_type": "stream",
     "text": [
      "Processing images:  67%|██████▋   | 79/118 [00:12<00:06,  5.82it/s]"
     ]
    },
    {
     "name": "stdout",
     "output_type": "stream",
     "text": [
      "Saved cropped image: E:/Document Verfication/temp_images\\extracted_amount_0.png\n",
      "Class: signature, Shape: (252, 320)\n",
      "Saved cropped image: E:/Document Verfication/temp_images\\extracted_signature_1.png\n",
      "Class: account, Shape: (71, 319)\n",
      "Saved cropped image: E:/Document Verfication/temp_images\\extracted_account_2.png\n",
      "Class: reciever, Shape: (140, 1112)\n",
      "Saved cropped image: E:/Document Verfication/temp_images\\extracted_reciever_3.png\n",
      "911010049001545 \n",
      "\n",
      "\n",
      "image 1/1 e:\\Document Verfication\\Sample Images\\IDRBT Cheque Image Dataset\\A300\\Cheque 309116.tif: 320x640 1 signature, 1 reciever, 1 account, 1 amount, 1.0ms\n",
      "Speed: 12.2ms preprocess, 1.0ms inference, 0.0ms postprocess per image at shape (1, 3, 320, 640)\n",
      "Class: account, Shape: (73, 312)\n",
      "Saved cropped image: E:/Document Verfication/temp_images\\extracted_account_0.png\n",
      "Class: reciever, Shape: (136, 710)\n",
      "Saved cropped image: E:/Document Verfication/temp_images\\extracted_reciever_1.png\n",
      "Class: signature, Shape: (199, 319)\n",
      "Saved cropped image: E:/Document Verfication/temp_images\\extracted_signature_2.png\n",
      "Class: amount, Shape: (107, 370)\n",
      "Saved cropped image: E:/Document Verfication/temp_images\\extracted_amount_3.png\n"
     ]
    },
    {
     "name": "stderr",
     "output_type": "stream",
     "text": [
      "Processing images:  68%|██████▊   | 80/118 [00:12<00:06,  5.79it/s]"
     ]
    },
    {
     "name": "stdout",
     "output_type": "stream",
     "text": [
      "911010049001545 \n",
      "\n",
      "\n",
      "image 1/1 e:\\Document Verfication\\Sample Images\\IDRBT Cheque Image Dataset\\A300\\Cheque 309117.tif: 320x640 1 signature, 1 reciever, 1 account, 1 amount, 0.0ms\n",
      "Speed: 0.0ms preprocess, 0.0ms inference, 15.6ms postprocess per image at shape (1, 3, 320, 640)\n",
      "Class: signature, Shape: (219, 296)\n",
      "Saved cropped image: E:/Document Verfication/temp_images\\extracted_signature_0.png\n",
      "Class: account, Shape: (73, 315)\n",
      "Saved cropped image: E:/Document Verfication/temp_images\\extracted_account_1.png\n",
      "Class: amount, Shape: (110, 426)\n",
      "Saved cropped image: E:/Document Verfication/temp_images\\extracted_amount_2.png\n",
      "Class: reciever, Shape: (134, 910)\n",
      "Saved cropped image: E:/Document Verfication/temp_images\\extracted_reciever_3.png\n"
     ]
    },
    {
     "name": "stderr",
     "output_type": "stream",
     "text": [
      "Processing images:  69%|██████▊   | 81/118 [00:12<00:06,  5.99it/s]"
     ]
    },
    {
     "name": "stdout",
     "output_type": "stream",
     "text": [
      "911010049001545 \n",
      "\n",
      "\n",
      "image 1/1 e:\\Document Verfication\\Sample Images\\IDRBT Cheque Image Dataset\\A300\\Cheque 309118.tif: 320x640 1 signature, 1 reciever, 1 account, 1 amount, 7.8ms\n",
      "Speed: 2.1ms preprocess, 7.8ms inference, 0.0ms postprocess per image at shape (1, 3, 320, 640)\n",
      "Class: account, Shape: (73, 310)\n",
      "Saved cropped image: E:/Document Verfication/temp_images\\extracted_account_0.png\n",
      "Class: amount, Shape: (106, 395)\n",
      "Saved cropped image: E:/Document Verfication/temp_images\\extracted_amount_1.png\n",
      "Class: signature, Shape: (208, 365)\n",
      "Saved cropped image: E:/Document Verfication/temp_images\\extracted_signature_2.png\n",
      "Class: reciever, Shape: (131, 968)\n",
      "Saved cropped image: E:/Document Verfication/temp_images\\extracted_reciever_3.png\n"
     ]
    },
    {
     "name": "stderr",
     "output_type": "stream",
     "text": [
      "Processing images:  69%|██████▉   | 82/118 [00:12<00:05,  6.05it/s]"
     ]
    },
    {
     "name": "stdout",
     "output_type": "stream",
     "text": [
      "911010049001545 \n",
      "\n",
      "\n",
      "image 1/1 e:\\Document Verfication\\Sample Images\\IDRBT Cheque Image Dataset\\A300\\Cheque 309119.tif: 320x640 1 signature, 1 reciever, 1 account, 1 amount, 12.7ms\n",
      "Speed: 4.2ms preprocess, 12.7ms inference, 8.3ms postprocess per image at shape (1, 3, 320, 640)\n",
      "Class: amount, Shape: (109, 318)\n",
      "Saved cropped image: E:/Document Verfication/temp_images\\extracted_amount_0.png\n",
      "Class: account, Shape: (72, 318)\n",
      "Saved cropped image: E:/Document Verfication/temp_images\\extracted_account_1.png\n",
      "Class: signature, Shape: (138, 294)\n",
      "Saved cropped image: E:/Document Verfication/temp_images\\extracted_signature_2.png\n",
      "Class: reciever, Shape: (118, 1227)\n",
      "Saved cropped image: E:/Document Verfication/temp_images\\extracted_reciever_3.png\n"
     ]
    },
    {
     "name": "stderr",
     "output_type": "stream",
     "text": [
      "Processing images:  70%|███████   | 83/118 [00:13<00:05,  6.14it/s]"
     ]
    },
    {
     "name": "stdout",
     "output_type": "stream",
     "text": [
      "911010049001545 \n",
      "\n",
      "\n",
      "image 1/1 e:\\Document Verfication\\Sample Images\\IDRBT Cheque Image Dataset\\A300\\Cheque 309121.tif: 288x640 1 signature, 1 reciever, 1 account, 1 amount, 3.0ms\n",
      "Speed: 2.0ms preprocess, 3.0ms inference, 0.0ms postprocess per image at shape (1, 3, 288, 640)\n",
      "Class: amount, Shape: (103, 370)\n",
      "Saved cropped image: E:/Document Verfication/temp_images\\extracted_amount_0.png\n",
      "Class: signature, Shape: (169, 249)\n",
      "Saved cropped image: E:/Document Verfication/temp_images\\extracted_signature_1.png\n",
      "Class: reciever, Shape: (101, 549)\n",
      "Saved cropped image: E:/Document Verfication/temp_images\\extracted_reciever_2.png\n",
      "Class: account, Shape: (73, 314)\n",
      "Saved cropped image: E:/Document Verfication/temp_images\\extracted_account_3.png\n"
     ]
    },
    {
     "name": "stderr",
     "output_type": "stream",
     "text": [
      "Processing images:  71%|███████   | 84/118 [00:13<00:05,  6.11it/s]"
     ]
    },
    {
     "name": "stdout",
     "output_type": "stream",
     "text": [
      "911010049001545 \n",
      "\n",
      "\n",
      "image 1/1 e:\\Document Verfication\\Sample Images\\IDRBT Cheque Image Dataset\\A300\\Cheque 309122.tif: 288x640 1 signature, 1 reciever, 1 account, 1 amount, 30.0ms\n",
      "Speed: 0.0ms preprocess, 30.0ms inference, 0.0ms postprocess per image at shape (1, 3, 288, 640)\n",
      "Class: amount, Shape: (105, 435)\n",
      "Saved cropped image: E:/Document Verfication/temp_images\\extracted_amount_0.png\n",
      "Class: account, Shape: (71, 317)\n",
      "Saved cropped image: E:/Document Verfication/temp_images\\extracted_account_1.png\n",
      "Class: signature, Shape: (150, 225)\n",
      "Saved cropped image: E:/Document Verfication/temp_images\\extracted_signature_2.png\n",
      "Class: reciever, Shape: (93, 1040)\n",
      "Saved cropped image: E:/Document Verfication/temp_images\\extracted_reciever_3.png\n",
      "911010049001545 \n",
      "\n"
     ]
    },
    {
     "name": "stderr",
     "output_type": "stream",
     "text": [
      "Processing images:  72%|███████▏  | 85/118 [00:13<00:05,  5.98it/s]"
     ]
    },
    {
     "name": "stdout",
     "output_type": "stream",
     "text": [
      "\n",
      "image 1/1 e:\\Document Verfication\\Sample Images\\IDRBT Cheque Image Dataset\\A300\\Cheque 309123.tif: 288x640 1 signature, 1 reciever, 1 account, 1 amount, 13.1ms\n",
      "Speed: 0.0ms preprocess, 13.1ms inference, 0.0ms postprocess per image at shape (1, 3, 288, 640)\n",
      "Class: amount, Shape: (105, 395)\n",
      "Saved cropped image: E:/Document Verfication/temp_images\\extracted_amount_0.png\n",
      "Class: signature, Shape: (151, 213)\n",
      "Saved cropped image: E:/Document Verfication/temp_images\\extracted_signature_1.png\n",
      "Class: account, Shape: (73, 317)\n",
      "Saved cropped image: E:/Document Verfication/temp_images\\extracted_account_2.png\n",
      "Class: reciever, Shape: (102, 1111)\n",
      "Saved cropped image: E:/Document Verfication/temp_images\\extracted_reciever_3.png\n"
     ]
    },
    {
     "name": "stderr",
     "output_type": "stream",
     "text": [
      "Processing images:  73%|███████▎  | 86/118 [00:13<00:05,  6.07it/s]"
     ]
    },
    {
     "name": "stdout",
     "output_type": "stream",
     "text": [
      "911010049001545 \n",
      "\n",
      "\n",
      "image 1/1 e:\\Document Verfication\\Sample Images\\IDRBT Cheque Image Dataset\\A300\\Cheque 309124.tif: 288x640 1 signature, 1 reciever, 1 account, 1 amount, 13.9ms\n",
      "Speed: 2.1ms preprocess, 13.9ms inference, 0.0ms postprocess per image at shape (1, 3, 288, 640)\n",
      "Class: amount, Shape: (106, 450)\n",
      "Saved cropped image: E:/Document Verfication/temp_images\\extracted_amount_0.png\n",
      "Class: reciever, Shape: (107, 953)\n",
      "Saved cropped image: E:/Document Verfication/temp_images\\extracted_reciever_1.png\n",
      "Class: account, Shape: (73, 316)\n",
      "Saved cropped image: E:/Document Verfication/temp_images\\extracted_account_2.png\n",
      "Class: signature, Shape: (127, 204)\n",
      "Saved cropped image: E:/Document Verfication/temp_images\\extracted_signature_3.png\n"
     ]
    },
    {
     "name": "stderr",
     "output_type": "stream",
     "text": [
      "Processing images:  74%|███████▎  | 87/118 [00:13<00:05,  6.14it/s]"
     ]
    },
    {
     "name": "stdout",
     "output_type": "stream",
     "text": [
      "911010049001545 \n",
      "\n",
      "\n",
      "image 1/1 e:\\Document Verfication\\Sample Images\\IDRBT Cheque Image Dataset\\A300\\Cheque 309125.tif: 288x640 1 signature, 2 recievers, 1 account, 1 amount, 14.2ms\n",
      "Speed: 3.7ms preprocess, 14.2ms inference, 0.0ms postprocess per image at shape (1, 3, 288, 640)\n",
      "Class: account, Shape: (72, 314)\n",
      "Saved cropped image: E:/Document Verfication/temp_images\\extracted_account_0.png\n",
      "Class: signature, Shape: (124, 198)\n",
      "Saved cropped image: E:/Document Verfication/temp_images\\extracted_signature_1.png\n",
      "Class: amount, Shape: (105, 437)\n",
      "Saved cropped image: E:/Document Verfication/temp_images\\extracted_amount_2.png\n",
      "Class: reciever, Shape: (110, 925)\n",
      "Saved cropped image: E:/Document Verfication/temp_images\\extracted_reciever_3.png\n",
      "Class: reciever, Shape: (109, 1236)\n",
      "Saved cropped image: E:/Document Verfication/temp_images\\extracted_reciever_4.png\n"
     ]
    },
    {
     "name": "stderr",
     "output_type": "stream",
     "text": [
      "Processing images:  75%|███████▍  | 88/118 [00:13<00:04,  6.14it/s]"
     ]
    },
    {
     "name": "stdout",
     "output_type": "stream",
     "text": [
      "911010049001545 \n",
      "\n",
      "\n",
      "image 1/1 e:\\Document Verfication\\Sample Images\\IDRBT Cheque Image Dataset\\A300\\Cheque 309126.tif: 288x640 1 signature, 1 reciever, 1 account, 1 amount, 15.4ms\n",
      "Speed: 0.0ms preprocess, 15.4ms inference, 0.0ms postprocess per image at shape (1, 3, 288, 640)\n",
      "Class: account, Shape: (70, 317)\n",
      "Saved cropped image: E:/Document Verfication/temp_images\\extracted_account_0.png\n",
      "Class: signature, Shape: (128, 198)\n",
      "Saved cropped image: E:/Document Verfication/temp_images\\extracted_signature_1.png\n",
      "Class: reciever, Shape: (116, 713)\n",
      "Saved cropped image: E:/Document Verfication/temp_images\\extracted_reciever_2.png\n",
      "Class: amount, Shape: (103, 432)\n",
      "Saved cropped image: E:/Document Verfication/temp_images\\extracted_amount_3.png\n"
     ]
    },
    {
     "name": "stderr",
     "output_type": "stream",
     "text": [
      "Processing images:  75%|███████▌  | 89/118 [00:14<00:04,  6.10it/s]"
     ]
    },
    {
     "name": "stdout",
     "output_type": "stream",
     "text": [
      "911010049001545 \n",
      "\n",
      "\n",
      "image 1/1 e:\\Document Verfication\\Sample Images\\IDRBT Cheque Image Dataset\\A300\\Cheque 309127.tif: 320x640 1 signature, 1 reciever, 1 account, 1 amount, 14.0ms\n",
      "Speed: 3.7ms preprocess, 14.0ms inference, 0.0ms postprocess per image at shape (1, 3, 320, 640)\n",
      "Class: account, Shape: (71, 307)\n",
      "Saved cropped image: E:/Document Verfication/temp_images\\extracted_account_0.png\n",
      "Class: signature, Shape: (160, 207)\n",
      "Saved cropped image: E:/Document Verfication/temp_images\\extracted_signature_1.png\n",
      "Class: amount, Shape: (106, 414)\n",
      "Saved cropped image: E:/Document Verfication/temp_images\\extracted_amount_2.png\n",
      "Class: reciever, Shape: (106, 774)\n",
      "Saved cropped image: E:/Document Verfication/temp_images\\extracted_reciever_3.png\n",
      "911010049001545 \n",
      "\n"
     ]
    },
    {
     "name": "stderr",
     "output_type": "stream",
     "text": [
      "Processing images:  76%|███████▋  | 90/118 [00:14<00:04,  5.91it/s]"
     ]
    },
    {
     "name": "stdout",
     "output_type": "stream",
     "text": [
      "\n",
      "image 1/1 e:\\Document Verfication\\Sample Images\\IDRBT Cheque Image Dataset\\A300\\Cheque 309128.tif: 320x640 1 signature, 1 reciever, 1 account, 1 amount, 13.2ms\n",
      "Speed: 0.0ms preprocess, 13.2ms inference, 0.0ms postprocess per image at shape (1, 3, 320, 640)\n",
      "Class: amount, Shape: (108, 431)\n",
      "Saved cropped image: E:/Document Verfication/temp_images\\extracted_amount_0.png\n",
      "Class: account, Shape: (71, 308)\n",
      "Saved cropped image: E:/Document Verfication/temp_images\\extracted_account_1.png\n",
      "Class: signature, Shape: (126, 209)\n",
      "Saved cropped image: E:/Document Verfication/temp_images\\extracted_signature_2.png\n",
      "Class: reciever, Shape: (108, 1037)\n",
      "Saved cropped image: E:/Document Verfication/temp_images\\extracted_reciever_3.png\n"
     ]
    },
    {
     "name": "stderr",
     "output_type": "stream",
     "text": [
      "Processing images:  77%|███████▋  | 91/118 [00:14<00:04,  5.90it/s]"
     ]
    },
    {
     "name": "stdout",
     "output_type": "stream",
     "text": [
      "911010049001545 \n",
      "\n",
      "\n",
      "image 1/1 e:\\Document Verfication\\Sample Images\\IDRBT Cheque Image Dataset\\A300\\Cheque 309129.tif: 320x640 1 signature, 1 reciever, 1 account, 1 amount, 0.0ms\n",
      "Speed: 1.8ms preprocess, 0.0ms inference, 15.0ms postprocess per image at shape (1, 3, 320, 640)\n",
      "Class: account, Shape: (74, 322)\n",
      "Saved cropped image: E:/Document Verfication/temp_images\\extracted_account_0.png\n",
      "Class: signature, Shape: (126, 222)\n",
      "Saved cropped image: E:/Document Verfication/temp_images\\extracted_signature_1.png\n",
      "Class: amount, Shape: (104, 448)\n",
      "Saved cropped image: E:/Document Verfication/temp_images\\extracted_amount_2.png\n",
      "Class: reciever, Shape: (104, 961)\n",
      "Saved cropped image: E:/Document Verfication/temp_images\\extracted_reciever_3.png\n"
     ]
    },
    {
     "name": "stderr",
     "output_type": "stream",
     "text": [
      "Processing images:  78%|███████▊  | 92/118 [00:14<00:04,  5.83it/s]"
     ]
    },
    {
     "name": "stdout",
     "output_type": "stream",
     "text": [
      "911010049001545 \n",
      "\n",
      "\n",
      "image 1/1 e:\\Document Verfication\\Sample Images\\IDRBT Cheque Image Dataset\\A300\\Cheque 309130.tif: 320x640 1 signature, 1 reciever, 1 account, 1 amount, 19.8ms\n",
      "Speed: 0.0ms preprocess, 19.8ms inference, 0.0ms postprocess per image at shape (1, 3, 320, 640)\n",
      "Class: signature, Shape: (137, 221)\n",
      "Saved cropped image: E:/Document Verfication/temp_images\\extracted_signature_0.png\n"
     ]
    },
    {
     "name": "stderr",
     "output_type": "stream",
     "text": [
      "Processing images:  79%|███████▉  | 93/118 [00:14<00:04,  5.77it/s]"
     ]
    },
    {
     "name": "stdout",
     "output_type": "stream",
     "text": [
      "Class: account, Shape: (73, 312)\n",
      "Saved cropped image: E:/Document Verfication/temp_images\\extracted_account_1.png\n",
      "Class: amount, Shape: (109, 421)\n",
      "Saved cropped image: E:/Document Verfication/temp_images\\extracted_amount_2.png\n",
      "Class: reciever, Shape: (109, 1012)\n",
      "Saved cropped image: E:/Document Verfication/temp_images\\extracted_reciever_3.png\n",
      "911010049001545 \n",
      "\n",
      "\n",
      "image 1/1 e:\\Document Verfication\\Sample Images\\IDRBT Cheque Image Dataset\\A300\\Cheque 309131.tif: 320x640 1 signature, 1 reciever, 1 account, 1 amount, 17.8ms\n",
      "Speed: 2.0ms preprocess, 17.8ms inference, 0.0ms postprocess per image at shape (1, 3, 320, 640)\n"
     ]
    },
    {
     "name": "stderr",
     "output_type": "stream",
     "text": [
      "Processing images:  80%|███████▉  | 94/118 [00:15<00:04,  5.53it/s]"
     ]
    },
    {
     "name": "stdout",
     "output_type": "stream",
     "text": [
      "Class: account, Shape: (73, 315)\n",
      "Saved cropped image: E:/Document Verfication/temp_images\\extracted_account_0.png\n",
      "Class: amount, Shape: (110, 394)\n",
      "Saved cropped image: E:/Document Verfication/temp_images\\extracted_amount_1.png\n",
      "Class: signature, Shape: (126, 173)\n",
      "Saved cropped image: E:/Document Verfication/temp_images\\extracted_signature_2.png\n",
      "Class: reciever, Shape: (118, 1067)\n",
      "Saved cropped image: E:/Document Verfication/temp_images\\extracted_reciever_3.png\n",
      "911010049001545 \n",
      "\n",
      "\n",
      "image 1/1 e:\\Document Verfication\\Sample Images\\IDRBT Cheque Image Dataset\\A300\\Cheque 309133.tif: 320x640 1 signature, 1 reciever, 1 account, 1 amount, 14.7ms\n",
      "Speed: 1.0ms preprocess, 14.7ms inference, 0.0ms postprocess per image at shape (1, 3, 320, 640)\n",
      "Class: amount, Shape: (108, 456)\n"
     ]
    },
    {
     "name": "stderr",
     "output_type": "stream",
     "text": [
      "Processing images:  81%|████████  | 95/118 [00:15<00:04,  5.51it/s]"
     ]
    },
    {
     "name": "stdout",
     "output_type": "stream",
     "text": [
      "Saved cropped image: E:/Document Verfication/temp_images\\extracted_amount_0.png\n",
      "Class: signature, Shape: (117, 215)\n",
      "Saved cropped image: E:/Document Verfication/temp_images\\extracted_signature_1.png\n",
      "Class: account, Shape: (73, 318)\n",
      "Saved cropped image: E:/Document Verfication/temp_images\\extracted_account_2.png\n",
      "Class: reciever, Shape: (121, 1167)\n",
      "Saved cropped image: E:/Document Verfication/temp_images\\extracted_reciever_3.png\n",
      "911010049001545 \n",
      "\n",
      "\n",
      "image 1/1 e:\\Document Verfication\\Sample Images\\IDRBT Cheque Image Dataset\\A300\\Cheque 309134.tif: 320x640 1 signature, 1 reciever, 1 account, 1 amount, 15.1ms\n",
      "Speed: 2.6ms preprocess, 15.1ms inference, 0.0ms postprocess per image at shape (1, 3, 320, 640)\n",
      "Class: signature, Shape: (120, 217)\n",
      "Saved cropped image: E:/Document Verfication/temp_images\\extracted_signature_0.png\n",
      "Class: account, Shape: (71, 316)\n",
      "Saved cropped image: E:/Document Verfication/temp_images\\extracted_account_1.png\n",
      "Class: amount, Shape: (109, 450)\n",
      "Saved cropped image: E:/Document Verfication/temp_images\\extracted_amount_2.png\n",
      "Class: reciever, Shape: (119, 1051)\n",
      "Saved cropped image: E:/Document Verfication/temp_images\\extracted_reciever_3.png\n"
     ]
    },
    {
     "name": "stderr",
     "output_type": "stream",
     "text": [
      "Processing images:  81%|████████▏ | 96/118 [00:15<00:04,  5.48it/s]"
     ]
    },
    {
     "name": "stdout",
     "output_type": "stream",
     "text": [
      "911010049001545 \n",
      "\n",
      "\n",
      "image 1/1 e:\\Document Verfication\\Sample Images\\IDRBT Cheque Image Dataset\\A300\\Cheque 309135.tif: 320x640 1 signature, 1 reciever, 1 account, 1 amount, 12.5ms\n",
      "Speed: 2.8ms preprocess, 12.5ms inference, 0.0ms postprocess per image at shape (1, 3, 320, 640)\n",
      "Class: amount, Shape: (108, 425)\n"
     ]
    },
    {
     "name": "stderr",
     "output_type": "stream",
     "text": [
      "Processing images:  82%|████████▏ | 97/118 [00:15<00:03,  5.44it/s]"
     ]
    },
    {
     "name": "stdout",
     "output_type": "stream",
     "text": [
      "Saved cropped image: E:/Document Verfication/temp_images\\extracted_amount_0.png\n",
      "Class: signature, Shape: (118, 243)\n",
      "Saved cropped image: E:/Document Verfication/temp_images\\extracted_signature_1.png\n",
      "Class: account, Shape: (70, 319)\n",
      "Saved cropped image: E:/Document Verfication/temp_images\\extracted_account_2.png\n",
      "Class: reciever, Shape: (118, 1129)\n",
      "Saved cropped image: E:/Document Verfication/temp_images\\extracted_reciever_3.png\n",
      "911010049001545 \n",
      "\n",
      "\n",
      "image 1/1 e:\\Document Verfication\\Sample Images\\IDRBT Cheque Image Dataset\\A300\\Cheque 309136.tif: 320x640 1 signature, 1 reciever, 1 account, 1 amount, 11.9ms\n",
      "Speed: 2.9ms preprocess, 11.9ms inference, 0.0ms postprocess per image at shape (1, 3, 320, 640)\n",
      "Class: amount, Shape: (109, 430)\n",
      "Saved cropped image: E:/Document Verfication/temp_images\\extracted_amount_0.png\n",
      "Class: account, Shape: (71, 313)\n",
      "Saved cropped image: E:/Document Verfication/temp_images\\extracted_account_1.png\n",
      "Class: signature, Shape: (109, 214)\n",
      "Saved cropped image: E:/Document Verfication/temp_images\\extracted_signature_2.png\n",
      "Class: reciever, Shape: (113, 824)\n",
      "Saved cropped image: E:/Document Verfication/temp_images\\extracted_reciever_3.png\n"
     ]
    },
    {
     "name": "stderr",
     "output_type": "stream",
     "text": [
      "Processing images:  83%|████████▎ | 98/118 [00:15<00:03,  5.51it/s]"
     ]
    },
    {
     "name": "stdout",
     "output_type": "stream",
     "text": [
      "911010049001545 \n",
      "\n",
      "\n",
      "image 1/1 e:\\Document Verfication\\Sample Images\\IDRBT Cheque Image Dataset\\A300\\Cheque 309137.tif: 320x640 1 signature, 1 reciever, 1 account, 1 amount, 18.3ms\n",
      "Speed: 2.7ms preprocess, 18.3ms inference, 0.0ms postprocess per image at shape (1, 3, 320, 640)\n"
     ]
    },
    {
     "name": "stderr",
     "output_type": "stream",
     "text": [
      "Processing images:  84%|████████▍ | 99/118 [00:15<00:03,  5.48it/s]"
     ]
    },
    {
     "name": "stdout",
     "output_type": "stream",
     "text": [
      "Class: amount, Shape: (109, 439)\n",
      "Saved cropped image: E:/Document Verfication/temp_images\\extracted_amount_0.png\n",
      "Class: signature, Shape: (106, 179)\n",
      "Saved cropped image: E:/Document Verfication/temp_images\\extracted_signature_1.png\n",
      "Class: reciever, Shape: (132, 881)\n",
      "Saved cropped image: E:/Document Verfication/temp_images\\extracted_reciever_2.png\n",
      "Class: account, Shape: (70, 313)\n",
      "Saved cropped image: E:/Document Verfication/temp_images\\extracted_account_3.png\n",
      "911010049001545 \n",
      "\n",
      "\n",
      "image 1/1 e:\\Document Verfication\\Sample Images\\IDRBT Cheque Image Dataset\\A300\\Cheque 309138.tif: 320x640 1 signature, 1 reciever, 1 account, 1 amount, 15.7ms\n",
      "Speed: 0.0ms preprocess, 15.7ms inference, 0.0ms postprocess per image at shape (1, 3, 320, 640)\n",
      "Class: signature, Shape: (85, 191)\n",
      "Saved cropped image: E:/Document Verfication/temp_images\\extracted_signature_0.png\n",
      "Class: account, Shape: (72, 311)\n",
      "Saved cropped image: E:/Document Verfication/temp_images\\extracted_account_1.png\n",
      "Class: reciever, Shape: (116, 959)\n",
      "Saved cropped image: E:/Document Verfication/temp_images\\extracted_reciever_2.png\n",
      "Class: amount, Shape: (108, 456)\n",
      "Saved cropped image: E:/Document Verfication/temp_images\\extracted_amount_3.png\n"
     ]
    },
    {
     "name": "stderr",
     "output_type": "stream",
     "text": [
      "Processing images:  85%|████████▍ | 100/118 [00:16<00:03,  5.47it/s]"
     ]
    },
    {
     "name": "stdout",
     "output_type": "stream",
     "text": [
      "911010049001545 \n",
      "\n",
      "\n",
      "image 1/1 e:\\Document Verfication\\Sample Images\\IDRBT Cheque Image Dataset\\A300\\Cheque 309139.tif: 320x640 1 signature, 1 reciever, 1 account, 1 amount, 14.4ms\n",
      "Speed: 3.2ms preprocess, 14.4ms inference, 3.2ms postprocess per image at shape (1, 3, 320, 640)\n"
     ]
    },
    {
     "name": "stderr",
     "output_type": "stream",
     "text": [
      "Processing images:  86%|████████▌ | 101/118 [00:16<00:03,  5.61it/s]"
     ]
    },
    {
     "name": "stdout",
     "output_type": "stream",
     "text": [
      "Class: amount, Shape: (108, 369)\n",
      "Saved cropped image: E:/Document Verfication/temp_images\\extracted_amount_0.png\n",
      "Class: reciever, Shape: (132, 833)\n",
      "Saved cropped image: E:/Document Verfication/temp_images\\extracted_reciever_1.png\n",
      "Class: account, Shape: (72, 310)\n",
      "Saved cropped image: E:/Document Verfication/temp_images\\extracted_account_2.png\n",
      "Class: signature, Shape: (69, 167)\n",
      "Saved cropped image: E:/Document Verfication/temp_images\\extracted_signature_3.png\n",
      "911010049001545 \n",
      "\n",
      "\n",
      "image 1/1 e:\\Document Verfication\\Sample Images\\IDRBT Cheque Image Dataset\\A300\\Cheque 309141.tif: 320x640 1 signature, 1 reciever, 1 account, 1 amount, 13.4ms\n",
      "Speed: 3.7ms preprocess, 13.4ms inference, 0.0ms postprocess per image at shape (1, 3, 320, 640)\n",
      "Class: signature, Shape: (85, 203)\n",
      "Saved cropped image: E:/Document Verfication/temp_images\\extracted_signature_0.png\n",
      "Class: amount, Shape: (106, 403)\n",
      "Saved cropped image: E:/Document Verfication/temp_images\\extracted_amount_1.png\n",
      "Class: reciever, Shape: (104, 778)\n",
      "Saved cropped image: E:/Document Verfication/temp_images\\extracted_reciever_2.png\n",
      "Class: account, Shape: (69, 318)\n",
      "Saved cropped image: E:/Document Verfication/temp_images\\extracted_account_3.png\n"
     ]
    },
    {
     "name": "stderr",
     "output_type": "stream",
     "text": [
      "Processing images:  86%|████████▋ | 102/118 [00:16<00:02,  5.67it/s]"
     ]
    },
    {
     "name": "stdout",
     "output_type": "stream",
     "text": [
      "911010049001545 \n",
      "\n",
      "\n",
      "image 1/1 e:\\Document Verfication\\Sample Images\\IDRBT Cheque Image Dataset\\A300\\Cheque 309142.tif: 320x640 1 signature, 1 reciever, 1 account, 1 amount, 10.5ms\n",
      "Speed: 6.1ms preprocess, 10.5ms inference, 0.0ms postprocess per image at shape (1, 3, 320, 640)\n",
      "Class: amount, Shape: (106, 382)\n",
      "Saved cropped image: E:/Document Verfication/temp_images\\extracted_amount_0.png\n",
      "Class: account, Shape: (71, 316)\n",
      "Saved cropped image: E:/Document Verfication/temp_images\\extracted_account_1.png\n",
      "Class: signature, Shape: (89, 157)\n",
      "Saved cropped image: E:/Document Verfication/temp_images\\extracted_signature_2.png\n",
      "Class: reciever, Shape: (105, 925)\n",
      "Saved cropped image: E:/Document Verfication/temp_images\\extracted_reciever_3.png\n"
     ]
    },
    {
     "name": "stderr",
     "output_type": "stream",
     "text": [
      "Processing images:  87%|████████▋ | 103/118 [00:16<00:02,  6.03it/s]"
     ]
    },
    {
     "name": "stdout",
     "output_type": "stream",
     "text": [
      "911010049001545 \n",
      "\n",
      "\n",
      "image 1/1 e:\\Document Verfication\\Sample Images\\IDRBT Cheque Image Dataset\\A300\\Cheque 309144.tif: 320x640 1 signature, 1 reciever, 1 account, 1 amount, 13.7ms\n",
      "Speed: 2.0ms preprocess, 13.7ms inference, 1.0ms postprocess per image at shape (1, 3, 320, 640)\n",
      "Class: amount, Shape: (108, 468)\n",
      "Saved cropped image: E:/Document Verfication/temp_images\\extracted_amount_0.png\n",
      "Class: account, Shape: (75, 320)\n",
      "Saved cropped image: E:/Document Verfication/temp_images\\extracted_account_1.png\n",
      "Class: signature, Shape: (81, 174)\n",
      "Saved cropped image: E:/Document Verfication/temp_images\\extracted_signature_2.png\n",
      "Class: reciever, Shape: (116, 774)\n",
      "Saved cropped image: E:/Document Verfication/temp_images\\extracted_reciever_3.png\n"
     ]
    },
    {
     "name": "stderr",
     "output_type": "stream",
     "text": [
      "Processing images:  88%|████████▊ | 104/118 [00:16<00:02,  6.05it/s]"
     ]
    },
    {
     "name": "stdout",
     "output_type": "stream",
     "text": [
      "911010049001545 \n",
      "\n",
      "\n",
      "image 1/1 e:\\Document Verfication\\Sample Images\\IDRBT Cheque Image Dataset\\A300\\Cheque 309145.tif: 320x640 1 signature, 1 reciever, 1 account, 1 amount, 18.2ms\n",
      "Speed: 0.0ms preprocess, 18.2ms inference, 0.0ms postprocess per image at shape (1, 3, 320, 640)\n",
      "Class: account, Shape: (73, 316)\n",
      "Saved cropped image: E:/Document Verfication/temp_images\\extracted_account_0.png\n",
      "Class: signature, Shape: (96, 191)\n",
      "Saved cropped image: E:/Document Verfication/temp_images\\extracted_signature_1.png\n",
      "Class: amount, Shape: (106, 431)\n",
      "Saved cropped image: E:/Document Verfication/temp_images\\extracted_amount_2.png\n",
      "Class: reciever, Shape: (111, 871)\n",
      "Saved cropped image: E:/Document Verfication/temp_images\\extracted_reciever_3.png\n"
     ]
    },
    {
     "name": "stderr",
     "output_type": "stream",
     "text": [
      "Processing images:  89%|████████▉ | 105/118 [00:16<00:02,  6.02it/s]"
     ]
    },
    {
     "name": "stdout",
     "output_type": "stream",
     "text": [
      "911010049001545 \n",
      "\n",
      "\n",
      "image 1/1 e:\\Document Verfication\\Sample Images\\IDRBT Cheque Image Dataset\\A300\\Cheque 309147.tif: 320x640 1 signature, 1 reciever, 1 account, 1 amount, 13.1ms\n",
      "Speed: 4.3ms preprocess, 13.1ms inference, 0.0ms postprocess per image at shape (1, 3, 320, 640)\n",
      "Class: account, Shape: (74, 313)\n",
      "Saved cropped image: E:/Document Verfication/temp_images\\extracted_account_0.png\n",
      "Class: amount, Shape: (108, 418)\n",
      "Saved cropped image: E:/Document Verfication/temp_images\\extracted_amount_1.png\n",
      "Class: signature, Shape: (81, 170)\n",
      "Saved cropped image: E:/Document Verfication/temp_images\\extracted_signature_2.png\n",
      "Class: reciever, Shape: (143, 932)\n",
      "Saved cropped image: E:/Document Verfication/temp_images\\extracted_reciever_3.png\n"
     ]
    },
    {
     "name": "stderr",
     "output_type": "stream",
     "text": [
      "Processing images:  90%|████████▉ | 106/118 [00:17<00:01,  6.17it/s]"
     ]
    },
    {
     "name": "stdout",
     "output_type": "stream",
     "text": [
      "911010049001545 \n",
      "\n",
      "\n",
      "image 1/1 e:\\Document Verfication\\Sample Images\\IDRBT Cheque Image Dataset\\A300\\Cheque 309148.tif: 320x640 1 signature, 1 reciever, 1 account, 1 amount, 10.0ms\n",
      "Speed: 1.0ms preprocess, 10.0ms inference, 0.0ms postprocess per image at shape (1, 3, 320, 640)\n",
      "Class: account, Shape: (73, 312)\n",
      "Saved cropped image: E:/Document Verfication/temp_images\\extracted_account_0.png\n",
      "Class: amount, Shape: (106, 440)\n",
      "Saved cropped image: E:/Document Verfication/temp_images\\extracted_amount_1.png\n",
      "Class: reciever, Shape: (129, 1006)\n",
      "Saved cropped image: E:/Document Verfication/temp_images\\extracted_reciever_2.png\n",
      "Class: signature, Shape: (88, 176)\n",
      "Saved cropped image: E:/Document Verfication/temp_images\\extracted_signature_3.png\n"
     ]
    },
    {
     "name": "stderr",
     "output_type": "stream",
     "text": [
      "Processing images:  91%|█████████ | 107/118 [00:17<00:01,  6.30it/s]"
     ]
    },
    {
     "name": "stdout",
     "output_type": "stream",
     "text": [
      "911010049001545 \n",
      "\n",
      "\n",
      "image 1/1 e:\\Document Verfication\\Sample Images\\IDRBT Cheque Image Dataset\\A300\\Cheque 309149.tif: 320x640 1 signature, 1 reciever, 1 account, 1 amount, 15.2ms\n",
      "Speed: 0.0ms preprocess, 15.2ms inference, 0.0ms postprocess per image at shape (1, 3, 320, 640)\n",
      "Class: signature, Shape: (126, 282)\n",
      "Saved cropped image: E:/Document Verfication/temp_images\\extracted_signature_0.png\n",
      "Class: amount, Shape: (107, 461)\n",
      "Saved cropped image: E:/Document Verfication/temp_images\\extracted_amount_1.png\n",
      "Class: account, Shape: (74, 318)\n",
      "Saved cropped image: E:/Document Verfication/temp_images\\extracted_account_2.png\n",
      "Class: reciever, Shape: (83, 609)\n",
      "Saved cropped image: E:/Document Verfication/temp_images\\extracted_reciever_3.png\n"
     ]
    },
    {
     "name": "stderr",
     "output_type": "stream",
     "text": [
      "Processing images:  92%|█████████▏| 108/118 [00:17<00:01,  6.28it/s]"
     ]
    },
    {
     "name": "stdout",
     "output_type": "stream",
     "text": [
      "911010049001545 \n",
      "\n",
      "\n",
      "image 1/1 e:\\Document Verfication\\Sample Images\\IDRBT Cheque Image Dataset\\A300\\Cheque 309150.tif: 320x640 1 signature, 1 reciever, 1 account, 1 amount, 10.0ms\n",
      "Speed: 0.0ms preprocess, 10.0ms inference, 0.0ms postprocess per image at shape (1, 3, 320, 640)\n",
      "Class: account, Shape: (74, 311)\n",
      "Saved cropped image: E:/Document Verfication/temp_images\\extracted_account_0.png\n",
      "Class: amount, Shape: (107, 462)\n",
      "Saved cropped image: E:/Document Verfication/temp_images\\extracted_amount_1.png\n",
      "Class: signature, Shape: (113, 262)\n",
      "Saved cropped image: E:/Document Verfication/temp_images\\extracted_signature_2.png\n",
      "Class: reciever, Shape: (117, 556)\n",
      "Saved cropped image: E:/Document Verfication/temp_images\\extracted_reciever_3.png\n"
     ]
    },
    {
     "name": "stderr",
     "output_type": "stream",
     "text": [
      "Processing images:  92%|█████████▏| 109/118 [00:17<00:01,  6.26it/s]"
     ]
    },
    {
     "name": "stdout",
     "output_type": "stream",
     "text": [
      "911010049001545 \n",
      "\n",
      "\n",
      "image 1/1 e:\\Document Verfication\\Sample Images\\IDRBT Cheque Image Dataset\\A300\\Cheque 309151.tif: 320x640 1 signature, 1 reciever, 1 account, 1 amount, 42.2ms\n",
      "Speed: 0.0ms preprocess, 42.2ms inference, 0.6ms postprocess per image at shape (1, 3, 320, 640)\n"
     ]
    },
    {
     "name": "stderr",
     "output_type": "stream",
     "text": [
      "Processing images:  93%|█████████▎| 110/118 [00:17<00:01,  6.03it/s]"
     ]
    },
    {
     "name": "stdout",
     "output_type": "stream",
     "text": [
      "Class: amount, Shape: (104, 457)\n",
      "Saved cropped image: E:/Document Verfication/temp_images\\extracted_amount_0.png\n",
      "Class: account, Shape: (72, 312)\n",
      "Saved cropped image: E:/Document Verfication/temp_images\\extracted_account_1.png\n",
      "Class: signature, Shape: (93, 247)\n",
      "Saved cropped image: E:/Document Verfication/temp_images\\extracted_signature_2.png\n",
      "Class: reciever, Shape: (91, 669)\n",
      "Saved cropped image: E:/Document Verfication/temp_images\\extracted_reciever_3.png\n",
      "911010049001545 \n",
      "\n",
      "\n",
      "image 1/1 e:\\Document Verfication\\Sample Images\\IDRBT Cheque Image Dataset\\A300\\Cheque 309153.tif: 320x640 1 signature, 1 reciever, 1 account, 1 amount, 10.5ms\n",
      "Speed: 2.0ms preprocess, 10.5ms inference, 0.0ms postprocess per image at shape (1, 3, 320, 640)\n",
      "Class: amount, Shape: (105, 447)\n",
      "Saved cropped image: E:/Document Verfication/temp_images\\extracted_amount_0.png\n",
      "Class: signature, Shape: (152, 229)\n",
      "Saved cropped image: E:/Document Verfication/temp_images\\extracted_signature_1.png\n",
      "Class: account, Shape: (73, 320)\n",
      "Saved cropped image: E:/Document Verfication/temp_images\\extracted_account_2.png\n",
      "Class: reciever, Shape: (91, 810)\n",
      "Saved cropped image: E:/Document Verfication/temp_images\\extracted_reciever_3.png\n"
     ]
    },
    {
     "name": "stderr",
     "output_type": "stream",
     "text": [
      "Processing images:  94%|█████████▍| 111/118 [00:17<00:01,  6.09it/s]"
     ]
    },
    {
     "name": "stdout",
     "output_type": "stream",
     "text": [
      "911010049001545 \n",
      "\n",
      "\n",
      "image 1/1 e:\\Document Verfication\\Sample Images\\IDRBT Cheque Image Dataset\\A300\\Cheque 309155.tif: 320x640 1 signature, 1 reciever, 1 account, 1 amount, 9.5ms\n",
      "Speed: 1.9ms preprocess, 9.5ms inference, 5.5ms postprocess per image at shape (1, 3, 320, 640)\n",
      "Class: amount, Shape: (103, 407)\n",
      "Saved cropped image: E:/Document Verfication/temp_images\\extracted_amount_0.png\n",
      "Class: signature, Shape: (114, 297)\n",
      "Saved cropped image: E:/Document Verfication/temp_images\\extracted_signature_1.png\n",
      "Class: account, Shape: (73, 321)\n",
      "Saved cropped image: E:/Document Verfication/temp_images\\extracted_account_2.png\n",
      "Class: reciever, Shape: (82, 633)\n",
      "Saved cropped image: E:/Document Verfication/temp_images\\extracted_reciever_3.png\n"
     ]
    },
    {
     "name": "stderr",
     "output_type": "stream",
     "text": [
      "Processing images:  95%|█████████▍| 112/118 [00:18<00:01,  5.94it/s]"
     ]
    },
    {
     "name": "stdout",
     "output_type": "stream",
     "text": [
      "911010049001545 \n",
      "\n",
      "\n",
      "image 1/1 e:\\Document Verfication\\Sample Images\\IDRBT Cheque Image Dataset\\A300\\Cheque 309156.tif: 320x640 1 signature, 1 reciever, 1 account, 1 amount, 12.9ms\n",
      "Speed: 3.0ms preprocess, 12.9ms inference, 0.0ms postprocess per image at shape (1, 3, 320, 640)\n",
      "Class: account, Shape: (72, 312)\n",
      "Saved cropped image: E:/Document Verfication/temp_images\\extracted_account_0.png\n",
      "Class: amount, Shape: (108, 427)\n",
      "Saved cropped image: E:/Document Verfication/temp_images\\extracted_amount_1.png\n",
      "Class: signature, Shape: (126, 216)\n",
      "Saved cropped image: E:/Document Verfication/temp_images\\extracted_signature_2.png\n",
      "Class: reciever, Shape: (98, 878)\n",
      "Saved cropped image: E:/Document Verfication/temp_images\\extracted_reciever_3.png\n"
     ]
    },
    {
     "name": "stderr",
     "output_type": "stream",
     "text": [
      "Processing images:  96%|█████████▌| 113/118 [00:18<00:00,  5.97it/s]"
     ]
    },
    {
     "name": "stdout",
     "output_type": "stream",
     "text": [
      "911010049001545 \n",
      "\n",
      "\n",
      "image 1/1 e:\\Document Verfication\\Sample Images\\IDRBT Cheque Image Dataset\\A300\\Cheque 309157.tif: 320x640 1 signature, 1 reciever, 1 account, 1 amount, 15.0ms\n",
      "Speed: 0.0ms preprocess, 15.0ms inference, 7.8ms postprocess per image at shape (1, 3, 320, 640)\n",
      "Class: amount, Shape: (109, 417)\n",
      "Saved cropped image: E:/Document Verfication/temp_images\\extracted_amount_0.png\n",
      "Class: signature, Shape: (123, 265)\n",
      "Saved cropped image: E:/Document Verfication/temp_images\\extracted_signature_1.png\n",
      "Class: account, Shape: (70, 319)\n",
      "Saved cropped image: E:/Document Verfication/temp_images\\extracted_account_2.png\n",
      "Class: reciever, Shape: (99, 539)\n",
      "Saved cropped image: E:/Document Verfication/temp_images\\extracted_reciever_3.png\n"
     ]
    },
    {
     "name": "stderr",
     "output_type": "stream",
     "text": [
      "Processing images:  97%|█████████▋| 114/118 [00:18<00:00,  5.98it/s]"
     ]
    },
    {
     "name": "stdout",
     "output_type": "stream",
     "text": [
      "911010049001545 \n",
      "\n",
      "\n",
      "image 1/1 e:\\Document Verfication\\Sample Images\\IDRBT Cheque Image Dataset\\A300\\Cheque 309158.tif: 320x640 1 signature, 1 reciever, 1 account, 1 amount, 11.9ms\n",
      "Speed: 3.0ms preprocess, 11.9ms inference, 0.0ms postprocess per image at shape (1, 3, 320, 640)\n",
      "Class: account, Shape: (73, 316)\n",
      "Saved cropped image: E:/Document Verfication/temp_images\\extracted_account_0.png\n",
      "Class: signature, Shape: (135, 183)\n",
      "Saved cropped image: E:/Document Verfication/temp_images\\extracted_signature_1.png\n",
      "Class: amount, Shape: (106, 504)\n",
      "Saved cropped image: E:/Document Verfication/temp_images\\extracted_amount_2.png\n",
      "Class: reciever, Shape: (88, 673)\n",
      "Saved cropped image: E:/Document Verfication/temp_images\\extracted_reciever_3.png\n"
     ]
    },
    {
     "name": "stderr",
     "output_type": "stream",
     "text": [
      "Processing images:  97%|█████████▋| 115/118 [00:18<00:00,  6.10it/s]"
     ]
    },
    {
     "name": "stdout",
     "output_type": "stream",
     "text": [
      "911010049001545 \n",
      "\n",
      "\n",
      "image 1/1 e:\\Document Verfication\\Sample Images\\IDRBT Cheque Image Dataset\\A300\\Cheque 309159.tif: 320x640 1 signature, 1 reciever, 1 account, 1 amount, 10.5ms\n",
      "Speed: 0.0ms preprocess, 10.5ms inference, 0.0ms postprocess per image at shape (1, 3, 320, 640)\n",
      "Class: amount, Shape: (104, 434)\n",
      "Saved cropped image: E:/Document Verfication/temp_images\\extracted_amount_0.png\n",
      "Class: account, Shape: (70, 322)\n",
      "Saved cropped image: E:/Document Verfication/temp_images\\extracted_account_1.png\n",
      "Class: signature, Shape: (122, 182)\n",
      "Saved cropped image: E:/Document Verfication/temp_images\\extracted_signature_2.png\n",
      "Class: reciever, Shape: (88, 494)\n",
      "Saved cropped image: E:/Document Verfication/temp_images\\extracted_reciever_3.png\n"
     ]
    },
    {
     "name": "stderr",
     "output_type": "stream",
     "text": [
      "Processing images:  98%|█████████▊| 116/118 [00:18<00:00,  6.33it/s]"
     ]
    },
    {
     "name": "stdout",
     "output_type": "stream",
     "text": [
      "911010049001545 \n",
      "\n",
      "\n",
      "image 1/1 e:\\Document Verfication\\Sample Images\\IDRBT Cheque Image Dataset\\A300\\Cheque 309160.tif: 320x640 1 signature, 1 reciever, 1 account, 1 amount, 11.5ms\n",
      "Speed: 4.0ms preprocess, 11.5ms inference, 0.0ms postprocess per image at shape (1, 3, 320, 640)\n",
      "Class: account, Shape: (73, 315)\n",
      "Saved cropped image: E:/Document Verfication/temp_images\\extracted_account_0.png\n",
      "Class: amount, Shape: (107, 389)\n",
      "Saved cropped image: E:/Document Verfication/temp_images\\extracted_amount_1.png\n",
      "Class: signature, Shape: (113, 266)\n",
      "Saved cropped image: E:/Document Verfication/temp_images\\extracted_signature_2.png\n",
      "Class: reciever, Shape: (98, 445)\n",
      "Saved cropped image: E:/Document Verfication/temp_images\\extracted_reciever_3.png\n"
     ]
    },
    {
     "name": "stderr",
     "output_type": "stream",
     "text": [
      "Processing images: 100%|██████████| 118/118 [00:18<00:00,  6.25it/s]"
     ]
    },
    {
     "name": "stdout",
     "output_type": "stream",
     "text": [
      "911010049001545 \n",
      "\n"
     ]
    },
    {
     "name": "stderr",
     "output_type": "stream",
     "text": [
      "\n"
     ]
    }
   ],
   "source": [
    "import os\n",
    "from ultralytics import YOLO\n",
    "from Backend.utils.extraction import extract_components\n",
    "import torch\n",
    "import easyocr\n",
    "from tqdm import tqdm\n",
    "import cv2 as cv\n",
    "import re\n",
    "\n",
    "device = \"cuda\" if torch.cuda.is_available() else \"cpu\"\n",
    "\n",
    "folder_path = \"Sample Images\\IDRBT Cheque Image Dataset\\A300\"\n",
    "\n",
    "model_extract = YOLO(r\"E:\\Document Verfication\\Models\\Extraction\\weights\\best.pt\")  # Replace with your trained YOLO weights\n",
    "model_extract.to(device)\n",
    "\n",
    "model_ocr = easyocr.Reader([\"en\"], gpu=torch.cuda.is_available())  # Enable GPU if available\n",
    "\n",
    "# Use tqdm to create a progress bar\n",
    "for file in tqdm(os.listdir(folder_path), desc=\"Processing images\"):\n",
    "    if file.endswith(\".tif\"):\n",
    "        file_path = os.path.join(folder_path, file)\n",
    "        extracted_images = extract_components(file_path , model_extract)\n",
    "        if \"account\" not in extracted_images or \"signature\" not in extracted_images:\n",
    "            print(\"Error Extracting\")\n",
    "            continue # Skip to the next file if extraction fails\n",
    "\n",
    "        try:\n",
    "          account_no = cv.imread(extracted_images[\"account\"])\n",
    "          signature = cv.imread(extracted_images[\"signature\"])\n",
    "\n",
    "          account_text = model_ocr.readtext(account_no, detail=0)[0]\n",
    "          account_text = re.sub(r\"[^\\d]\", \"\", account_text)\n",
    "          print(account_text,\"\\n\")\n",
    "        #   # Assuming account_text is a list and you want the first result\n",
    "        #   if account_text:\n",
    "        #       account_text = account_text[0][1] # Extract the text content\n",
    "        #   else:\n",
    "        #       account_text = \"unknown_account\" # Provide a default value\n",
    "          save_folder = os.path.join(\"Dataset\", account_text)\n",
    "          os.makedirs(save_folder, exist_ok=True)\n",
    "          cv.imwrite(os.path.join(save_folder, os.path.splitext(file)[0] + \".png\"), signature)\n",
    "\n",
    "\n",
    "        except Exception as e:\n",
    "            print(f\"Error processing {file}: {e}\")"
   ]
  },
  {
   "cell_type": "code",
   "execution_count": 19,
   "metadata": {},
   "outputs": [
    {
     "ename": "TesseractNotFoundError",
     "evalue": "tesseract is not installed or it's not in your PATH. See README file for more information.",
     "output_type": "error",
     "traceback": [
      "\u001b[1;31m---------------------------------------------------------------------------\u001b[0m",
      "\u001b[1;31mFileNotFoundError\u001b[0m                         Traceback (most recent call last)",
      "File \u001b[1;32mc:\\Users\\absaa\\anaconda3\\envs\\pytorch_env\\lib\\site-packages\\pytesseract\\pytesseract.py:275\u001b[0m, in \u001b[0;36mrun_tesseract\u001b[1;34m(input_filename, output_filename_base, extension, lang, config, nice, timeout)\u001b[0m\n\u001b[0;32m    274\u001b[0m \u001b[38;5;28;01mtry\u001b[39;00m:\n\u001b[1;32m--> 275\u001b[0m     proc \u001b[38;5;241m=\u001b[39m subprocess\u001b[38;5;241m.\u001b[39mPopen(cmd_args, \u001b[38;5;241m*\u001b[39m\u001b[38;5;241m*\u001b[39msubprocess_args())\n\u001b[0;32m    276\u001b[0m \u001b[38;5;28;01mexcept\u001b[39;00m \u001b[38;5;167;01mOSError\u001b[39;00m \u001b[38;5;28;01mas\u001b[39;00m e:\n",
      "File \u001b[1;32mc:\\Users\\absaa\\anaconda3\\envs\\pytorch_env\\lib\\subprocess.py:971\u001b[0m, in \u001b[0;36mPopen.__init__\u001b[1;34m(self, args, bufsize, executable, stdin, stdout, stderr, preexec_fn, close_fds, shell, cwd, env, universal_newlines, startupinfo, creationflags, restore_signals, start_new_session, pass_fds, user, group, extra_groups, encoding, errors, text, umask, pipesize)\u001b[0m\n\u001b[0;32m    968\u001b[0m             \u001b[38;5;28mself\u001b[39m\u001b[38;5;241m.\u001b[39mstderr \u001b[38;5;241m=\u001b[39m io\u001b[38;5;241m.\u001b[39mTextIOWrapper(\u001b[38;5;28mself\u001b[39m\u001b[38;5;241m.\u001b[39mstderr,\n\u001b[0;32m    969\u001b[0m                     encoding\u001b[38;5;241m=\u001b[39mencoding, errors\u001b[38;5;241m=\u001b[39merrors)\n\u001b[1;32m--> 971\u001b[0m     \u001b[38;5;28;43mself\u001b[39;49m\u001b[38;5;241;43m.\u001b[39;49m\u001b[43m_execute_child\u001b[49m\u001b[43m(\u001b[49m\u001b[43margs\u001b[49m\u001b[43m,\u001b[49m\u001b[43m \u001b[49m\u001b[43mexecutable\u001b[49m\u001b[43m,\u001b[49m\u001b[43m \u001b[49m\u001b[43mpreexec_fn\u001b[49m\u001b[43m,\u001b[49m\u001b[43m \u001b[49m\u001b[43mclose_fds\u001b[49m\u001b[43m,\u001b[49m\n\u001b[0;32m    972\u001b[0m \u001b[43m                        \u001b[49m\u001b[43mpass_fds\u001b[49m\u001b[43m,\u001b[49m\u001b[43m \u001b[49m\u001b[43mcwd\u001b[49m\u001b[43m,\u001b[49m\u001b[43m \u001b[49m\u001b[43menv\u001b[49m\u001b[43m,\u001b[49m\n\u001b[0;32m    973\u001b[0m \u001b[43m                        \u001b[49m\u001b[43mstartupinfo\u001b[49m\u001b[43m,\u001b[49m\u001b[43m \u001b[49m\u001b[43mcreationflags\u001b[49m\u001b[43m,\u001b[49m\u001b[43m \u001b[49m\u001b[43mshell\u001b[49m\u001b[43m,\u001b[49m\n\u001b[0;32m    974\u001b[0m \u001b[43m                        \u001b[49m\u001b[43mp2cread\u001b[49m\u001b[43m,\u001b[49m\u001b[43m \u001b[49m\u001b[43mp2cwrite\u001b[49m\u001b[43m,\u001b[49m\n\u001b[0;32m    975\u001b[0m \u001b[43m                        \u001b[49m\u001b[43mc2pread\u001b[49m\u001b[43m,\u001b[49m\u001b[43m \u001b[49m\u001b[43mc2pwrite\u001b[49m\u001b[43m,\u001b[49m\n\u001b[0;32m    976\u001b[0m \u001b[43m                        \u001b[49m\u001b[43merrread\u001b[49m\u001b[43m,\u001b[49m\u001b[43m \u001b[49m\u001b[43merrwrite\u001b[49m\u001b[43m,\u001b[49m\n\u001b[0;32m    977\u001b[0m \u001b[43m                        \u001b[49m\u001b[43mrestore_signals\u001b[49m\u001b[43m,\u001b[49m\n\u001b[0;32m    978\u001b[0m \u001b[43m                        \u001b[49m\u001b[43mgid\u001b[49m\u001b[43m,\u001b[49m\u001b[43m \u001b[49m\u001b[43mgids\u001b[49m\u001b[43m,\u001b[49m\u001b[43m \u001b[49m\u001b[43muid\u001b[49m\u001b[43m,\u001b[49m\u001b[43m \u001b[49m\u001b[43mumask\u001b[49m\u001b[43m,\u001b[49m\n\u001b[0;32m    979\u001b[0m \u001b[43m                        \u001b[49m\u001b[43mstart_new_session\u001b[49m\u001b[43m)\u001b[49m\n\u001b[0;32m    980\u001b[0m \u001b[38;5;28;01mexcept\u001b[39;00m:\n\u001b[0;32m    981\u001b[0m     \u001b[38;5;66;03m# Cleanup if the child failed starting.\u001b[39;00m\n",
      "File \u001b[1;32mc:\\Users\\absaa\\anaconda3\\envs\\pytorch_env\\lib\\subprocess.py:1456\u001b[0m, in \u001b[0;36mPopen._execute_child\u001b[1;34m(self, args, executable, preexec_fn, close_fds, pass_fds, cwd, env, startupinfo, creationflags, shell, p2cread, p2cwrite, c2pread, c2pwrite, errread, errwrite, unused_restore_signals, unused_gid, unused_gids, unused_uid, unused_umask, unused_start_new_session)\u001b[0m\n\u001b[0;32m   1455\u001b[0m \u001b[38;5;28;01mtry\u001b[39;00m:\n\u001b[1;32m-> 1456\u001b[0m     hp, ht, pid, tid \u001b[38;5;241m=\u001b[39m \u001b[43m_winapi\u001b[49m\u001b[38;5;241;43m.\u001b[39;49m\u001b[43mCreateProcess\u001b[49m\u001b[43m(\u001b[49m\u001b[43mexecutable\u001b[49m\u001b[43m,\u001b[49m\u001b[43m \u001b[49m\u001b[43margs\u001b[49m\u001b[43m,\u001b[49m\n\u001b[0;32m   1457\u001b[0m \u001b[43m                             \u001b[49m\u001b[38;5;66;43;03m# no special security\u001b[39;49;00m\n\u001b[0;32m   1458\u001b[0m \u001b[43m                             \u001b[49m\u001b[38;5;28;43;01mNone\u001b[39;49;00m\u001b[43m,\u001b[49m\u001b[43m \u001b[49m\u001b[38;5;28;43;01mNone\u001b[39;49;00m\u001b[43m,\u001b[49m\n\u001b[0;32m   1459\u001b[0m \u001b[43m                             \u001b[49m\u001b[38;5;28;43mint\u001b[39;49m\u001b[43m(\u001b[49m\u001b[38;5;129;43;01mnot\u001b[39;49;00m\u001b[43m \u001b[49m\u001b[43mclose_fds\u001b[49m\u001b[43m)\u001b[49m\u001b[43m,\u001b[49m\n\u001b[0;32m   1460\u001b[0m \u001b[43m                             \u001b[49m\u001b[43mcreationflags\u001b[49m\u001b[43m,\u001b[49m\n\u001b[0;32m   1461\u001b[0m \u001b[43m                             \u001b[49m\u001b[43menv\u001b[49m\u001b[43m,\u001b[49m\n\u001b[0;32m   1462\u001b[0m \u001b[43m                             \u001b[49m\u001b[43mcwd\u001b[49m\u001b[43m,\u001b[49m\n\u001b[0;32m   1463\u001b[0m \u001b[43m                             \u001b[49m\u001b[43mstartupinfo\u001b[49m\u001b[43m)\u001b[49m\n\u001b[0;32m   1464\u001b[0m \u001b[38;5;28;01mfinally\u001b[39;00m:\n\u001b[0;32m   1465\u001b[0m     \u001b[38;5;66;03m# Child is launched. Close the parent's copy of those pipe\u001b[39;00m\n\u001b[0;32m   1466\u001b[0m     \u001b[38;5;66;03m# handles that only the child should have open.  You need\u001b[39;00m\n\u001b[1;32m   (...)\u001b[0m\n\u001b[0;32m   1469\u001b[0m     \u001b[38;5;66;03m# pipe will not close when the child process exits and the\u001b[39;00m\n\u001b[0;32m   1470\u001b[0m     \u001b[38;5;66;03m# ReadFile will hang.\u001b[39;00m\n",
      "\u001b[1;31mFileNotFoundError\u001b[0m: [WinError 2] The system cannot find the file specified",
      "\nDuring handling of the above exception, another exception occurred:\n",
      "\u001b[1;31mTesseractNotFoundError\u001b[0m                    Traceback (most recent call last)",
      "Cell \u001b[1;32mIn[19], line 6\u001b[0m\n\u001b[0;32m      3\u001b[0m \u001b[38;5;28;01mfrom\u001b[39;00m \u001b[38;5;21;01mPIL\u001b[39;00m \u001b[38;5;28;01mimport\u001b[39;00m Image\n\u001b[0;32m      5\u001b[0m img \u001b[38;5;241m=\u001b[39m Image\u001b[38;5;241m.\u001b[39mopen(\u001b[38;5;124m'\u001b[39m\u001b[38;5;124mtemp_images\u001b[39m\u001b[38;5;124m\\\u001b[39m\u001b[38;5;124mextracted_account_2.png\u001b[39m\u001b[38;5;124m'\u001b[39m)\n\u001b[1;32m----> 6\u001b[0m text \u001b[38;5;241m=\u001b[39m \u001b[43mpytesseract\u001b[49m\u001b[38;5;241;43m.\u001b[39;49m\u001b[43mimage_to_string\u001b[49m\u001b[43m(\u001b[49m\u001b[43mimg\u001b[49m\u001b[43m,\u001b[49m\u001b[43m \u001b[49m\u001b[43mconfig\u001b[49m\u001b[38;5;241;43m=\u001b[39;49m\u001b[38;5;124;43m'\u001b[39;49m\u001b[38;5;124;43moutputbase digits\u001b[39;49m\u001b[38;5;124;43m'\u001b[39;49m\u001b[43m)\u001b[49m\n\u001b[0;32m      7\u001b[0m \u001b[38;5;28mprint\u001b[39m(text)\n",
      "File \u001b[1;32mc:\\Users\\absaa\\anaconda3\\envs\\pytorch_env\\lib\\site-packages\\pytesseract\\pytesseract.py:486\u001b[0m, in \u001b[0;36mimage_to_string\u001b[1;34m(image, lang, config, nice, output_type, timeout)\u001b[0m\n\u001b[0;32m    481\u001b[0m \u001b[38;5;250m\u001b[39m\u001b[38;5;124;03m\"\"\"\u001b[39;00m\n\u001b[0;32m    482\u001b[0m \u001b[38;5;124;03mReturns the result of a Tesseract OCR run on the provided image to string\u001b[39;00m\n\u001b[0;32m    483\u001b[0m \u001b[38;5;124;03m\"\"\"\u001b[39;00m\n\u001b[0;32m    484\u001b[0m args \u001b[38;5;241m=\u001b[39m [image, \u001b[38;5;124m'\u001b[39m\u001b[38;5;124mtxt\u001b[39m\u001b[38;5;124m'\u001b[39m, lang, config, nice, timeout]\n\u001b[1;32m--> 486\u001b[0m \u001b[38;5;28;01mreturn\u001b[39;00m \u001b[43m{\u001b[49m\n\u001b[0;32m    487\u001b[0m \u001b[43m    \u001b[49m\u001b[43mOutput\u001b[49m\u001b[38;5;241;43m.\u001b[39;49m\u001b[43mBYTES\u001b[49m\u001b[43m:\u001b[49m\u001b[43m \u001b[49m\u001b[38;5;28;43;01mlambda\u001b[39;49;00m\u001b[43m:\u001b[49m\u001b[43m \u001b[49m\u001b[43mrun_and_get_output\u001b[49m\u001b[43m(\u001b[49m\u001b[38;5;241;43m*\u001b[39;49m\u001b[43m(\u001b[49m\u001b[43margs\u001b[49m\u001b[43m \u001b[49m\u001b[38;5;241;43m+\u001b[39;49m\u001b[43m \u001b[49m\u001b[43m[\u001b[49m\u001b[38;5;28;43;01mTrue\u001b[39;49;00m\u001b[43m]\u001b[49m\u001b[43m)\u001b[49m\u001b[43m)\u001b[49m\u001b[43m,\u001b[49m\n\u001b[0;32m    488\u001b[0m \u001b[43m    \u001b[49m\u001b[43mOutput\u001b[49m\u001b[38;5;241;43m.\u001b[39;49m\u001b[43mDICT\u001b[49m\u001b[43m:\u001b[49m\u001b[43m \u001b[49m\u001b[38;5;28;43;01mlambda\u001b[39;49;00m\u001b[43m:\u001b[49m\u001b[43m \u001b[49m\u001b[43m{\u001b[49m\u001b[38;5;124;43m'\u001b[39;49m\u001b[38;5;124;43mtext\u001b[39;49m\u001b[38;5;124;43m'\u001b[39;49m\u001b[43m:\u001b[49m\u001b[43m \u001b[49m\u001b[43mrun_and_get_output\u001b[49m\u001b[43m(\u001b[49m\u001b[38;5;241;43m*\u001b[39;49m\u001b[43margs\u001b[49m\u001b[43m)\u001b[49m\u001b[43m}\u001b[49m\u001b[43m,\u001b[49m\n\u001b[0;32m    489\u001b[0m \u001b[43m    \u001b[49m\u001b[43mOutput\u001b[49m\u001b[38;5;241;43m.\u001b[39;49m\u001b[43mSTRING\u001b[49m\u001b[43m:\u001b[49m\u001b[43m \u001b[49m\u001b[38;5;28;43;01mlambda\u001b[39;49;00m\u001b[43m:\u001b[49m\u001b[43m \u001b[49m\u001b[43mrun_and_get_output\u001b[49m\u001b[43m(\u001b[49m\u001b[38;5;241;43m*\u001b[39;49m\u001b[43margs\u001b[49m\u001b[43m)\u001b[49m\u001b[43m,\u001b[49m\n\u001b[0;32m    490\u001b[0m \u001b[43m\u001b[49m\u001b[43m}\u001b[49m\u001b[43m[\u001b[49m\u001b[43moutput_type\u001b[49m\u001b[43m]\u001b[49m\u001b[43m(\u001b[49m\u001b[43m)\u001b[49m\n",
      "File \u001b[1;32mc:\\Users\\absaa\\anaconda3\\envs\\pytorch_env\\lib\\site-packages\\pytesseract\\pytesseract.py:489\u001b[0m, in \u001b[0;36mimage_to_string.<locals>.<lambda>\u001b[1;34m()\u001b[0m\n\u001b[0;32m    481\u001b[0m \u001b[38;5;250m\u001b[39m\u001b[38;5;124;03m\"\"\"\u001b[39;00m\n\u001b[0;32m    482\u001b[0m \u001b[38;5;124;03mReturns the result of a Tesseract OCR run on the provided image to string\u001b[39;00m\n\u001b[0;32m    483\u001b[0m \u001b[38;5;124;03m\"\"\"\u001b[39;00m\n\u001b[0;32m    484\u001b[0m args \u001b[38;5;241m=\u001b[39m [image, \u001b[38;5;124m'\u001b[39m\u001b[38;5;124mtxt\u001b[39m\u001b[38;5;124m'\u001b[39m, lang, config, nice, timeout]\n\u001b[0;32m    486\u001b[0m \u001b[38;5;28;01mreturn\u001b[39;00m {\n\u001b[0;32m    487\u001b[0m     Output\u001b[38;5;241m.\u001b[39mBYTES: \u001b[38;5;28;01mlambda\u001b[39;00m: run_and_get_output(\u001b[38;5;241m*\u001b[39m(args \u001b[38;5;241m+\u001b[39m [\u001b[38;5;28;01mTrue\u001b[39;00m])),\n\u001b[0;32m    488\u001b[0m     Output\u001b[38;5;241m.\u001b[39mDICT: \u001b[38;5;28;01mlambda\u001b[39;00m: {\u001b[38;5;124m'\u001b[39m\u001b[38;5;124mtext\u001b[39m\u001b[38;5;124m'\u001b[39m: run_and_get_output(\u001b[38;5;241m*\u001b[39margs)},\n\u001b[1;32m--> 489\u001b[0m     Output\u001b[38;5;241m.\u001b[39mSTRING: \u001b[38;5;28;01mlambda\u001b[39;00m: \u001b[43mrun_and_get_output\u001b[49m\u001b[43m(\u001b[49m\u001b[38;5;241;43m*\u001b[39;49m\u001b[43margs\u001b[49m\u001b[43m)\u001b[49m,\n\u001b[0;32m    490\u001b[0m }[output_type]()\n",
      "File \u001b[1;32mc:\\Users\\absaa\\anaconda3\\envs\\pytorch_env\\lib\\site-packages\\pytesseract\\pytesseract.py:352\u001b[0m, in \u001b[0;36mrun_and_get_output\u001b[1;34m(image, extension, lang, config, nice, timeout, return_bytes)\u001b[0m\n\u001b[0;32m    341\u001b[0m \u001b[38;5;28;01mwith\u001b[39;00m save(image) \u001b[38;5;28;01mas\u001b[39;00m (temp_name, input_filename):\n\u001b[0;32m    342\u001b[0m     kwargs \u001b[38;5;241m=\u001b[39m {\n\u001b[0;32m    343\u001b[0m         \u001b[38;5;124m'\u001b[39m\u001b[38;5;124minput_filename\u001b[39m\u001b[38;5;124m'\u001b[39m: input_filename,\n\u001b[0;32m    344\u001b[0m         \u001b[38;5;124m'\u001b[39m\u001b[38;5;124moutput_filename_base\u001b[39m\u001b[38;5;124m'\u001b[39m: temp_name,\n\u001b[1;32m   (...)\u001b[0m\n\u001b[0;32m    349\u001b[0m         \u001b[38;5;124m'\u001b[39m\u001b[38;5;124mtimeout\u001b[39m\u001b[38;5;124m'\u001b[39m: timeout,\n\u001b[0;32m    350\u001b[0m     }\n\u001b[1;32m--> 352\u001b[0m     run_tesseract(\u001b[38;5;241m*\u001b[39m\u001b[38;5;241m*\u001b[39mkwargs)\n\u001b[0;32m    353\u001b[0m     \u001b[38;5;28;01mreturn\u001b[39;00m _read_output(\n\u001b[0;32m    354\u001b[0m         \u001b[38;5;124mf\u001b[39m\u001b[38;5;124m\"\u001b[39m\u001b[38;5;132;01m{\u001b[39;00mkwargs[\u001b[38;5;124m'\u001b[39m\u001b[38;5;124moutput_filename_base\u001b[39m\u001b[38;5;124m'\u001b[39m]\u001b[38;5;132;01m}\u001b[39;00m\u001b[38;5;132;01m{\u001b[39;00mextsep\u001b[38;5;132;01m}\u001b[39;00m\u001b[38;5;132;01m{\u001b[39;00mextension\u001b[38;5;132;01m}\u001b[39;00m\u001b[38;5;124m\"\u001b[39m,\n\u001b[0;32m    355\u001b[0m         return_bytes,\n\u001b[0;32m    356\u001b[0m     )\n",
      "File \u001b[1;32mc:\\Users\\absaa\\anaconda3\\envs\\pytorch_env\\lib\\site-packages\\pytesseract\\pytesseract.py:280\u001b[0m, in \u001b[0;36mrun_tesseract\u001b[1;34m(input_filename, output_filename_base, extension, lang, config, nice, timeout)\u001b[0m\n\u001b[0;32m    278\u001b[0m         \u001b[38;5;28;01mraise\u001b[39;00m\n\u001b[0;32m    279\u001b[0m     \u001b[38;5;28;01melse\u001b[39;00m:\n\u001b[1;32m--> 280\u001b[0m         \u001b[38;5;28;01mraise\u001b[39;00m TesseractNotFoundError()\n\u001b[0;32m    282\u001b[0m \u001b[38;5;28;01mwith\u001b[39;00m timeout_manager(proc, timeout) \u001b[38;5;28;01mas\u001b[39;00m error_string:\n\u001b[0;32m    283\u001b[0m     \u001b[38;5;28;01mif\u001b[39;00m proc\u001b[38;5;241m.\u001b[39mreturncode:\n",
      "\u001b[1;31mTesseractNotFoundError\u001b[0m: tesseract is not installed or it's not in your PATH. See README file for more information."
     ]
    }
   ],
   "source": [
    "import pytesseract\n",
    "import cv2 as cv\n",
    "from PIL import Image\n",
    "\n",
    "img = Image.open('temp_images\\extracted_account_2.png')\n",
    "text = pytesseract.image_to_string(img, config='outputbase digits')\n",
    "print(text)\n"
   ]
  },
  {
   "cell_type": "code",
   "execution_count": 22,
   "metadata": {},
   "outputs": [
    {
     "ename": "ModuleNotFoundError",
     "evalue": "No module named 'tensorflow'",
     "output_type": "error",
     "traceback": [
      "\u001b[1;31m---------------------------------------------------------------------------\u001b[0m",
      "\u001b[1;31mModuleNotFoundError\u001b[0m                       Traceback (most recent call last)",
      "Cell \u001b[1;32mIn[22], line 1\u001b[0m\n\u001b[1;32m----> 1\u001b[0m \u001b[38;5;28;01mimport\u001b[39;00m \u001b[38;5;21;01mkeras_ocr\u001b[39;00m\n\u001b[0;32m      3\u001b[0m \u001b[38;5;66;03m# Initialize the OCR pipeline\u001b[39;00m\n\u001b[0;32m      4\u001b[0m pipeline \u001b[38;5;241m=\u001b[39m keras_ocr\u001b[38;5;241m.\u001b[39mpipeline\u001b[38;5;241m.\u001b[39mPipeline()\n",
      "File \u001b[1;32mc:\\Users\\absaa\\anaconda3\\envs\\pytorch_env\\lib\\site-packages\\keras_ocr\\__init__.py:1\u001b[0m\n\u001b[1;32m----> 1\u001b[0m \u001b[38;5;28;01mfrom\u001b[39;00m \u001b[38;5;21;01m.\u001b[39;00m \u001b[38;5;28;01mimport\u001b[39;00m (\n\u001b[0;32m      2\u001b[0m     detection,\n\u001b[0;32m      3\u001b[0m     recognition,\n\u001b[0;32m      4\u001b[0m     tools,\n\u001b[0;32m      5\u001b[0m     data_generation,\n\u001b[0;32m      6\u001b[0m     pipeline,\n\u001b[0;32m      7\u001b[0m     evaluation,\n\u001b[0;32m      8\u001b[0m     datasets,\n\u001b[0;32m      9\u001b[0m     config,\n\u001b[0;32m     10\u001b[0m )\n\u001b[0;32m     12\u001b[0m __version__ \u001b[38;5;241m=\u001b[39m \u001b[38;5;124m\"\u001b[39m\u001b[38;5;124m0.9.3\u001b[39m\u001b[38;5;124m\"\u001b[39m\n",
      "File \u001b[1;32mc:\\Users\\absaa\\anaconda3\\envs\\pytorch_env\\lib\\site-packages\\keras_ocr\\detection.py:27\u001b[0m\n\u001b[0;32m     25\u001b[0m \u001b[38;5;28;01mimport\u001b[39;00m \u001b[38;5;21;01mcv2\u001b[39;00m\n\u001b[0;32m     26\u001b[0m \u001b[38;5;28;01mimport\u001b[39;00m \u001b[38;5;21;01mnumpy\u001b[39;00m \u001b[38;5;28;01mas\u001b[39;00m \u001b[38;5;21;01mnp\u001b[39;00m\n\u001b[1;32m---> 27\u001b[0m \u001b[38;5;28;01mimport\u001b[39;00m \u001b[38;5;21;01mtensorflow\u001b[39;00m \u001b[38;5;28;01mas\u001b[39;00m \u001b[38;5;21;01mtf\u001b[39;00m\n\u001b[0;32m     28\u001b[0m \u001b[38;5;28;01mimport\u001b[39;00m \u001b[38;5;21;01mefficientnet\u001b[39;00m\u001b[38;5;21;01m.\u001b[39;00m\u001b[38;5;21;01mtfkeras\u001b[39;00m \u001b[38;5;28;01mas\u001b[39;00m \u001b[38;5;21;01mefficientnet\u001b[39;00m\n\u001b[0;32m     29\u001b[0m \u001b[38;5;28;01mfrom\u001b[39;00m \u001b[38;5;21;01mtensorflow\u001b[39;00m \u001b[38;5;28;01mimport\u001b[39;00m keras\n",
      "\u001b[1;31mModuleNotFoundError\u001b[0m: No module named 'tensorflow'"
     ]
    }
   ],
   "source": [
    "import keras_ocr\n",
    "\n",
    "# Initialize the OCR pipeline\n",
    "pipeline = keras_ocr.pipeline.Pipeline()\n",
    "\n",
    "# Read image and extract text (numbers)\n",
    "images = [keras_ocr.tools.read('temp_images\\extracted_account_2.png')]\n",
    "prediction_groups = pipeline.recognize(images)\n",
    "\n",
    "for box, text in prediction_groups[0]:\n",
    "    print(f\"Detected text: {text}\")\n"
   ]
  },
  {
   "cell_type": "code",
   "execution_count": null,
   "metadata": {},
   "outputs": [],
   "source": []
  }
 ],
 "metadata": {
  "kernelspec": {
   "display_name": "pytorch_env",
   "language": "python",
   "name": "python3"
  },
  "language_info": {
   "codemirror_mode": {
    "name": "ipython",
    "version": 3
   },
   "file_extension": ".py",
   "mimetype": "text/x-python",
   "name": "python",
   "nbconvert_exporter": "python",
   "pygments_lexer": "ipython3",
   "version": "3.10.15"
  }
 },
 "nbformat": 4,
 "nbformat_minor": 2
}
