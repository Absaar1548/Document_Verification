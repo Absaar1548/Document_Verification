{
 "cells": [
  {
   "cell_type": "code",
   "execution_count": 2,
   "metadata": {},
   "outputs": [
    {
     "name": "stdout",
     "output_type": "stream",
     "text": [
      "Response Status Code: 200\n",
      "Response Body: {\"account_details\":\"911010049001545\",\"signature\":\"temp_images\\\\signature_1.png\",\"Verification details\":\"Matched\",\"Distance\":1.1313708455418237e-05}\n"
     ]
    }
   ],
   "source": [
    "import requests\n",
    "\n",
    "# URL of the server endpoint\n",
    "url = \"http://127.0.0.1:8000/verify-document\"  # Replace with your actual server URL and endpoint\n",
    "\n",
    "# Path to the image file you want to send\n",
    "image_path = \"Sample Images\\Cheque309135.jpg\"  # Replace with the actual image path\n",
    "\n",
    "# Open the image file in binary mode\n",
    "with open(image_path, 'rb') as image_file:\n",
    "    # Create a dictionary for the form data\n",
    "    files = {'file': (image_path, image_file, 'image/png')}  # Adjust the MIME type if needed\n",
    "    \n",
    "    # Send the POST request with the image as form-data\n",
    "    response = requests.post(url, files=files)\n",
    "    \n",
    "    # Print the received response\n",
    "    print(\"Response Status Code:\", response.status_code)  # Print status code (200 for OK)\n",
    "    print(\"Response Body:\", response.text)  # Print the body of the response\n"
   ]
  },
  {
   "cell_type": "code",
   "execution_count": 6,
   "metadata": {},
   "outputs": [
    {
     "name": "stderr",
     "output_type": "stream",
     "text": [
      "Processing images:   0%|          | 0/112 [00:00<?, ?it/s]"
     ]
    },
    {
     "name": "stdout",
     "output_type": "stream",
     "text": [
      "\n",
      "image 1/1 e:\\Document Verfication\\Sample Images\\IDRBT Cheque Image Dataset\\A300\\Cheque 083654.tif: 320x640 1 signature, 1 reciever, 1 account, 1 amount, 55.6ms\n",
      "Speed: 11.1ms preprocess, 55.6ms inference, 9.4ms postprocess per image at shape (1, 3, 320, 640)\n",
      "Class: amount, Shape: (98, 460)\n",
      "Saved cropped image: E:/Document Verfication/temp_images\\extracted_amount_0.png\n",
      "Class: signature, Shape: (174, 306)\n",
      "Saved cropped image: E:/Document Verfication/temp_images\\extracted_signature_1.png\n",
      "Class: account, Shape: (89, 827)\n",
      "Saved cropped image: E:/Document Verfication/temp_images\\extracted_account_2.png\n",
      "Class: reciever, Shape: (126, 1026)\n",
      "Saved cropped image: E:/Document Verfication/temp_images\\extracted_reciever_3.png\n"
     ]
    },
    {
     "name": "stderr",
     "output_type": "stream",
     "text": [
      "Processing images:   1%|          | 1/112 [00:01<01:58,  1.07s/it]"
     ]
    },
    {
     "name": "stdout",
     "output_type": "stream",
     "text": [
      "3000201010884 \n",
      "\n",
      "\n",
      "image 1/1 e:\\Document Verfication\\Sample Images\\IDRBT Cheque Image Dataset\\A300\\Cheque 083655.tif: 320x640 1 signature, 1 reciever, 1 account, 1 amount, 131.0ms\n",
      "Speed: 14.5ms preprocess, 131.0ms inference, 3.7ms postprocess per image at shape (1, 3, 320, 640)\n"
     ]
    },
    {
     "name": "stderr",
     "output_type": "stream",
     "text": [
      "Processing images:   2%|▏         | 2/112 [00:01<01:15,  1.45it/s]"
     ]
    },
    {
     "name": "stdout",
     "output_type": "stream",
     "text": [
      "Class: amount, Shape: (97, 449)\n",
      "Saved cropped image: E:/Document Verfication/temp_images\\extracted_amount_0.png\n",
      "Class: signature, Shape: (147, 276)\n",
      "Saved cropped image: E:/Document Verfication/temp_images\\extracted_signature_1.png\n",
      "Class: account, Shape: (94, 813)\n",
      "Saved cropped image: E:/Document Verfication/temp_images\\extracted_account_2.png\n",
      "Class: reciever, Shape: (113, 845)\n",
      "Saved cropped image: E:/Document Verfication/temp_images\\extracted_reciever_3.png\n",
      "3000201010884 \n",
      "\n",
      "\n",
      "image 1/1 e:\\Document Verfication\\Sample Images\\IDRBT Cheque Image Dataset\\A300\\Cheque 083656.tif: 320x640 1 signature, 1 reciever, 1 account, 1 amount, 24.8ms\n",
      "Speed: 13.8ms preprocess, 24.8ms inference, 6.7ms postprocess per image at shape (1, 3, 320, 640)\n",
      "Class: amount, Shape: (99, 463)\n",
      "Saved cropped image: E:/Document Verfication/temp_images\\extracted_amount_0.png\n",
      "Class: signature, Shape: (140, 286)\n",
      "Saved cropped image: E:/Document Verfication/temp_images\\extracted_signature_1.png\n",
      "Class: account, Shape: (106, 816)\n",
      "Saved cropped image: E:/Document Verfication/temp_images\\extracted_account_2.png\n",
      "Class: reciever, Shape: (122, 885)\n",
      "Saved cropped image: E:/Document Verfication/temp_images\\extracted_reciever_3.png\n",
      "30002010408841 \n",
      "\n"
     ]
    },
    {
     "name": "stderr",
     "output_type": "stream",
     "text": [
      "Processing images:   3%|▎         | 3/112 [00:01<00:55,  1.96it/s]"
     ]
    },
    {
     "name": "stdout",
     "output_type": "stream",
     "text": [
      "\n",
      "image 1/1 e:\\Document Verfication\\Sample Images\\IDRBT Cheque Image Dataset\\A300\\Cheque 083657.tif: 320x640 1 signature, 1 reciever, 1 amount, 26.1ms\n",
      "Speed: 5.5ms preprocess, 26.1ms inference, 0.0ms postprocess per image at shape (1, 3, 320, 640)\n"
     ]
    },
    {
     "name": "stderr",
     "output_type": "stream",
     "text": [
      "Processing images:   4%|▎         | 4/112 [00:01<00:39,  2.72it/s]"
     ]
    },
    {
     "name": "stdout",
     "output_type": "stream",
     "text": [
      "Class: amount, Shape: (98, 462)\n",
      "Saved cropped image: E:/Document Verfication/temp_images\\extracted_amount_0.png\n",
      "Class: signature, Shape: (138, 284)\n",
      "Saved cropped image: E:/Document Verfication/temp_images\\extracted_signature_1.png\n",
      "Class: reciever, Shape: (116, 794)\n",
      "Saved cropped image: E:/Document Verfication/temp_images\\extracted_reciever_2.png\n",
      "Error Extracting\n",
      "\n",
      "image 1/1 e:\\Document Verfication\\Sample Images\\IDRBT Cheque Image Dataset\\A300\\Cheque 083658.tif: 320x640 1 signature, 1 reciever, 1 account, 1 amount, 24.0ms\n",
      "Speed: 3.5ms preprocess, 24.0ms inference, 10.0ms postprocess per image at shape (1, 3, 320, 640)\n",
      "Class: amount, Shape: (96, 459)\n",
      "Saved cropped image: E:/Document Verfication/temp_images\\extracted_amount_0.png\n",
      "Class: signature, Shape: (138, 266)\n",
      "Saved cropped image: E:/Document Verfication/temp_images\\extracted_signature_1.png\n",
      "Class: reciever, Shape: (99, 515)\n",
      "Saved cropped image: E:/Document Verfication/temp_images\\extracted_reciever_2.png\n",
      "Class: account, Shape: (91, 803)\n",
      "Saved cropped image: E:/Document Verfication/temp_images\\extracted_account_3.png\n"
     ]
    },
    {
     "name": "stderr",
     "output_type": "stream",
     "text": [
      "Processing images:   4%|▍         | 5/112 [00:02<00:37,  2.83it/s]"
     ]
    },
    {
     "name": "stdout",
     "output_type": "stream",
     "text": [
      "3000201010884 \n",
      "\n",
      "\n",
      "image 1/1 e:\\Document Verfication\\Sample Images\\IDRBT Cheque Image Dataset\\A300\\Cheque 083659.tif: 320x640 1 signature, 1 reciever, 1 amount, 40.2ms\n",
      "Speed: 0.0ms preprocess, 40.2ms inference, 6.4ms postprocess per image at shape (1, 3, 320, 640)\n"
     ]
    },
    {
     "name": "stderr",
     "output_type": "stream",
     "text": [
      "Processing images:   5%|▌         | 6/112 [00:02<00:30,  3.51it/s]"
     ]
    },
    {
     "name": "stdout",
     "output_type": "stream",
     "text": [
      "Class: amount, Shape: (97, 462)\n",
      "Saved cropped image: E:/Document Verfication/temp_images\\extracted_amount_0.png\n",
      "Class: signature, Shape: (142, 320)\n",
      "Saved cropped image: E:/Document Verfication/temp_images\\extracted_signature_1.png\n",
      "Class: reciever, Shape: (87, 653)\n",
      "Saved cropped image: E:/Document Verfication/temp_images\\extracted_reciever_2.png\n",
      "Error Extracting\n",
      "\n",
      "image 1/1 e:\\Document Verfication\\Sample Images\\IDRBT Cheque Image Dataset\\A300\\Cheque 083660.tif: 320x640 1 signature, 1 reciever, 1 account, 1 amount, 62.9ms\n",
      "Speed: 32.5ms preprocess, 62.9ms inference, 0.0ms postprocess per image at shape (1, 3, 320, 640)\n"
     ]
    },
    {
     "name": "stderr",
     "output_type": "stream",
     "text": [
      "Processing images:   6%|▋         | 7/112 [00:02<00:32,  3.27it/s]"
     ]
    },
    {
     "name": "stdout",
     "output_type": "stream",
     "text": [
      "Class: amount, Shape: (96, 455)\n",
      "Saved cropped image: E:/Document Verfication/temp_images\\extracted_amount_0.png\n",
      "Class: signature, Shape: (142, 195)\n",
      "Saved cropped image: E:/Document Verfication/temp_images\\extracted_signature_1.png\n",
      "Class: reciever, Shape: (121, 859)\n",
      "Saved cropped image: E:/Document Verfication/temp_images\\extracted_reciever_2.png\n",
      "Class: account, Shape: (97, 818)\n",
      "Saved cropped image: E:/Document Verfication/temp_images\\extracted_account_3.png\n",
      "3000201010884 \n",
      "\n",
      "\n",
      "image 1/1 e:\\Document Verfication\\Sample Images\\IDRBT Cheque Image Dataset\\A300\\Cheque 100828.tif: 320x640 1 signature, 1 reciever, 1 account, 1 amount, 28.6ms\n",
      "Speed: 6.5ms preprocess, 28.6ms inference, 8.7ms postprocess per image at shape (1, 3, 320, 640)\n",
      "Class: account, Shape: (73, 269)\n",
      "Saved cropped image: E:/Document Verfication/temp_images\\extracted_account_0.png\n",
      "Class: amount, Shape: (109, 460)\n",
      "Saved cropped image: E:/Document Verfication/temp_images\\extracted_amount_1.png\n",
      "Class: signature, Shape: (152, 292)\n",
      "Saved cropped image: E:/Document Verfication/temp_images\\extracted_signature_2.png\n",
      "Class: reciever, Shape: (104, 795)\n",
      "Saved cropped image: E:/Document Verfication/temp_images\\extracted_reciever_3.png\n"
     ]
    },
    {
     "name": "stderr",
     "output_type": "stream",
     "text": [
      "Processing images:   7%|▋         | 8/112 [00:03<00:32,  3.25it/s]"
     ]
    },
    {
     "name": "stdout",
     "output_type": "stream",
     "text": [
      "630801551452 \n",
      "\n",
      "\n",
      "image 1/1 e:\\Document Verfication\\Sample Images\\IDRBT Cheque Image Dataset\\A300\\Cheque 100829.tif: 320x640 1 signature, 1 reciever, 1 account, 1 amount, 56.5ms\n",
      "Speed: 0.0ms preprocess, 56.5ms inference, 8.7ms postprocess per image at shape (1, 3, 320, 640)\n",
      "Class: account, Shape: (76, 270)\n",
      "Saved cropped image: E:/Document Verfication/temp_images\\extracted_account_0.png\n",
      "Class: amount, Shape: (108, 460)\n",
      "Saved cropped image: E:/Document Verfication/temp_images\\extracted_amount_1.png\n",
      "Class: signature, Shape: (149, 295)\n",
      "Saved cropped image: E:/Document Verfication/temp_images\\extracted_signature_2.png\n",
      "Class: reciever, Shape: (85, 653)\n",
      "Saved cropped image: E:/Document Verfication/temp_images\\extracted_reciever_3.png\n"
     ]
    },
    {
     "name": "stderr",
     "output_type": "stream",
     "text": [
      "Processing images:   8%|▊         | 9/112 [00:03<00:35,  2.92it/s]"
     ]
    },
    {
     "name": "stdout",
     "output_type": "stream",
     "text": [
      "630801551452 \n",
      "\n",
      "\n",
      "image 1/1 e:\\Document Verfication\\Sample Images\\IDRBT Cheque Image Dataset\\A300\\Cheque 100830.tif: 320x640 1 signature, 1 reciever, 1 account, 1 amount, 55.5ms\n",
      "Speed: 1.6ms preprocess, 55.5ms inference, 3.0ms postprocess per image at shape (1, 3, 320, 640)\n",
      "Class: account, Shape: (74, 278)\n",
      "Saved cropped image: E:/Document Verfication/temp_images\\extracted_account_0.png\n",
      "Class: amount, Shape: (105, 472)\n",
      "Saved cropped image: E:/Document Verfication/temp_images\\extracted_amount_1.png\n",
      "Class: signature, Shape: (149, 282)\n",
      "Saved cropped image: E:/Document Verfication/temp_images\\extracted_signature_2.png\n",
      "Class: reciever, Shape: (105, 699)\n",
      "Saved cropped image: E:/Document Verfication/temp_images\\extracted_reciever_3.png\n"
     ]
    },
    {
     "name": "stderr",
     "output_type": "stream",
     "text": [
      "Processing images:   9%|▉         | 10/112 [00:03<00:37,  2.72it/s]"
     ]
    },
    {
     "name": "stdout",
     "output_type": "stream",
     "text": [
      "630801551452 \n",
      "\n",
      "\n",
      "image 1/1 e:\\Document Verfication\\Sample Images\\IDRBT Cheque Image Dataset\\A300\\Cheque 100831.tif: 320x640 1 signature, 1 reciever, 1 account, 1 amount, 55.6ms\n",
      "Speed: 5.3ms preprocess, 55.6ms inference, 10.4ms postprocess per image at shape (1, 3, 320, 640)\n",
      "Class: account, Shape: (75, 288)\n",
      "Saved cropped image: E:/Document Verfication/temp_images\\extracted_account_0.png\n",
      "Class: amount, Shape: (110, 463)\n",
      "Saved cropped image: E:/Document Verfication/temp_images\\extracted_amount_1.png\n",
      "Class: signature, Shape: (154, 295)\n",
      "Saved cropped image: E:/Document Verfication/temp_images\\extracted_signature_2.png\n",
      "Class: reciever, Shape: (98, 915)\n",
      "Saved cropped image: E:/Document Verfication/temp_images\\extracted_reciever_3.png\n"
     ]
    },
    {
     "name": "stderr",
     "output_type": "stream",
     "text": [
      "Processing images:  10%|▉         | 11/112 [00:04<00:39,  2.55it/s]"
     ]
    },
    {
     "name": "stdout",
     "output_type": "stream",
     "text": [
      "630801551452 \n",
      "\n",
      "\n",
      "image 1/1 e:\\Document Verfication\\Sample Images\\IDRBT Cheque Image Dataset\\A300\\Cheque 100832.tif: 320x640 1 signature, 1 reciever, 1 account, 1 amount, 61.9ms\n",
      "Speed: 1.7ms preprocess, 61.9ms inference, 5.5ms postprocess per image at shape (1, 3, 320, 640)\n",
      "Class: account, Shape: (75, 275)\n",
      "Saved cropped image: E:/Document Verfication/temp_images\\extracted_account_0.png\n",
      "Class: amount, Shape: (113, 465)\n",
      "Saved cropped image: E:/Document Verfication/temp_images\\extracted_amount_1.png\n",
      "Class: signature, Shape: (157, 312)\n",
      "Saved cropped image: E:/Document Verfication/temp_images\\extracted_signature_2.png\n",
      "Class: reciever, Shape: (90, 776)\n",
      "Saved cropped image: E:/Document Verfication/temp_images\\extracted_reciever_3.png\n"
     ]
    },
    {
     "name": "stderr",
     "output_type": "stream",
     "text": [
      "Processing images:  11%|█         | 12/112 [00:04<00:41,  2.43it/s]"
     ]
    },
    {
     "name": "stdout",
     "output_type": "stream",
     "text": [
      "630801551452 \n",
      "\n",
      "\n",
      "image 1/1 e:\\Document Verfication\\Sample Images\\IDRBT Cheque Image Dataset\\A300\\Cheque 100833.tif: 320x640 1 signature, 1 reciever, 1 account, 1 amount, 43.3ms\n",
      "Speed: 0.0ms preprocess, 43.3ms inference, 8.0ms postprocess per image at shape (1, 3, 320, 640)\n"
     ]
    },
    {
     "name": "stderr",
     "output_type": "stream",
     "text": [
      "Processing images:  12%|█▏        | 13/112 [00:05<00:37,  2.63it/s]"
     ]
    },
    {
     "name": "stdout",
     "output_type": "stream",
     "text": [
      "Class: account, Shape: (75, 269)\n",
      "Saved cropped image: E:/Document Verfication/temp_images\\extracted_account_0.png\n",
      "Class: amount, Shape: (111, 459)\n",
      "Saved cropped image: E:/Document Verfication/temp_images\\extracted_amount_1.png\n",
      "Class: signature, Shape: (151, 246)\n",
      "Saved cropped image: E:/Document Verfication/temp_images\\extracted_signature_2.png\n",
      "Class: reciever, Shape: (112, 876)\n",
      "Saved cropped image: E:/Document Verfication/temp_images\\extracted_reciever_3.png\n",
      "630801551452 \n",
      "\n",
      "\n",
      "image 1/1 e:\\Document Verfication\\Sample Images\\IDRBT Cheque Image Dataset\\A300\\Cheque 100834.tif: 320x640 1 signature, 1 reciever, 1 account, 1 amount, 24.0ms\n",
      "Speed: 0.0ms preprocess, 24.0ms inference, 0.0ms postprocess per image at shape (1, 3, 320, 640)\n"
     ]
    },
    {
     "name": "stderr",
     "output_type": "stream",
     "text": [
      "Processing images:  12%|█▎        | 14/112 [00:05<00:33,  2.94it/s]"
     ]
    },
    {
     "name": "stdout",
     "output_type": "stream",
     "text": [
      "Class: account, Shape: (76, 271)\n",
      "Saved cropped image: E:/Document Verfication/temp_images\\extracted_account_0.png\n",
      "Class: amount, Shape: (103, 462)\n",
      "Saved cropped image: E:/Document Verfication/temp_images\\extracted_amount_1.png\n",
      "Class: signature, Shape: (159, 279)\n",
      "Saved cropped image: E:/Document Verfication/temp_images\\extracted_signature_2.png\n",
      "Class: reciever, Shape: (90, 755)\n",
      "Saved cropped image: E:/Document Verfication/temp_images\\extracted_reciever_3.png\n",
      "630801551452 \n",
      "\n",
      "\n",
      "image 1/1 e:\\Document Verfication\\Sample Images\\IDRBT Cheque Image Dataset\\A300\\Cheque 100835.tif: 320x640 1 signature, 1 reciever, 1 account, 1 amount, 33.6ms\n",
      "Speed: 4.4ms preprocess, 33.6ms inference, 5.5ms postprocess per image at shape (1, 3, 320, 640)\n"
     ]
    },
    {
     "name": "stderr",
     "output_type": "stream",
     "text": [
      "Processing images:  13%|█▎        | 15/112 [00:05<00:30,  3.20it/s]"
     ]
    },
    {
     "name": "stdout",
     "output_type": "stream",
     "text": [
      "Class: account, Shape: (74, 281)\n",
      "Saved cropped image: E:/Document Verfication/temp_images\\extracted_account_0.png\n",
      "Class: amount, Shape: (106, 462)\n",
      "Saved cropped image: E:/Document Verfication/temp_images\\extracted_amount_1.png\n",
      "Class: signature, Shape: (159, 246)\n",
      "Saved cropped image: E:/Document Verfication/temp_images\\extracted_signature_2.png\n",
      "Class: reciever, Shape: (108, 871)\n",
      "Saved cropped image: E:/Document Verfication/temp_images\\extracted_reciever_3.png\n",
      "630801551452 \n",
      "\n",
      "\n",
      "image 1/1 e:\\Document Verfication\\Sample Images\\IDRBT Cheque Image Dataset\\A300\\Cheque 120611.tif: 320x640 1 signature, 1 reciever, 1 account, 1 amount, 36.4ms\n",
      "Speed: 0.7ms preprocess, 36.4ms inference, 10.0ms postprocess per image at shape (1, 3, 320, 640)\n",
      "Class: amount, Shape: (118, 452)\n",
      "Saved cropped image: E:/Document Verfication/temp_images\\extracted_amount_0.png\n",
      "Class: signature, Shape: (137, 349)\n",
      "Saved cropped image: E:/Document Verfication/temp_images\\extracted_signature_1.png\n",
      "Class: account, Shape: (97, 597)\n",
      "Saved cropped image: E:/Document Verfication/temp_images\\extracted_account_2.png\n",
      "Class: reciever, Shape: (109, 644)\n",
      "Saved cropped image: E:/Document Verfication/temp_images\\extracted_reciever_3.png\n"
     ]
    },
    {
     "name": "stderr",
     "output_type": "stream",
     "text": [
      "Processing images:  14%|█▍        | 16/112 [00:06<00:35,  2.71it/s]"
     ]
    },
    {
     "name": "stdout",
     "output_type": "stream",
     "text": [
      " \n",
      "\n",
      "\n",
      "image 1/1 e:\\Document Verfication\\Sample Images\\IDRBT Cheque Image Dataset\\A300\\Cheque 120612.tif: 320x640 1 signature, 1 reciever, 1 account, 1 amount, 25.4ms\n",
      "Speed: 4.8ms preprocess, 25.4ms inference, 10.0ms postprocess per image at shape (1, 3, 320, 640)\n",
      "Class: amount, Shape: (115, 448)\n",
      "Saved cropped image: E:/Document Verfication/temp_images\\extracted_amount_0.png\n",
      "Class: account, Shape: (97, 588)\n",
      "Saved cropped image: E:/Document Verfication/temp_images\\extracted_account_1.png\n",
      "Class: signature, Shape: (118, 366)\n",
      "Saved cropped image: E:/Document Verfication/temp_images\\extracted_signature_2.png\n",
      "Class: reciever, Shape: (135, 1268)\n",
      "Saved cropped image: E:/Document Verfication/temp_images\\extracted_reciever_3.png\n"
     ]
    },
    {
     "name": "stderr",
     "output_type": "stream",
     "text": [
      "Processing images:  15%|█▌        | 17/112 [00:06<00:34,  2.73it/s]"
     ]
    },
    {
     "name": "stdout",
     "output_type": "stream",
     "text": [
      " \n",
      "\n",
      "\n",
      "image 1/1 e:\\Document Verfication\\Sample Images\\IDRBT Cheque Image Dataset\\A300\\Cheque 120613.tif: 320x640 1 signature, 1 reciever, 1 account, 1 amount, 26.8ms\n",
      "Speed: 7.3ms preprocess, 26.8ms inference, 3.0ms postprocess per image at shape (1, 3, 320, 640)\n",
      "Class: amount, Shape: (119, 453)\n",
      "Saved cropped image: E:/Document Verfication/temp_images\\extracted_amount_0.png\n",
      "Class: signature, Shape: (150, 401)\n",
      "Saved cropped image: E:/Document Verfication/temp_images\\extracted_signature_1.png\n",
      "Class: account, Shape: (97, 564)\n",
      "Saved cropped image: E:/Document Verfication/temp_images\\extracted_account_2.png\n",
      "Class: reciever, Shape: (103, 864)\n",
      "Saved cropped image: E:/Document Verfication/temp_images\\extracted_reciever_3.png\n"
     ]
    },
    {
     "name": "stderr",
     "output_type": "stream",
     "text": [
      "Processing images:  16%|█▌        | 18/112 [00:06<00:35,  2.67it/s]"
     ]
    },
    {
     "name": "stdout",
     "output_type": "stream",
     "text": [
      "2854101006936 \n",
      "\n",
      "\n",
      "image 1/1 e:\\Document Verfication\\Sample Images\\IDRBT Cheque Image Dataset\\A300\\Cheque 120614.tif: 320x640 1 signature, 1 reciever, 1 account, 1 amount, 42.8ms\n",
      "Speed: 5.3ms preprocess, 42.8ms inference, 8.9ms postprocess per image at shape (1, 3, 320, 640)\n",
      "Class: amount, Shape: (121, 449)\n",
      "Saved cropped image: E:/Document Verfication/temp_images\\extracted_amount_0.png\n",
      "Class: signature, Shape: (162, 321)\n",
      "Saved cropped image: E:/Document Verfication/temp_images\\extracted_signature_1.png\n",
      "Class: account, Shape: (95, 584)\n",
      "Saved cropped image: E:/Document Verfication/temp_images\\extracted_account_2.png\n",
      "Class: reciever, Shape: (121, 1027)\n",
      "Saved cropped image: E:/Document Verfication/temp_images\\extracted_reciever_3.png\n"
     ]
    },
    {
     "name": "stderr",
     "output_type": "stream",
     "text": [
      "Processing images:  17%|█▋        | 19/112 [00:07<00:44,  2.07it/s]"
     ]
    },
    {
     "name": "stdout",
     "output_type": "stream",
     "text": [
      " \n",
      "\n",
      "\n",
      "image 1/1 e:\\Document Verfication\\Sample Images\\IDRBT Cheque Image Dataset\\A300\\Cheque 120615.tif: 320x640 1 signature, 1 reciever, 1 account, 1 amount, 23.8ms\n",
      "Speed: 16.5ms preprocess, 23.8ms inference, 10.0ms postprocess per image at shape (1, 3, 320, 640)\n",
      "Class: amount, Shape: (116, 454)\n",
      "Saved cropped image: E:/Document Verfication/temp_images\\extracted_amount_0.png\n",
      "Class: account, Shape: (91, 572)\n",
      "Saved cropped image: E:/Document Verfication/temp_images\\extracted_account_1.png\n",
      "Class: signature, Shape: (133, 239)\n",
      "Saved cropped image: E:/Document Verfication/temp_images\\extracted_signature_2.png\n",
      "Class: reciever, Shape: (110, 773)\n",
      "Saved cropped image: E:/Document Verfication/temp_images\\extracted_reciever_3.png\n",
      " \n",
      "\n"
     ]
    },
    {
     "name": "stderr",
     "output_type": "stream",
     "text": [
      "Processing images:  18%|█▊        | 20/112 [00:08<00:43,  2.13it/s]"
     ]
    },
    {
     "name": "stdout",
     "output_type": "stream",
     "text": [
      "\n",
      "image 1/1 e:\\Document Verfication\\Sample Images\\IDRBT Cheque Image Dataset\\A300\\Cheque 120616.tif: 320x640 1 signature, 1 reciever, 1 account, 1 amount, 33.7ms\n",
      "Speed: 0.0ms preprocess, 33.7ms inference, 0.0ms postprocess per image at shape (1, 3, 320, 640)\n",
      "Class: amount, Shape: (115, 456)\n",
      "Saved cropped image: E:/Document Verfication/temp_images\\extracted_amount_0.png\n",
      "Class: signature, Shape: (164, 302)\n",
      "Saved cropped image: E:/Document Verfication/temp_images\\extracted_signature_1.png\n",
      "Class: account, Shape: (93, 558)\n",
      "Saved cropped image: E:/Document Verfication/temp_images\\extracted_account_2.png\n",
      "Class: reciever, Shape: (111, 440)\n",
      "Saved cropped image: E:/Document Verfication/temp_images\\extracted_reciever_3.png\n"
     ]
    },
    {
     "name": "stderr",
     "output_type": "stream",
     "text": [
      "Processing images:  19%|█▉        | 21/112 [00:08<00:40,  2.22it/s]"
     ]
    },
    {
     "name": "stdout",
     "output_type": "stream",
     "text": [
      " \n",
      "\n",
      "\n",
      "image 1/1 e:\\Document Verfication\\Sample Images\\IDRBT Cheque Image Dataset\\A300\\Cheque 120617.tif: 320x640 1 signature, 1 reciever, 1 account, 1 amount, 34.0ms\n",
      "Speed: 0.0ms preprocess, 34.0ms inference, 9.2ms postprocess per image at shape (1, 3, 320, 640)\n",
      "Class: amount, Shape: (119, 459)\n",
      "Saved cropped image: E:/Document Verfication/temp_images\\extracted_amount_0.png\n",
      "Class: signature, Shape: (118, 200)\n",
      "Saved cropped image: E:/Document Verfication/temp_images\\extracted_signature_1.png\n",
      "Class: account, Shape: (91, 590)\n",
      "Saved cropped image: E:/Document Verfication/temp_images\\extracted_account_2.png\n",
      "Class: reciever, Shape: (127, 919)\n",
      "Saved cropped image: E:/Document Verfication/temp_images\\extracted_reciever_3.png\n",
      " \n",
      "\n"
     ]
    },
    {
     "name": "stderr",
     "output_type": "stream",
     "text": [
      "Processing images:  20%|█▉        | 22/112 [00:08<00:37,  2.39it/s]"
     ]
    },
    {
     "name": "stdout",
     "output_type": "stream",
     "text": [
      "\n",
      "image 1/1 e:\\Document Verfication\\Sample Images\\IDRBT Cheque Image Dataset\\A300\\Cheque 120618.tif: 320x640 1 signature, 1 reciever, 1 account, 1 amount, 45.6ms\n",
      "Speed: 0.0ms preprocess, 45.6ms inference, 1.2ms postprocess per image at shape (1, 3, 320, 640)\n",
      "Class: amount, Shape: (119, 452)\n",
      "Saved cropped image: E:/Document Verfication/temp_images\\extracted_amount_0.png\n",
      "Class: signature, Shape: (145, 312)\n",
      "Saved cropped image: E:/Document Verfication/temp_images\\extracted_signature_1.png\n",
      "Class: account, Shape: (95, 555)\n",
      "Saved cropped image: E:/Document Verfication/temp_images\\extracted_account_2.png\n",
      "Class: reciever, Shape: (113, 853)\n",
      "Saved cropped image: E:/Document Verfication/temp_images\\extracted_reciever_3.png\n"
     ]
    },
    {
     "name": "stderr",
     "output_type": "stream",
     "text": [
      "Processing images:  21%|██        | 23/112 [00:09<00:33,  2.62it/s]"
     ]
    },
    {
     "name": "stdout",
     "output_type": "stream",
     "text": [
      "2854101006936 \n",
      "\n",
      "\n",
      "image 1/1 e:\\Document Verfication\\Sample Images\\IDRBT Cheque Image Dataset\\A300\\Cheque 120619.tif: 320x640 1 signature, 1 reciever, 1 account, 1 amount, 36.6ms\n",
      "Speed: 7.7ms preprocess, 36.6ms inference, 0.0ms postprocess per image at shape (1, 3, 320, 640)\n",
      "Class: amount, Shape: (113, 452)\n",
      "Saved cropped image: E:/Document Verfication/temp_images\\extracted_amount_0.png\n",
      "Class: signature, Shape: (141, 207)\n",
      "Saved cropped image: E:/Document Verfication/temp_images\\extracted_signature_1.png\n",
      "Class: account, Shape: (96, 546)\n",
      "Saved cropped image: E:/Document Verfication/temp_images\\extracted_account_2.png\n",
      "Class: reciever, Shape: (102, 629)\n",
      "Saved cropped image: E:/Document Verfication/temp_images\\extracted_reciever_3.png\n"
     ]
    },
    {
     "name": "stderr",
     "output_type": "stream",
     "text": [
      "Processing images:  21%|██▏       | 24/112 [00:09<00:40,  2.18it/s]"
     ]
    },
    {
     "name": "stdout",
     "output_type": "stream",
     "text": [
      " \n",
      "\n",
      "\n",
      "image 1/1 e:\\Document Verfication\\Sample Images\\IDRBT Cheque Image Dataset\\A300\\Cheque 120620.tif: 320x640 1 signature, 1 reciever, 1 account, 1 amount, 29.0ms\n",
      "Speed: 8.2ms preprocess, 29.0ms inference, 8.2ms postprocess per image at shape (1, 3, 320, 640)\n",
      "Class: signature, Shape: (130, 187)\n",
      "Saved cropped image: E:/Document Verfication/temp_images\\extracted_signature_0.png\n",
      "Class: amount, Shape: (113, 457)\n",
      "Saved cropped image: E:/Document Verfication/temp_images\\extracted_amount_1.png\n",
      "Class: account, Shape: (104, 598)\n",
      "Saved cropped image: E:/Document Verfication/temp_images\\extracted_account_2.png\n",
      "Class: reciever, Shape: (106, 802)\n",
      "Saved cropped image: E:/Document Verfication/temp_images\\extracted_reciever_3.png\n"
     ]
    },
    {
     "name": "stderr",
     "output_type": "stream",
     "text": [
      "Processing images:  22%|██▏       | 25/112 [00:10<00:41,  2.12it/s]"
     ]
    },
    {
     "name": "stdout",
     "output_type": "stream",
     "text": [
      " \n",
      "\n",
      "\n",
      "image 1/1 e:\\Document Verfication\\Sample Images\\IDRBT Cheque Image Dataset\\A300\\Cheque 309061.tif: 320x640 1 signature, 1 reciever, 1 account, 1 amount, 99.6ms\n",
      "Speed: 0.0ms preprocess, 99.6ms inference, 6.8ms postprocess per image at shape (1, 3, 320, 640)\n"
     ]
    },
    {
     "name": "stderr",
     "output_type": "stream",
     "text": [
      "Processing images:  23%|██▎       | 26/112 [00:10<00:36,  2.37it/s]"
     ]
    },
    {
     "name": "stdout",
     "output_type": "stream",
     "text": [
      "Class: signature, Shape: (160, 227)\n",
      "Saved cropped image: E:/Document Verfication/temp_images\\extracted_signature_0.png\n",
      "Class: amount, Shape: (104, 459)\n",
      "Saved cropped image: E:/Document Verfication/temp_images\\extracted_amount_1.png\n",
      "Class: account, Shape: (68, 318)\n",
      "Saved cropped image: E:/Document Verfication/temp_images\\extracted_account_2.png\n",
      "Class: reciever, Shape: (90, 847)\n",
      "Saved cropped image: E:/Document Verfication/temp_images\\extracted_reciever_3.png\n",
      "911010049001545 \n",
      "\n",
      "\n",
      "image 1/1 e:\\Document Verfication\\Sample Images\\IDRBT Cheque Image Dataset\\A300\\Cheque 309062.tif: 320x640 1 reciever, 1 account, 1 amount, 26.7ms\n",
      "Speed: 4.7ms preprocess, 26.7ms inference, 0.0ms postprocess per image at shape (1, 3, 320, 640)\n"
     ]
    },
    {
     "name": "stderr",
     "output_type": "stream",
     "text": [
      "Processing images:  24%|██▍       | 27/112 [00:10<00:28,  2.94it/s]"
     ]
    },
    {
     "name": "stdout",
     "output_type": "stream",
     "text": [
      "Class: account, Shape: (72, 324)\n",
      "Saved cropped image: E:/Document Verfication/temp_images\\extracted_account_0.png\n",
      "Class: amount, Shape: (107, 412)\n",
      "Saved cropped image: E:/Document Verfication/temp_images\\extracted_amount_1.png\n",
      "Class: reciever, Shape: (102, 711)\n",
      "Saved cropped image: E:/Document Verfication/temp_images\\extracted_reciever_2.png\n",
      "Error Extracting\n",
      "\n",
      "image 1/1 e:\\Document Verfication\\Sample Images\\IDRBT Cheque Image Dataset\\A300\\Cheque 309063.tif: 320x640 1 reciever, 1 account, 1 amount, 31.1ms\n",
      "Speed: 5.6ms preprocess, 31.1ms inference, 8.2ms postprocess per image at shape (1, 3, 320, 640)\n",
      "Class: amount, Shape: (109, 394)\n"
     ]
    },
    {
     "name": "stderr",
     "output_type": "stream",
     "text": [
      "Processing images:  25%|██▌       | 28/112 [00:10<00:23,  3.51it/s]"
     ]
    },
    {
     "name": "stdout",
     "output_type": "stream",
     "text": [
      "Saved cropped image: E:/Document Verfication/temp_images\\extracted_amount_0.png\n",
      "Class: reciever, Shape: (90, 849)\n",
      "Saved cropped image: E:/Document Verfication/temp_images\\extracted_reciever_1.png\n",
      "Class: account, Shape: (72, 324)\n",
      "Saved cropped image: E:/Document Verfication/temp_images\\extracted_account_2.png\n",
      "Error Extracting\n",
      "\n",
      "image 1/1 e:\\Document Verfication\\Sample Images\\IDRBT Cheque Image Dataset\\A300\\Cheque 309066.tif: 320x640 1 signature, 1 reciever, 1 account, 1 amount, 33.3ms\n",
      "Speed: 0.0ms preprocess, 33.3ms inference, 8.2ms postprocess per image at shape (1, 3, 320, 640)\n",
      "Class: amount, Shape: (104, 428)\n",
      "Saved cropped image: E:/Document Verfication/temp_images\\extracted_amount_0.png\n",
      "Class: signature, Shape: (85, 204)\n",
      "Saved cropped image: E:/Document Verfication/temp_images\\extracted_signature_1.png\n",
      "Class: account, Shape: (69, 323)\n",
      "Saved cropped image: E:/Document Verfication/temp_images\\extracted_account_2.png\n",
      "Class: reciever, Shape: (95, 602)\n",
      "Saved cropped image: E:/Document Verfication/temp_images\\extracted_reciever_3.png\n"
     ]
    },
    {
     "name": "stderr",
     "output_type": "stream",
     "text": [
      "Processing images:  26%|██▌       | 29/112 [00:11<00:22,  3.61it/s]"
     ]
    },
    {
     "name": "stdout",
     "output_type": "stream",
     "text": [
      "911010049001545 \n",
      "\n",
      "\n",
      "image 1/1 e:\\Document Verfication\\Sample Images\\IDRBT Cheque Image Dataset\\A300\\Cheque 309067.tif: 320x640 1 signature, 1 reciever, 1 account, 1 amount, 34.7ms\n",
      "Speed: 8.4ms preprocess, 34.7ms inference, 0.0ms postprocess per image at shape (1, 3, 320, 640)\n",
      "Class: amount, Shape: (108, 349)\n",
      "Saved cropped image: E:/Document Verfication/temp_images\\extracted_amount_0.png\n",
      "Class: account, Shape: (70, 323)\n",
      "Saved cropped image: E:/Document Verfication/temp_images\\extracted_account_1.png\n",
      "Class: reciever, Shape: (96, 795)\n",
      "Saved cropped image: E:/Document Verfication/temp_images\\extracted_reciever_2.png\n",
      "Class: signature, Shape: (83, 241)\n",
      "Saved cropped image: E:/Document Verfication/temp_images\\extracted_signature_3.png\n"
     ]
    },
    {
     "name": "stderr",
     "output_type": "stream",
     "text": [
      "Processing images:  27%|██▋       | 30/112 [00:11<00:22,  3.63it/s]"
     ]
    },
    {
     "name": "stdout",
     "output_type": "stream",
     "text": [
      "911010049001545 \n",
      "\n",
      "\n",
      "image 1/1 e:\\Document Verfication\\Sample Images\\IDRBT Cheque Image Dataset\\A300\\Cheque 309068.tif: 320x640 1 signature, 1 reciever, 1 account, 1 amount, 33.1ms\n",
      "Speed: 0.0ms preprocess, 33.1ms inference, 10.2ms postprocess per image at shape (1, 3, 320, 640)\n",
      "Class: amount, Shape: (104, 427)\n",
      "Saved cropped image: E:/Document Verfication/temp_images\\extracted_amount_0.png\n",
      "Class: account, Shape: (68, 316)\n",
      "Saved cropped image: E:/Document Verfication/temp_images\\extracted_account_1.png\n",
      "Class: reciever, Shape: (106, 910)\n",
      "Saved cropped image: E:/Document Verfication/temp_images\\extracted_reciever_2.png\n",
      "Class: signature, Shape: (80, 281)\n",
      "Saved cropped image: E:/Document Verfication/temp_images\\extracted_signature_3.png\n",
      "911010049001545 \n",
      "\n"
     ]
    },
    {
     "name": "stderr",
     "output_type": "stream",
     "text": [
      "Processing images:  28%|██▊       | 31/112 [00:11<00:24,  3.35it/s]"
     ]
    },
    {
     "name": "stdout",
     "output_type": "stream",
     "text": [
      "\n",
      "image 1/1 e:\\Document Verfication\\Sample Images\\IDRBT Cheque Image Dataset\\A300\\Cheque 309069.tif: 320x640 1 signature, 1 reciever, 1 account, 1 amount, 59.7ms\n",
      "Speed: 0.0ms preprocess, 59.7ms inference, 7.1ms postprocess per image at shape (1, 3, 320, 640)\n",
      "Class: amount, Shape: (108, 349)\n",
      "Saved cropped image: E:/Document Verfication/temp_images\\extracted_amount_0.png\n",
      "Class: account, Shape: (76, 325)\n",
      "Saved cropped image: E:/Document Verfication/temp_images\\extracted_account_1.png\n",
      "Class: signature, Shape: (110, 266)\n",
      "Saved cropped image: E:/Document Verfication/temp_images\\extracted_signature_2.png\n",
      "Class: reciever, Shape: (102, 853)\n",
      "Saved cropped image: E:/Document Verfication/temp_images\\extracted_reciever_3.png\n"
     ]
    },
    {
     "name": "stderr",
     "output_type": "stream",
     "text": [
      "Processing images:  29%|██▊       | 32/112 [00:12<00:28,  2.78it/s]"
     ]
    },
    {
     "name": "stdout",
     "output_type": "stream",
     "text": [
      "911010049001545 \n",
      "\n",
      "\n",
      "image 1/1 e:\\Document Verfication\\Sample Images\\IDRBT Cheque Image Dataset\\A300\\Cheque 309070.tif: 320x640 1 signature, 1 reciever, 1 account, 1 amount, 29.1ms\n",
      "Speed: 2.8ms preprocess, 29.1ms inference, 0.0ms postprocess per image at shape (1, 3, 320, 640)\n",
      "Class: signature, Shape: (125, 300)\n",
      "Saved cropped image: E:/Document Verfication/temp_images\\extracted_signature_0.png\n",
      "Class: amount, Shape: (104, 452)\n",
      "Saved cropped image: E:/Document Verfication/temp_images\\extracted_amount_1.png\n",
      "Class: account, Shape: (74, 314)\n",
      "Saved cropped image: E:/Document Verfication/temp_images\\extracted_account_2.png\n",
      "Class: reciever, Shape: (100, 739)\n",
      "Saved cropped image: E:/Document Verfication/temp_images\\extracted_reciever_3.png\n"
     ]
    },
    {
     "name": "stderr",
     "output_type": "stream",
     "text": [
      "Processing images:  29%|██▉       | 33/112 [00:12<00:25,  3.08it/s]"
     ]
    },
    {
     "name": "stdout",
     "output_type": "stream",
     "text": [
      "911010049001545 \n",
      "\n",
      "\n",
      "image 1/1 e:\\Document Verfication\\Sample Images\\IDRBT Cheque Image Dataset\\A300\\Cheque 309071.tif: 320x640 1 signature, 1 reciever, 1 account, 1 amount, 27.0ms\n",
      "Speed: 0.0ms preprocess, 27.0ms inference, 9.6ms postprocess per image at shape (1, 3, 320, 640)\n",
      "Class: signature, Shape: (126, 291)\n",
      "Saved cropped image: E:/Document Verfication/temp_images\\extracted_signature_0.png\n",
      "Class: amount, Shape: (106, 453)\n",
      "Saved cropped image: E:/Document Verfication/temp_images\\extracted_amount_1.png\n",
      "Class: account, Shape: (73, 314)\n",
      "Saved cropped image: E:/Document Verfication/temp_images\\extracted_account_2.png\n",
      "Class: reciever, Shape: (97, 717)\n",
      "Saved cropped image: E:/Document Verfication/temp_images\\extracted_reciever_3.png\n"
     ]
    },
    {
     "name": "stderr",
     "output_type": "stream",
     "text": [
      "Processing images:  30%|███       | 34/112 [00:12<00:23,  3.31it/s]"
     ]
    },
    {
     "name": "stdout",
     "output_type": "stream",
     "text": [
      "911010049001545 \n",
      "\n",
      "\n",
      "image 1/1 e:\\Document Verfication\\Sample Images\\IDRBT Cheque Image Dataset\\A300\\Cheque 309072.tif: 320x640 1 signature, 1 reciever, 1 account, 1 amount, 27.1ms\n",
      "Speed: 4.9ms preprocess, 27.1ms inference, 0.0ms postprocess per image at shape (1, 3, 320, 640)\n",
      "Class: amount, Shape: (109, 357)\n",
      "Saved cropped image: E:/Document Verfication/temp_images\\extracted_amount_0.png\n",
      "Class: account, Shape: (69, 320)\n",
      "Saved cropped image: E:/Document Verfication/temp_images\\extracted_account_1.png\n",
      "Class: signature, Shape: (113, 246)\n",
      "Saved cropped image: E:/Document Verfication/temp_images\\extracted_signature_2.png\n",
      "Class: reciever, Shape: (116, 1062)\n",
      "Saved cropped image: E:/Document Verfication/temp_images\\extracted_reciever_3.png\n"
     ]
    },
    {
     "name": "stderr",
     "output_type": "stream",
     "text": [
      "Processing images:  31%|███▏      | 35/112 [00:12<00:22,  3.50it/s]"
     ]
    },
    {
     "name": "stdout",
     "output_type": "stream",
     "text": [
      "911010049001545 \n",
      "\n",
      "\n",
      "image 1/1 e:\\Document Verfication\\Sample Images\\IDRBT Cheque Image Dataset\\A300\\Cheque 309073.tif: 320x640 1 signature, 1 reciever, 1 account, 1 amount, 28.2ms\n",
      "Speed: 4.2ms preprocess, 28.2ms inference, 0.0ms postprocess per image at shape (1, 3, 320, 640)\n",
      "Class: amount, Shape: (103, 357)\n",
      "Saved cropped image: E:/Document Verfication/temp_images\\extracted_amount_0.png\n",
      "Class: signature, Shape: (100, 241)\n",
      "Saved cropped image: E:/Document Verfication/temp_images\\extracted_signature_1.png\n",
      "Class: account, Shape: (73, 323)\n",
      "Saved cropped image: E:/Document Verfication/temp_images\\extracted_account_2.png\n",
      "Class: reciever, Shape: (115, 1095)\n",
      "Saved cropped image: E:/Document Verfication/temp_images\\extracted_reciever_3.png\n"
     ]
    },
    {
     "name": "stderr",
     "output_type": "stream",
     "text": [
      "Processing images:  32%|███▏      | 36/112 [00:13<00:21,  3.61it/s]"
     ]
    },
    {
     "name": "stdout",
     "output_type": "stream",
     "text": [
      "911010049001545 \n",
      "\n",
      "\n",
      "image 1/1 e:\\Document Verfication\\Sample Images\\IDRBT Cheque Image Dataset\\A300\\Cheque 309074.tif: 320x640 1 signature, 1 reciever, 1 account, 1 amount, 34.4ms\n",
      "Speed: 2.2ms preprocess, 34.4ms inference, 0.0ms postprocess per image at shape (1, 3, 320, 640)\n",
      "Class: signature, Shape: (92, 254)\n",
      "Saved cropped image: E:/Document Verfication/temp_images\\extracted_signature_0.png\n",
      "Class: amount, Shape: (106, 384)\n",
      "Saved cropped image: E:/Document Verfication/temp_images\\extracted_amount_1.png\n",
      "Class: account, Shape: (71, 316)\n",
      "Saved cropped image: E:/Document Verfication/temp_images\\extracted_account_2.png\n",
      "Class: reciever, Shape: (123, 733)\n",
      "Saved cropped image: E:/Document Verfication/temp_images\\extracted_reciever_3.png\n"
     ]
    },
    {
     "name": "stderr",
     "output_type": "stream",
     "text": [
      "Processing images:  33%|███▎      | 37/112 [00:13<00:20,  3.69it/s]"
     ]
    },
    {
     "name": "stdout",
     "output_type": "stream",
     "text": [
      "911010049001545 \n",
      "\n",
      "\n",
      "image 1/1 e:\\Document Verfication\\Sample Images\\IDRBT Cheque Image Dataset\\A300\\Cheque 309075.tif: 320x640 1 signature, 1 reciever, 1 account, 1 amount, 25.3ms\n",
      "Speed: 8.8ms preprocess, 25.3ms inference, 9.1ms postprocess per image at shape (1, 3, 320, 640)\n",
      "Class: amount, Shape: (106, 361)\n",
      "Saved cropped image: E:/Document Verfication/temp_images\\extracted_amount_0.png\n",
      "Class: signature, Shape: (120, 260)\n",
      "Saved cropped image: E:/Document Verfication/temp_images\\extracted_signature_1.png\n",
      "Class: account, Shape: (73, 326)\n",
      "Saved cropped image: E:/Document Verfication/temp_images\\extracted_account_2.png\n",
      "Class: reciever, Shape: (114, 970)\n",
      "Saved cropped image: E:/Document Verfication/temp_images\\extracted_reciever_3.png\n"
     ]
    },
    {
     "name": "stderr",
     "output_type": "stream",
     "text": [
      "Processing images:  34%|███▍      | 38/112 [00:13<00:19,  3.79it/s]"
     ]
    },
    {
     "name": "stdout",
     "output_type": "stream",
     "text": [
      "911010049001545 \n",
      "\n",
      "\n",
      "image 1/1 e:\\Document Verfication\\Sample Images\\IDRBT Cheque Image Dataset\\A300\\Cheque 309076.tif: 320x640 1 signature, 1 reciever, 1 account, 1 amount, 49.6ms\n",
      "Speed: 0.0ms preprocess, 49.6ms inference, 3.1ms postprocess per image at shape (1, 3, 320, 640)\n"
     ]
    },
    {
     "name": "stderr",
     "output_type": "stream",
     "text": [
      "Processing images:  35%|███▍      | 39/112 [00:14<00:20,  3.65it/s]"
     ]
    },
    {
     "name": "stdout",
     "output_type": "stream",
     "text": [
      "Class: signature, Shape: (102, 235)\n",
      "Saved cropped image: E:/Document Verfication/temp_images\\extracted_signature_0.png\n",
      "Class: amount, Shape: (103, 336)\n",
      "Saved cropped image: E:/Document Verfication/temp_images\\extracted_amount_1.png\n",
      "Class: account, Shape: (69, 316)\n",
      "Saved cropped image: E:/Document Verfication/temp_images\\extracted_account_2.png\n",
      "Class: reciever, Shape: (105, 894)\n",
      "Saved cropped image: E:/Document Verfication/temp_images\\extracted_reciever_3.png\n",
      "911010049001545 \n",
      "\n",
      "\n",
      "image 1/1 e:\\Document Verfication\\Sample Images\\IDRBT Cheque Image Dataset\\A300\\Cheque 309077.tif: 320x640 1 signature, 1 reciever, 1 account, 1 amount, 34.9ms\n",
      "Speed: 3.4ms preprocess, 34.9ms inference, 9.6ms postprocess per image at shape (1, 3, 320, 640)\n",
      "Class: signature, Shape: (150, 250)\n",
      "Saved cropped image: E:/Document Verfication/temp_images\\extracted_signature_0.png\n",
      "Class: account, Shape: (69, 318)\n",
      "Saved cropped image: E:/Document Verfication/temp_images\\extracted_account_1.png\n",
      "Class: amount, Shape: (109, 279)\n",
      "Saved cropped image: E:/Document Verfication/temp_images\\extracted_amount_2.png\n",
      "Class: reciever, Shape: (111, 422)\n",
      "Saved cropped image: E:/Document Verfication/temp_images\\extracted_reciever_3.png\n"
     ]
    },
    {
     "name": "stderr",
     "output_type": "stream",
     "text": [
      "Processing images:  36%|███▌      | 40/112 [00:14<00:22,  3.21it/s]"
     ]
    },
    {
     "name": "stdout",
     "output_type": "stream",
     "text": [
      "911010049001545 \n",
      "\n",
      "\n",
      "image 1/1 e:\\Document Verfication\\Sample Images\\IDRBT Cheque Image Dataset\\A300\\Cheque 309078.tif: 320x640 1 signature, 1 reciever, 1 account, 1 amount, 47.6ms\n",
      "Speed: 5.6ms preprocess, 47.6ms inference, 10.0ms postprocess per image at shape (1, 3, 320, 640)\n",
      "Class: amount, Shape: (108, 351)\n",
      "Saved cropped image: E:/Document Verfication/temp_images\\extracted_amount_0.png\n",
      "Class: signature, Shape: (160, 199)\n",
      "Saved cropped image: E:/Document Verfication/temp_images\\extracted_signature_1.png\n",
      "Class: account, Shape: (70, 317)\n",
      "Saved cropped image: E:/Document Verfication/temp_images\\extracted_account_2.png\n",
      "Class: reciever, Shape: (102, 864)\n",
      "Saved cropped image: E:/Document Verfication/temp_images\\extracted_reciever_3.png\n"
     ]
    },
    {
     "name": "stderr",
     "output_type": "stream",
     "text": [
      "Processing images:  37%|███▋      | 41/112 [00:14<00:24,  2.88it/s]"
     ]
    },
    {
     "name": "stdout",
     "output_type": "stream",
     "text": [
      "911010049001545 \n",
      "\n",
      "\n",
      "image 1/1 e:\\Document Verfication\\Sample Images\\IDRBT Cheque Image Dataset\\A300\\Cheque 309079.tif: 320x640 1 signature, 1 reciever, 1 account, 1 amount, 60.4ms\n",
      "Speed: 8.0ms preprocess, 60.4ms inference, 0.0ms postprocess per image at shape (1, 3, 320, 640)\n",
      "Class: amount, Shape: (105, 372)\n",
      "Saved cropped image: E:/Document Verfication/temp_images\\extracted_amount_0.png\n",
      "Class: account, Shape: (69, 318)\n",
      "Saved cropped image: E:/Document Verfication/temp_images\\extracted_account_1.png\n",
      "Class: signature, Shape: (168, 208)\n",
      "Saved cropped image: E:/Document Verfication/temp_images\\extracted_signature_2.png\n",
      "Class: reciever, Shape: (98, 660)\n",
      "Saved cropped image: E:/Document Verfication/temp_images\\extracted_reciever_3.png\n"
     ]
    },
    {
     "name": "stderr",
     "output_type": "stream",
     "text": [
      "Processing images:  38%|███▊      | 42/112 [00:15<00:26,  2.62it/s]"
     ]
    },
    {
     "name": "stdout",
     "output_type": "stream",
     "text": [
      "911010049001545 \n",
      "\n",
      "\n",
      "image 1/1 e:\\Document Verfication\\Sample Images\\IDRBT Cheque Image Dataset\\A300\\Cheque 309080.tif: 320x640 1 signature, 1 reciever, 1 account, 1 amount, 56.1ms\n",
      "Speed: 9.1ms preprocess, 56.1ms inference, 0.0ms postprocess per image at shape (1, 3, 320, 640)\n",
      "Class: amount, Shape: (107, 383)\n",
      "Saved cropped image: E:/Document Verfication/temp_images\\extracted_amount_0.png\n",
      "Class: account, Shape: (70, 315)\n",
      "Saved cropped image: E:/Document Verfication/temp_images\\extracted_account_1.png\n",
      "Class: signature, Shape: (162, 206)\n",
      "Saved cropped image: E:/Document Verfication/temp_images\\extracted_signature_2.png\n",
      "Class: reciever, Shape: (101, 494)\n",
      "Saved cropped image: E:/Document Verfication/temp_images\\extracted_reciever_3.png\n"
     ]
    },
    {
     "name": "stderr",
     "output_type": "stream",
     "text": [
      "Processing images:  38%|███▊      | 43/112 [00:15<00:27,  2.49it/s]"
     ]
    },
    {
     "name": "stdout",
     "output_type": "stream",
     "text": [
      "911010049001545 \n",
      "\n",
      "\n",
      "image 1/1 e:\\Document Verfication\\Sample Images\\IDRBT Cheque Image Dataset\\A300\\Cheque 309082.tif: 320x640 1 signature, 1 reciever, 1 account, 1 amount, 40.5ms\n",
      "Speed: 0.0ms preprocess, 40.5ms inference, 0.0ms postprocess per image at shape (1, 3, 320, 640)\n",
      "Class: amount, Shape: (106, 363)\n",
      "Saved cropped image: E:/Document Verfication/temp_images\\extracted_amount_0.png\n",
      "Class: account, Shape: (74, 312)\n",
      "Saved cropped image: E:/Document Verfication/temp_images\\extracted_account_1.png\n",
      "Class: signature, Shape: (139, 202)\n",
      "Saved cropped image: E:/Document Verfication/temp_images\\extracted_signature_2.png\n",
      "Class: reciever, Shape: (112, 693)\n",
      "Saved cropped image: E:/Document Verfication/temp_images\\extracted_reciever_3.png\n"
     ]
    },
    {
     "name": "stderr",
     "output_type": "stream",
     "text": [
      "Processing images:  39%|███▉      | 44/112 [00:16<00:24,  2.79it/s]"
     ]
    },
    {
     "name": "stdout",
     "output_type": "stream",
     "text": [
      "911010049001545 \n",
      "\n",
      "\n",
      "image 1/1 e:\\Document Verfication\\Sample Images\\IDRBT Cheque Image Dataset\\A300\\Cheque 309083.tif: 320x640 1 signature, 1 reciever, 1 account, 1 amount, 64.7ms\n",
      "Speed: 8.4ms preprocess, 64.7ms inference, 0.0ms postprocess per image at shape (1, 3, 320, 640)\n"
     ]
    },
    {
     "name": "stderr",
     "output_type": "stream",
     "text": [
      "Processing images:  40%|████      | 45/112 [00:16<00:23,  2.85it/s]"
     ]
    },
    {
     "name": "stdout",
     "output_type": "stream",
     "text": [
      "Class: signature, Shape: (132, 211)\n",
      "Saved cropped image: E:/Document Verfication/temp_images\\extracted_signature_0.png\n",
      "Class: account, Shape: (71, 326)\n",
      "Saved cropped image: E:/Document Verfication/temp_images\\extracted_account_1.png\n",
      "Class: amount, Shape: (108, 275)\n",
      "Saved cropped image: E:/Document Verfication/temp_images\\extracted_amount_2.png\n",
      "Class: reciever, Shape: (99, 682)\n",
      "Saved cropped image: E:/Document Verfication/temp_images\\extracted_reciever_3.png\n",
      "911010049001545 \n",
      "\n",
      "\n",
      "image 1/1 e:\\Document Verfication\\Sample Images\\IDRBT Cheque Image Dataset\\A300\\Cheque 309084.tif: 320x640 1 signature, 1 reciever, 1 account, 1 amount, 33.3ms\n",
      "Speed: 0.0ms preprocess, 33.3ms inference, 8.2ms postprocess per image at shape (1, 3, 320, 640)\n"
     ]
    },
    {
     "name": "stderr",
     "output_type": "stream",
     "text": [
      "Processing images:  41%|████      | 46/112 [00:16<00:21,  3.10it/s]"
     ]
    },
    {
     "name": "stdout",
     "output_type": "stream",
     "text": [
      "Class: amount, Shape: (106, 398)\n",
      "Saved cropped image: E:/Document Verfication/temp_images\\extracted_amount_0.png\n",
      "Class: account, Shape: (71, 324)\n",
      "Saved cropped image: E:/Document Verfication/temp_images\\extracted_account_1.png\n",
      "Class: signature, Shape: (136, 268)\n",
      "Saved cropped image: E:/Document Verfication/temp_images\\extracted_signature_2.png\n",
      "Class: reciever, Shape: (110, 569)\n",
      "Saved cropped image: E:/Document Verfication/temp_images\\extracted_reciever_3.png\n",
      "911010049001545 \n",
      "\n",
      "\n",
      "image 1/1 e:\\Document Verfication\\Sample Images\\IDRBT Cheque Image Dataset\\A300\\Cheque 309086.tif: 320x640 1 signature, 1 reciever, 1 account, 1 amount, 25.1ms\n",
      "Speed: 5.7ms preprocess, 25.1ms inference, 8.2ms postprocess per image at shape (1, 3, 320, 640)\n"
     ]
    },
    {
     "name": "stderr",
     "output_type": "stream",
     "text": [
      "Processing images:  42%|████▏     | 47/112 [00:16<00:19,  3.39it/s]"
     ]
    },
    {
     "name": "stdout",
     "output_type": "stream",
     "text": [
      "Class: account, Shape: (72, 314)\n",
      "Saved cropped image: E:/Document Verfication/temp_images\\extracted_account_0.png\n",
      "Class: amount, Shape: (110, 340)\n",
      "Saved cropped image: E:/Document Verfication/temp_images\\extracted_amount_1.png\n",
      "Class: signature, Shape: (99, 218)\n",
      "Saved cropped image: E:/Document Verfication/temp_images\\extracted_signature_2.png\n",
      "Class: reciever, Shape: (106, 978)\n",
      "Saved cropped image: E:/Document Verfication/temp_images\\extracted_reciever_3.png\n",
      "911010049001545 \n",
      "\n",
      "\n",
      "image 1/1 e:\\Document Verfication\\Sample Images\\IDRBT Cheque Image Dataset\\A300\\Cheque 309089.tif: 320x640 1 signature, 1 reciever, 1 account, 1 amount, 35.4ms\n",
      "Speed: 6.1ms preprocess, 35.4ms inference, 8.8ms postprocess per image at shape (1, 3, 320, 640)\n"
     ]
    },
    {
     "name": "stderr",
     "output_type": "stream",
     "text": [
      "Processing images:  43%|████▎     | 48/112 [00:17<00:18,  3.53it/s]"
     ]
    },
    {
     "name": "stdout",
     "output_type": "stream",
     "text": [
      "Class: amount, Shape: (105, 345)\n",
      "Saved cropped image: E:/Document Verfication/temp_images\\extracted_amount_0.png\n",
      "Class: signature, Shape: (149, 238)\n",
      "Saved cropped image: E:/Document Verfication/temp_images\\extracted_signature_1.png\n",
      "Class: account, Shape: (67, 314)\n",
      "Saved cropped image: E:/Document Verfication/temp_images\\extracted_account_2.png\n",
      "Class: reciever, Shape: (100, 679)\n",
      "Saved cropped image: E:/Document Verfication/temp_images\\extracted_reciever_3.png\n",
      "911010049001545 \n",
      "\n",
      "\n",
      "image 1/1 e:\\Document Verfication\\Sample Images\\IDRBT Cheque Image Dataset\\A300\\Cheque 309090.tif: 320x640 1 signature, 1 reciever, 1 account, 1 amount, 33.7ms\n",
      "Speed: 4.0ms preprocess, 33.7ms inference, 0.0ms postprocess per image at shape (1, 3, 320, 640)\n"
     ]
    },
    {
     "name": "stderr",
     "output_type": "stream",
     "text": [
      "Processing images:  44%|████▍     | 49/112 [00:17<00:17,  3.65it/s]"
     ]
    },
    {
     "name": "stdout",
     "output_type": "stream",
     "text": [
      "Class: signature, Shape: (162, 167)\n",
      "Saved cropped image: E:/Document Verfication/temp_images\\extracted_signature_0.png\n",
      "Class: account, Shape: (70, 322)\n",
      "Saved cropped image: E:/Document Verfication/temp_images\\extracted_account_1.png\n",
      "Class: amount, Shape: (105, 362)\n",
      "Saved cropped image: E:/Document Verfication/temp_images\\extracted_amount_2.png\n",
      "Class: reciever, Shape: (105, 734)\n",
      "Saved cropped image: E:/Document Verfication/temp_images\\extracted_reciever_3.png\n",
      "911010049001545 \n",
      "\n",
      "\n",
      "image 1/1 e:\\Document Verfication\\Sample Images\\IDRBT Cheque Image Dataset\\A300\\Cheque 309091.tif: 320x640 1 signature, 1 reciever, 1 account, 1 amount, 19.7ms\n",
      "Speed: 3.7ms preprocess, 19.7ms inference, 8.2ms postprocess per image at shape (1, 3, 320, 640)\n"
     ]
    },
    {
     "name": "stderr",
     "output_type": "stream",
     "text": [
      "Processing images:  45%|████▍     | 50/112 [00:17<00:16,  3.74it/s]"
     ]
    },
    {
     "name": "stdout",
     "output_type": "stream",
     "text": [
      "Class: reciever, Shape: (112, 918)\n",
      "Saved cropped image: E:/Document Verfication/temp_images\\extracted_reciever_0.png\n",
      "Class: amount, Shape: (106, 275)\n",
      "Saved cropped image: E:/Document Verfication/temp_images\\extracted_amount_1.png\n",
      "Class: signature, Shape: (121, 361)\n",
      "Saved cropped image: E:/Document Verfication/temp_images\\extracted_signature_2.png\n",
      "Class: account, Shape: (69, 321)\n",
      "Saved cropped image: E:/Document Verfication/temp_images\\extracted_account_3.png\n",
      "911010049001545 \n",
      "\n",
      "\n",
      "image 1/1 e:\\Document Verfication\\Sample Images\\IDRBT Cheque Image Dataset\\A300\\Cheque 309092.tif: 320x640 1 signature, 1 reciever, 1 account, 1 amount, 43.8ms\n",
      "Speed: 2.5ms preprocess, 43.8ms inference, 0.0ms postprocess per image at shape (1, 3, 320, 640)\n",
      "Class: signature, Shape: (123, 333)\n",
      "Saved cropped image: E:/Document Verfication/temp_images\\extracted_signature_0.png\n",
      "Class: account, Shape: (70, 319)\n",
      "Saved cropped image: E:/Document Verfication/temp_images\\extracted_account_1.png\n",
      "Class: reciever, Shape: (127, 908)\n",
      "Saved cropped image: E:/Document Verfication/temp_images\\extracted_reciever_2.png\n",
      "Class: amount, Shape: (104, 260)\n",
      "Saved cropped image: E:/Document Verfication/temp_images\\extracted_amount_3.png\n"
     ]
    },
    {
     "name": "stderr",
     "output_type": "stream",
     "text": [
      "Processing images:  46%|████▌     | 51/112 [00:18<00:18,  3.29it/s]"
     ]
    },
    {
     "name": "stdout",
     "output_type": "stream",
     "text": [
      "911010049001545 \n",
      "\n",
      "\n",
      "image 1/1 e:\\Document Verfication\\Sample Images\\IDRBT Cheque Image Dataset\\A300\\Cheque 309093.tif: 320x640 1 signature, 1 reciever, 1 account, 1 amount, 38.9ms\n",
      "Speed: 0.0ms preprocess, 38.9ms inference, 0.0ms postprocess per image at shape (1, 3, 320, 640)\n"
     ]
    },
    {
     "name": "stderr",
     "output_type": "stream",
     "text": [
      "Processing images:  46%|████▋     | 52/112 [00:18<00:18,  3.20it/s]"
     ]
    },
    {
     "name": "stdout",
     "output_type": "stream",
     "text": [
      "Class: amount, Shape: (109, 328)\n",
      "Saved cropped image: E:/Document Verfication/temp_images\\extracted_amount_0.png\n",
      "Class: account, Shape: (75, 322)\n",
      "Saved cropped image: E:/Document Verfication/temp_images\\extracted_account_1.png\n",
      "Class: signature, Shape: (110, 302)\n",
      "Saved cropped image: E:/Document Verfication/temp_images\\extracted_signature_2.png\n",
      "Class: reciever, Shape: (123, 1044)\n",
      "Saved cropped image: E:/Document Verfication/temp_images\\extracted_reciever_3.png\n",
      "911010049001545 \n",
      "\n",
      "\n",
      "image 1/1 e:\\Document Verfication\\Sample Images\\IDRBT Cheque Image Dataset\\A300\\Cheque 309094.tif: 320x640 1 signature, 1 reciever, 1 account, 1 amount, 34.2ms\n",
      "Speed: 0.0ms preprocess, 34.2ms inference, 0.0ms postprocess per image at shape (1, 3, 320, 640)\n"
     ]
    },
    {
     "name": "stderr",
     "output_type": "stream",
     "text": [
      "Processing images:  47%|████▋     | 53/112 [00:18<00:17,  3.42it/s]"
     ]
    },
    {
     "name": "stdout",
     "output_type": "stream",
     "text": [
      "Class: amount, Shape: (106, 286)\n",
      "Saved cropped image: E:/Document Verfication/temp_images\\extracted_amount_0.png\n",
      "Class: signature, Shape: (102, 336)\n",
      "Saved cropped image: E:/Document Verfication/temp_images\\extracted_signature_1.png\n",
      "Class: account, Shape: (68, 319)\n",
      "Saved cropped image: E:/Document Verfication/temp_images\\extracted_account_2.png\n",
      "Class: reciever, Shape: (119, 788)\n",
      "Saved cropped image: E:/Document Verfication/temp_images\\extracted_reciever_3.png\n",
      "911010049001545 \n",
      "\n",
      "\n",
      "image 1/1 e:\\Document Verfication\\Sample Images\\IDRBT Cheque Image Dataset\\A300\\Cheque 309095.tif: 320x640 1 signature, 1 reciever, 1 account, 1 amount, 33.1ms\n",
      "Speed: 0.0ms preprocess, 33.1ms inference, 0.0ms postprocess per image at shape (1, 3, 320, 640)\n"
     ]
    },
    {
     "name": "stderr",
     "output_type": "stream",
     "text": [
      "Processing images:  48%|████▊     | 54/112 [00:18<00:16,  3.48it/s]"
     ]
    },
    {
     "name": "stdout",
     "output_type": "stream",
     "text": [
      "Class: signature, Shape: (102, 283)\n",
      "Saved cropped image: E:/Document Verfication/temp_images\\extracted_signature_0.png\n",
      "Class: amount, Shape: (105, 287)\n",
      "Saved cropped image: E:/Document Verfication/temp_images\\extracted_amount_1.png\n",
      "Class: account, Shape: (71, 323)\n",
      "Saved cropped image: E:/Document Verfication/temp_images\\extracted_account_2.png\n",
      "Class: reciever, Shape: (105, 655)\n",
      "Saved cropped image: E:/Document Verfication/temp_images\\extracted_reciever_3.png\n",
      "911010049001545 \n",
      "\n",
      "\n",
      "image 1/1 e:\\Document Verfication\\Sample Images\\IDRBT Cheque Image Dataset\\A300\\Cheque 309096.tif: 320x640 1 signature, 1 reciever, 1 account, 1 amount, 33.6ms\n",
      "Speed: 0.0ms preprocess, 33.6ms inference, 0.0ms postprocess per image at shape (1, 3, 320, 640)\n"
     ]
    },
    {
     "name": "stderr",
     "output_type": "stream",
     "text": [
      "Processing images:  49%|████▉     | 55/112 [00:19<00:15,  3.63it/s]"
     ]
    },
    {
     "name": "stdout",
     "output_type": "stream",
     "text": [
      "Class: account, Shape: (71, 323)\n",
      "Saved cropped image: E:/Document Verfication/temp_images\\extracted_account_0.png\n",
      "Class: amount, Shape: (109, 272)\n",
      "Saved cropped image: E:/Document Verfication/temp_images\\extracted_amount_1.png\n",
      "Class: reciever, Shape: (96, 858)\n",
      "Saved cropped image: E:/Document Verfication/temp_images\\extracted_reciever_2.png\n",
      "Class: signature, Shape: (88, 285)\n",
      "Saved cropped image: E:/Document Verfication/temp_images\\extracted_signature_3.png\n",
      "911010049001545 \n",
      "\n",
      "\n",
      "image 1/1 e:\\Document Verfication\\Sample Images\\IDRBT Cheque Image Dataset\\A300\\Cheque 309097.tif: 320x640 1 signature, 1 reciever, 1 account, 1 amount, 41.7ms\n",
      "Speed: 4.1ms preprocess, 41.7ms inference, 3.8ms postprocess per image at shape (1, 3, 320, 640)\n"
     ]
    },
    {
     "name": "stderr",
     "output_type": "stream",
     "text": [
      "Processing images:  50%|█████     | 56/112 [00:19<00:15,  3.71it/s]"
     ]
    },
    {
     "name": "stdout",
     "output_type": "stream",
     "text": [
      "Class: amount, Shape: (103, 261)\n",
      "Saved cropped image: E:/Document Verfication/temp_images\\extracted_amount_0.png\n",
      "Class: signature, Shape: (107, 288)\n",
      "Saved cropped image: E:/Document Verfication/temp_images\\extracted_signature_1.png\n",
      "Class: account, Shape: (70, 314)\n",
      "Saved cropped image: E:/Document Verfication/temp_images\\extracted_account_2.png\n",
      "Class: reciever, Shape: (90, 841)\n",
      "Saved cropped image: E:/Document Verfication/temp_images\\extracted_reciever_3.png\n",
      "911010049001545 \n",
      "\n",
      "\n",
      "image 1/1 e:\\Document Verfication\\Sample Images\\IDRBT Cheque Image Dataset\\A300\\Cheque 309098.tif: 320x640 1 signature, 1 reciever, 1 account, 1 amount, 24.6ms\n",
      "Speed: 10.1ms preprocess, 24.6ms inference, 8.7ms postprocess per image at shape (1, 3, 320, 640)\n"
     ]
    },
    {
     "name": "stderr",
     "output_type": "stream",
     "text": [
      "Processing images:  51%|█████     | 57/112 [00:19<00:14,  3.79it/s]"
     ]
    },
    {
     "name": "stdout",
     "output_type": "stream",
     "text": [
      "Class: signature, Shape: (100, 305)\n",
      "Saved cropped image: E:/Document Verfication/temp_images\\extracted_signature_0.png\n",
      "Class: account, Shape: (69, 314)\n",
      "Saved cropped image: E:/Document Verfication/temp_images\\extracted_account_1.png\n",
      "Class: amount, Shape: (107, 366)\n",
      "Saved cropped image: E:/Document Verfication/temp_images\\extracted_amount_2.png\n",
      "Class: reciever, Shape: (94, 809)\n",
      "Saved cropped image: E:/Document Verfication/temp_images\\extracted_reciever_3.png\n",
      "911010049001545 \n",
      "\n",
      "\n",
      "image 1/1 e:\\Document Verfication\\Sample Images\\IDRBT Cheque Image Dataset\\A300\\Cheque 309099.tif: 320x640 1 signature, 1 reciever, 1 account, 1 amount, 32.9ms\n",
      "Speed: 8.1ms preprocess, 32.9ms inference, 8.9ms postprocess per image at shape (1, 3, 320, 640)\n"
     ]
    },
    {
     "name": "stderr",
     "output_type": "stream",
     "text": [
      "Processing images:  52%|█████▏    | 58/112 [00:19<00:14,  3.69it/s]"
     ]
    },
    {
     "name": "stdout",
     "output_type": "stream",
     "text": [
      "Class: signature, Shape: (93, 260)\n",
      "Saved cropped image: E:/Document Verfication/temp_images\\extracted_signature_0.png\n",
      "Class: amount, Shape: (104, 355)\n",
      "Saved cropped image: E:/Document Verfication/temp_images\\extracted_amount_1.png\n",
      "Class: account, Shape: (70, 321)\n",
      "Saved cropped image: E:/Document Verfication/temp_images\\extracted_account_2.png\n",
      "Class: reciever, Shape: (103, 894)\n",
      "Saved cropped image: E:/Document Verfication/temp_images\\extracted_reciever_3.png\n",
      "911010049001545 \n",
      "\n",
      "\n",
      "image 1/1 e:\\Document Verfication\\Sample Images\\IDRBT Cheque Image Dataset\\A300\\Cheque 309100.tif: 320x640 1 signature, 1 reciever, 1 account, 1 amount, 52.5ms\n",
      "Speed: 7.5ms preprocess, 52.5ms inference, 10.2ms postprocess per image at shape (1, 3, 320, 640)\n",
      "Class: amount, Shape: (102, 339)\n",
      "Saved cropped image: E:/Document Verfication/temp_images\\extracted_amount_0.png\n",
      "Class: account, Shape: (72, 317)\n",
      "Saved cropped image: E:/Document Verfication/temp_images\\extracted_account_1.png\n",
      "Class: signature, Shape: (82, 253)\n",
      "Saved cropped image: E:/Document Verfication/temp_images\\extracted_signature_2.png\n",
      "Class: reciever, Shape: (124, 902)\n",
      "Saved cropped image: E:/Document Verfication/temp_images\\extracted_reciever_3.png\n"
     ]
    },
    {
     "name": "stderr",
     "output_type": "stream",
     "text": [
      "Processing images:  53%|█████▎    | 59/112 [00:20<00:17,  3.02it/s]"
     ]
    },
    {
     "name": "stdout",
     "output_type": "stream",
     "text": [
      "911010049001545 \n",
      "\n",
      "\n",
      "image 1/1 e:\\Document Verfication\\Sample Images\\IDRBT Cheque Image Dataset\\A300\\Cheque 309101.tif: 320x640 1 signature, 1 reciever, 1 account, 1 amount, 33.6ms\n",
      "Speed: 0.0ms preprocess, 33.6ms inference, 7.7ms postprocess per image at shape (1, 3, 320, 640)\n",
      "Class: amount, Shape: (102, 337)\n",
      "Saved cropped image: E:/Document Verfication/temp_images\\extracted_amount_0.png\n",
      "Class: signature, Shape: (96, 284)\n",
      "Saved cropped image: E:/Document Verfication/temp_images\\extracted_signature_1.png\n",
      "Class: account, Shape: (71, 317)\n",
      "Saved cropped image: E:/Document Verfication/temp_images\\extracted_account_2.png\n",
      "Class: reciever, Shape: (122, 1126)\n",
      "Saved cropped image: E:/Document Verfication/temp_images\\extracted_reciever_3.png\n"
     ]
    },
    {
     "name": "stderr",
     "output_type": "stream",
     "text": [
      "Processing images:  54%|█████▎    | 60/112 [00:20<00:16,  3.21it/s]"
     ]
    },
    {
     "name": "stdout",
     "output_type": "stream",
     "text": [
      "911010049001545 \n",
      "\n",
      "\n",
      "image 1/1 e:\\Document Verfication\\Sample Images\\IDRBT Cheque Image Dataset\\A300\\Cheque 309102.tif: 320x640 1 signature, 1 reciever, 1 account, 1 amount, 33.4ms\n",
      "Speed: 0.0ms preprocess, 33.4ms inference, 8.1ms postprocess per image at shape (1, 3, 320, 640)\n",
      "Class: amount, Shape: (109, 374)\n",
      "Saved cropped image: E:/Document Verfication/temp_images\\extracted_amount_0.png\n",
      "Class: account, Shape: (69, 319)\n",
      "Saved cropped image: E:/Document Verfication/temp_images\\extracted_account_1.png\n",
      "Class: signature, Shape: (101, 293)\n",
      "Saved cropped image: E:/Document Verfication/temp_images\\extracted_signature_2.png\n",
      "Class: reciever, Shape: (121, 1186)\n",
      "Saved cropped image: E:/Document Verfication/temp_images\\extracted_reciever_3.png\n"
     ]
    },
    {
     "name": "stderr",
     "output_type": "stream",
     "text": [
      "Processing images:  54%|█████▍    | 61/112 [00:20<00:15,  3.38it/s]"
     ]
    },
    {
     "name": "stdout",
     "output_type": "stream",
     "text": [
      "911010049001545 \n",
      "\n",
      "\n",
      "image 1/1 e:\\Document Verfication\\Sample Images\\IDRBT Cheque Image Dataset\\A300\\Cheque 309103.tif: 320x640 1 signature, 1 reciever, 1 account, 1 amount, 26.4ms\n",
      "Speed: 7.6ms preprocess, 26.4ms inference, 7.2ms postprocess per image at shape (1, 3, 320, 640)\n",
      "Class: amount, Shape: (101, 376)\n",
      "Saved cropped image: E:/Document Verfication/temp_images\\extracted_amount_0.png\n",
      "Class: signature, Shape: (100, 279)\n",
      "Saved cropped image: E:/Document Verfication/temp_images\\extracted_signature_1.png\n",
      "Class: account, Shape: (70, 311)\n",
      "Saved cropped image: E:/Document Verfication/temp_images\\extracted_account_2.png\n",
      "Class: reciever, Shape: (117, 898)\n",
      "Saved cropped image: E:/Document Verfication/temp_images\\extracted_reciever_3.png\n"
     ]
    },
    {
     "name": "stderr",
     "output_type": "stream",
     "text": [
      "Processing images:  55%|█████▌    | 62/112 [00:21<00:14,  3.52it/s]"
     ]
    },
    {
     "name": "stdout",
     "output_type": "stream",
     "text": [
      "911010049001545 \n",
      "\n",
      "\n",
      "image 1/1 e:\\Document Verfication\\Sample Images\\IDRBT Cheque Image Dataset\\A300\\Cheque 309104.tif: 320x640 1 signature, 1 reciever, 1 account, 1 amount, 23.6ms\n",
      "Speed: 1.1ms preprocess, 23.6ms inference, 9.4ms postprocess per image at shape (1, 3, 320, 640)\n",
      "Class: account, Shape: (72, 316)\n",
      "Saved cropped image: E:/Document Verfication/temp_images\\extracted_account_0.png\n",
      "Class: signature, Shape: (84, 270)\n",
      "Saved cropped image: E:/Document Verfication/temp_images\\extracted_signature_1.png\n",
      "Class: amount, Shape: (108, 356)\n",
      "Saved cropped image: E:/Document Verfication/temp_images\\extracted_amount_2.png\n",
      "Class: reciever, Shape: (114, 917)\n",
      "Saved cropped image: E:/Document Verfication/temp_images\\extracted_reciever_3.png\n"
     ]
    },
    {
     "name": "stderr",
     "output_type": "stream",
     "text": [
      "Processing images:  56%|█████▋    | 63/112 [00:21<00:13,  3.68it/s]"
     ]
    },
    {
     "name": "stdout",
     "output_type": "stream",
     "text": [
      "911010049001545 \n",
      "\n",
      "\n",
      "image 1/1 e:\\Document Verfication\\Sample Images\\IDRBT Cheque Image Dataset\\A300\\Cheque 309105.tif: 320x640 1 signature, 1 reciever, 1 account, 1 amount, 25.2ms\n",
      "Speed: 3.1ms preprocess, 25.2ms inference, 8.1ms postprocess per image at shape (1, 3, 320, 640)\n",
      "Class: amount, Shape: (106, 463)\n",
      "Saved cropped image: E:/Document Verfication/temp_images\\extracted_amount_0.png\n",
      "Class: signature, Shape: (210, 394)\n",
      "Saved cropped image: E:/Document Verfication/temp_images\\extracted_signature_1.png\n",
      "Class: account, Shape: (72, 321)\n",
      "Saved cropped image: E:/Document Verfication/temp_images\\extracted_account_2.png\n",
      "Class: reciever, Shape: (120, 816)\n",
      "Saved cropped image: E:/Document Verfication/temp_images\\extracted_reciever_3.png\n"
     ]
    },
    {
     "name": "stderr",
     "output_type": "stream",
     "text": [
      "Processing images:  57%|█████▋    | 64/112 [00:21<00:12,  3.70it/s]"
     ]
    },
    {
     "name": "stdout",
     "output_type": "stream",
     "text": [
      "911010049001545 \n",
      "\n",
      "\n",
      "image 1/1 e:\\Document Verfication\\Sample Images\\IDRBT Cheque Image Dataset\\A300\\Cheque 309106.tif: 320x640 1 signature, 1 reciever, 1 account, 1 amount, 35.1ms\n",
      "Speed: 0.0ms preprocess, 35.1ms inference, 6.6ms postprocess per image at shape (1, 3, 320, 640)\n",
      "Class: account, Shape: (71, 309)\n",
      "Saved cropped image: E:/Document Verfication/temp_images\\extracted_account_0.png\n",
      "Class: signature, Shape: (195, 312)\n",
      "Saved cropped image: E:/Document Verfication/temp_images\\extracted_signature_1.png\n",
      "Class: amount, Shape: (110, 461)\n",
      "Saved cropped image: E:/Document Verfication/temp_images\\extracted_amount_2.png\n",
      "Class: reciever, Shape: (124, 985)\n",
      "Saved cropped image: E:/Document Verfication/temp_images\\extracted_reciever_3.png\n"
     ]
    },
    {
     "name": "stderr",
     "output_type": "stream",
     "text": [
      "Processing images:  58%|█████▊    | 65/112 [00:21<00:12,  3.63it/s]"
     ]
    },
    {
     "name": "stdout",
     "output_type": "stream",
     "text": [
      "911010049001545 \n",
      "\n",
      "\n",
      "image 1/1 e:\\Document Verfication\\Sample Images\\IDRBT Cheque Image Dataset\\A300\\Cheque 309107.tif: 320x640 1 signature, 1 reciever, 1 account, 1 amount, 46.1ms\n",
      "Speed: 49.9ms preprocess, 46.1ms inference, 11.7ms postprocess per image at shape (1, 3, 320, 640)\n",
      "Class: amount, Shape: (106, 435)\n",
      "Saved cropped image: E:/Document Verfication/temp_images\\extracted_amount_0.png\n",
      "Class: signature, Shape: (146, 279)\n",
      "Saved cropped image: E:/Document Verfication/temp_images\\extracted_signature_1.png\n",
      "Class: account, Shape: (70, 313)\n",
      "Saved cropped image: E:/Document Verfication/temp_images\\extracted_account_2.png\n",
      "Class: reciever, Shape: (99, 975)\n",
      "Saved cropped image: E:/Document Verfication/temp_images\\extracted_reciever_3.png\n"
     ]
    },
    {
     "name": "stderr",
     "output_type": "stream",
     "text": [
      "Processing images:  59%|█████▉    | 66/112 [00:22<00:14,  3.22it/s]"
     ]
    },
    {
     "name": "stdout",
     "output_type": "stream",
     "text": [
      "911010049001545 \n",
      "\n",
      "\n",
      "image 1/1 e:\\Document Verfication\\Sample Images\\IDRBT Cheque Image Dataset\\A300\\Cheque 309108.tif: 320x640 1 signature, 1 reciever, 1 account, 1 amount, 53.8ms\n",
      "Speed: 0.0ms preprocess, 53.8ms inference, 10.0ms postprocess per image at shape (1, 3, 320, 640)\n",
      "Class: signature, Shape: (184, 271)\n",
      "Saved cropped image: E:/Document Verfication/temp_images\\extracted_signature_0.png\n",
      "Class: account, Shape: (70, 298)\n",
      "Saved cropped image: E:/Document Verfication/temp_images\\extracted_account_1.png\n",
      "Class: amount, Shape: (105, 471)\n",
      "Saved cropped image: E:/Document Verfication/temp_images\\extracted_amount_2.png\n",
      "Class: reciever, Shape: (116, 669)\n",
      "Saved cropped image: E:/Document Verfication/temp_images\\extracted_reciever_3.png\n"
     ]
    },
    {
     "name": "stderr",
     "output_type": "stream",
     "text": [
      "Processing images:  60%|█████▉    | 67/112 [00:22<00:15,  2.86it/s]"
     ]
    },
    {
     "name": "stdout",
     "output_type": "stream",
     "text": [
      "911010049001545 \n",
      "\n",
      "\n",
      "image 1/1 e:\\Document Verfication\\Sample Images\\IDRBT Cheque Image Dataset\\A300\\Cheque 309109.tif: 320x640 1 signature, 1 reciever, 1 account, 1 amount, 24.9ms\n",
      "Speed: 8.5ms preprocess, 24.9ms inference, 8.2ms postprocess per image at shape (1, 3, 320, 640)\n",
      "Class: signature, Shape: (167, 284)\n",
      "Saved cropped image: E:/Document Verfication/temp_images\\extracted_signature_0.png\n",
      "Class: account, Shape: (73, 319)\n",
      "Saved cropped image: E:/Document Verfication/temp_images\\extracted_account_1.png\n",
      "Class: reciever, Shape: (134, 811)\n",
      "Saved cropped image: E:/Document Verfication/temp_images\\extracted_reciever_2.png\n",
      "Class: amount, Shape: (109, 497)\n",
      "Saved cropped image: E:/Document Verfication/temp_images\\extracted_amount_3.png\n"
     ]
    },
    {
     "name": "stderr",
     "output_type": "stream",
     "text": [
      "Processing images:  61%|██████    | 68/112 [00:23<00:14,  3.07it/s]"
     ]
    },
    {
     "name": "stdout",
     "output_type": "stream",
     "text": [
      "911010049001545 \n",
      "\n",
      "\n",
      "image 1/1 e:\\Document Verfication\\Sample Images\\IDRBT Cheque Image Dataset\\A300\\Cheque 309110.tif: 320x640 1 signature, 1 reciever, 1 account, 1 amount, 24.9ms\n",
      "Speed: 5.0ms preprocess, 24.9ms inference, 9.1ms postprocess per image at shape (1, 3, 320, 640)\n",
      "Class: amount, Shape: (112, 336)\n",
      "Saved cropped image: E:/Document Verfication/temp_images\\extracted_amount_0.png\n",
      "Class: signature, Shape: (207, 272)\n",
      "Saved cropped image: E:/Document Verfication/temp_images\\extracted_signature_1.png\n",
      "Class: account, Shape: (71, 307)\n",
      "Saved cropped image: E:/Document Verfication/temp_images\\extracted_account_2.png\n",
      "Class: reciever, Shape: (148, 862)\n",
      "Saved cropped image: E:/Document Verfication/temp_images\\extracted_reciever_3.png\n"
     ]
    },
    {
     "name": "stderr",
     "output_type": "stream",
     "text": [
      "Processing images:  62%|██████▏   | 69/112 [00:23<00:12,  3.33it/s]"
     ]
    },
    {
     "name": "stdout",
     "output_type": "stream",
     "text": [
      "911010049001545 \n",
      "\n",
      "\n",
      "image 1/1 e:\\Document Verfication\\Sample Images\\IDRBT Cheque Image Dataset\\A300\\Cheque 309111.tif: 320x640 1 signature, 1 reciever, 1 account, 1 amount, 24.7ms\n",
      "Speed: 4.8ms preprocess, 24.7ms inference, 8.6ms postprocess per image at shape (1, 3, 320, 640)\n",
      "Class: signature, Shape: (220, 297)\n",
      "Saved cropped image: E:/Document Verfication/temp_images\\extracted_signature_0.png\n",
      "Class: amount, Shape: (108, 466)\n",
      "Saved cropped image: E:/Document Verfication/temp_images\\extracted_amount_1.png\n",
      "Class: account, Shape: (71, 316)\n",
      "Saved cropped image: E:/Document Verfication/temp_images\\extracted_account_2.png\n",
      "Class: reciever, Shape: (144, 934)\n",
      "Saved cropped image: E:/Document Verfication/temp_images\\extracted_reciever_3.png\n"
     ]
    },
    {
     "name": "stderr",
     "output_type": "stream",
     "text": [
      "Processing images:  62%|██████▎   | 70/112 [00:23<00:12,  3.47it/s]"
     ]
    },
    {
     "name": "stdout",
     "output_type": "stream",
     "text": [
      "911010049001545 \n",
      "\n",
      "\n",
      "image 1/1 e:\\Document Verfication\\Sample Images\\IDRBT Cheque Image Dataset\\A300\\Cheque 309112.tif: 320x640 1 signature, 1 reciever, 1 account, 1 amount, 20.4ms\n",
      "Speed: 7.3ms preprocess, 20.4ms inference, 5.8ms postprocess per image at shape (1, 3, 320, 640)\n",
      "Class: amount, Shape: (105, 468)\n",
      "Saved cropped image: E:/Document Verfication/temp_images\\extracted_amount_0.png\n",
      "Class: signature, Shape: (207, 361)\n",
      "Saved cropped image: E:/Document Verfication/temp_images\\extracted_signature_1.png\n",
      "Class: account, Shape: (71, 303)\n",
      "Saved cropped image: E:/Document Verfication/temp_images\\extracted_account_2.png\n",
      "Class: reciever, Shape: (126, 755)\n",
      "Saved cropped image: E:/Document Verfication/temp_images\\extracted_reciever_3.png\n"
     ]
    },
    {
     "name": "stderr",
     "output_type": "stream",
     "text": [
      "Processing images:  63%|██████▎   | 71/112 [00:23<00:11,  3.59it/s]"
     ]
    },
    {
     "name": "stdout",
     "output_type": "stream",
     "text": [
      "911010049001545 \n",
      "\n",
      "\n",
      "image 1/1 e:\\Document Verfication\\Sample Images\\IDRBT Cheque Image Dataset\\A300\\Cheque 309113.tif: 320x640 1 signature, 1 reciever, 1 account, 1 amount, 33.3ms\n",
      "Speed: 0.0ms preprocess, 33.3ms inference, 0.0ms postprocess per image at shape (1, 3, 320, 640)\n",
      "Class: signature, Shape: (255, 318)\n",
      "Saved cropped image: E:/Document Verfication/temp_images\\extracted_signature_0.png\n",
      "Class: account, Shape: (67, 320)\n",
      "Saved cropped image: E:/Document Verfication/temp_images\\extracted_account_1.png\n",
      "Class: amount, Shape: (112, 524)\n",
      "Saved cropped image: E:/Document Verfication/temp_images\\extracted_amount_2.png\n",
      "Class: reciever, Shape: (129, 950)\n",
      "Saved cropped image: E:/Document Verfication/temp_images\\extracted_reciever_3.png\n",
      "911010049001545"
     ]
    },
    {
     "name": "stderr",
     "output_type": "stream",
     "text": [
      "Processing images:  64%|██████▍   | 72/112 [00:24<00:12,  3.28it/s]"
     ]
    },
    {
     "name": "stdout",
     "output_type": "stream",
     "text": [
      " \n",
      "\n",
      "\n",
      "image 1/1 e:\\Document Verfication\\Sample Images\\IDRBT Cheque Image Dataset\\A300\\Cheque 309114.tif: 320x640 1 signature, 1 reciever, 1 account, 1 amount, 24.2ms\n",
      "Speed: 5.2ms preprocess, 24.2ms inference, 8.1ms postprocess per image at shape (1, 3, 320, 640)\n",
      "Class: signature, Shape: (193, 341)\n",
      "Saved cropped image: E:/Document Verfication/temp_images\\extracted_signature_0.png\n",
      "Class: account, Shape: (73, 314)\n",
      "Saved cropped image: E:/Document Verfication/temp_images\\extracted_account_1.png\n",
      "Class: amount, Shape: (109, 465)\n",
      "Saved cropped image: E:/Document Verfication/temp_images\\extracted_amount_2.png\n",
      "Class: reciever, Shape: (138, 1137)\n",
      "Saved cropped image: E:/Document Verfication/temp_images\\extracted_reciever_3.png\n"
     ]
    },
    {
     "name": "stderr",
     "output_type": "stream",
     "text": [
      "Processing images:  65%|██████▌   | 73/112 [00:24<00:11,  3.41it/s]"
     ]
    },
    {
     "name": "stdout",
     "output_type": "stream",
     "text": [
      "911010049001545 \n",
      "\n",
      "\n",
      "image 1/1 e:\\Document Verfication\\Sample Images\\IDRBT Cheque Image Dataset\\A300\\Cheque 309115.tif: 320x640 1 signature, 1 reciever, 1 account, 1 amount, 26.1ms\n",
      "Speed: 0.0ms preprocess, 26.1ms inference, 8.2ms postprocess per image at shape (1, 3, 320, 640)\n",
      "Class: amount, Shape: (107, 464)\n",
      "Saved cropped image: E:/Document Verfication/temp_images\\extracted_amount_0.png\n",
      "Class: signature, Shape: (252, 320)\n",
      "Saved cropped image: E:/Document Verfication/temp_images\\extracted_signature_1.png\n",
      "Class: account, Shape: (71, 319)\n",
      "Saved cropped image: E:/Document Verfication/temp_images\\extracted_account_2.png\n",
      "Class: reciever, Shape: (140, 1112)\n",
      "Saved cropped image: E:/Document Verfication/temp_images\\extracted_reciever_3.png\n"
     ]
    },
    {
     "name": "stderr",
     "output_type": "stream",
     "text": [
      "Processing images:  66%|██████▌   | 74/112 [00:24<00:12,  3.16it/s]"
     ]
    },
    {
     "name": "stdout",
     "output_type": "stream",
     "text": [
      "911010049001545 \n",
      "\n",
      "\n",
      "image 1/1 e:\\Document Verfication\\Sample Images\\IDRBT Cheque Image Dataset\\A300\\Cheque 309116.tif: 320x640 1 signature, 1 reciever, 1 account, 1 amount, 33.3ms\n",
      "Speed: 0.0ms preprocess, 33.3ms inference, 0.0ms postprocess per image at shape (1, 3, 320, 640)\n",
      "Class: account, Shape: (73, 312)\n",
      "Saved cropped image: E:/Document Verfication/temp_images\\extracted_account_0.png\n",
      "Class: reciever, Shape: (136, 710)\n",
      "Saved cropped image: E:/Document Verfication/temp_images\\extracted_reciever_1.png\n",
      "Class: signature, Shape: (199, 319)\n",
      "Saved cropped image: E:/Document Verfication/temp_images\\extracted_signature_2.png\n",
      "Class: amount, Shape: (107, 370)\n",
      "Saved cropped image: E:/Document Verfication/temp_images\\extracted_amount_3.png\n"
     ]
    },
    {
     "name": "stderr",
     "output_type": "stream",
     "text": [
      "Processing images:  67%|██████▋   | 75/112 [00:25<00:11,  3.22it/s]"
     ]
    },
    {
     "name": "stdout",
     "output_type": "stream",
     "text": [
      "911010049001545 \n",
      "\n",
      "\n",
      "image 1/1 e:\\Document Verfication\\Sample Images\\IDRBT Cheque Image Dataset\\A300\\Cheque 309117.tif: 320x640 1 signature, 1 reciever, 1 account, 1 amount, 37.0ms\n",
      "Speed: 0.0ms preprocess, 37.0ms inference, 3.2ms postprocess per image at shape (1, 3, 320, 640)\n",
      "Class: signature, Shape: (219, 296)\n",
      "Saved cropped image: E:/Document Verfication/temp_images\\extracted_signature_0.png\n",
      "Class: account, Shape: (73, 315)\n",
      "Saved cropped image: E:/Document Verfication/temp_images\\extracted_account_1.png\n",
      "Class: amount, Shape: (110, 426)\n",
      "Saved cropped image: E:/Document Verfication/temp_images\\extracted_amount_2.png\n",
      "Class: reciever, Shape: (134, 910)\n",
      "Saved cropped image: E:/Document Verfication/temp_images\\extracted_reciever_3.png\n"
     ]
    },
    {
     "name": "stderr",
     "output_type": "stream",
     "text": [
      "Processing images:  68%|██████▊   | 76/112 [00:25<00:10,  3.31it/s]"
     ]
    },
    {
     "name": "stdout",
     "output_type": "stream",
     "text": [
      "911010049001545 \n",
      "\n",
      "\n",
      "image 1/1 e:\\Document Verfication\\Sample Images\\IDRBT Cheque Image Dataset\\A300\\Cheque 309118.tif: 320x640 1 signature, 1 reciever, 1 account, 1 amount, 32.3ms\n",
      "Speed: 0.0ms preprocess, 32.3ms inference, 8.2ms postprocess per image at shape (1, 3, 320, 640)\n",
      "Class: account, Shape: (73, 310)\n",
      "Saved cropped image: E:/Document Verfication/temp_images\\extracted_account_0.png\n",
      "Class: amount, Shape: (106, 395)\n",
      "Saved cropped image: E:/Document Verfication/temp_images\\extracted_amount_1.png\n",
      "Class: signature, Shape: (208, 365)\n",
      "Saved cropped image: E:/Document Verfication/temp_images\\extracted_signature_2.png\n",
      "Class: reciever, Shape: (131, 968)\n",
      "Saved cropped image: E:/Document Verfication/temp_images\\extracted_reciever_3.png\n"
     ]
    },
    {
     "name": "stderr",
     "output_type": "stream",
     "text": [
      "Processing images:  69%|██████▉   | 77/112 [00:25<00:10,  3.43it/s]"
     ]
    },
    {
     "name": "stdout",
     "output_type": "stream",
     "text": [
      "911010049001545 \n",
      "\n",
      "\n",
      "image 1/1 e:\\Document Verfication\\Sample Images\\IDRBT Cheque Image Dataset\\A300\\Cheque 309119.tif: 320x640 1 signature, 1 reciever, 1 account, 1 amount, 41.5ms\n",
      "Speed: 4.2ms preprocess, 41.5ms inference, 8.9ms postprocess per image at shape (1, 3, 320, 640)\n",
      "Class: amount, Shape: (109, 318)\n",
      "Saved cropped image: E:/Document Verfication/temp_images\\extracted_amount_0.png\n",
      "Class: account, Shape: (72, 318)\n",
      "Saved cropped image: E:/Document Verfication/temp_images\\extracted_account_1.png\n",
      "Class: signature, Shape: (138, 294)\n",
      "Saved cropped image: E:/Document Verfication/temp_images\\extracted_signature_2.png\n",
      "Class: reciever, Shape: (118, 1227)\n",
      "Saved cropped image: E:/Document Verfication/temp_images\\extracted_reciever_3.png\n"
     ]
    },
    {
     "name": "stderr",
     "output_type": "stream",
     "text": [
      "Processing images:  70%|██████▉   | 78/112 [00:25<00:09,  3.45it/s]"
     ]
    },
    {
     "name": "stdout",
     "output_type": "stream",
     "text": [
      "911010049001545 \n",
      "\n",
      "\n",
      "image 1/1 e:\\Document Verfication\\Sample Images\\IDRBT Cheque Image Dataset\\A300\\Cheque 309121.tif: 288x640 1 signature, 1 reciever, 1 account, 1 amount, 46.8ms\n",
      "Speed: 0.0ms preprocess, 46.8ms inference, 11.0ms postprocess per image at shape (1, 3, 288, 640)\n"
     ]
    },
    {
     "name": "stderr",
     "output_type": "stream",
     "text": [
      "Processing images:  71%|███████   | 79/112 [00:26<00:09,  3.31it/s]"
     ]
    },
    {
     "name": "stdout",
     "output_type": "stream",
     "text": [
      "Class: amount, Shape: (103, 370)\n",
      "Saved cropped image: E:/Document Verfication/temp_images\\extracted_amount_0.png\n",
      "Class: signature, Shape: (169, 249)\n",
      "Saved cropped image: E:/Document Verfication/temp_images\\extracted_signature_1.png\n",
      "Class: reciever, Shape: (101, 549)\n",
      "Saved cropped image: E:/Document Verfication/temp_images\\extracted_reciever_2.png\n",
      "Class: account, Shape: (73, 314)\n",
      "Saved cropped image: E:/Document Verfication/temp_images\\extracted_account_3.png\n",
      "911010049001545 \n",
      "\n",
      "\n",
      "image 1/1 e:\\Document Verfication\\Sample Images\\IDRBT Cheque Image Dataset\\A300\\Cheque 309122.tif: 288x640 1 signature, 1 reciever, 1 account, 1 amount, 33.8ms\n",
      "Speed: 3.7ms preprocess, 33.8ms inference, 8.3ms postprocess per image at shape (1, 3, 288, 640)\n"
     ]
    },
    {
     "name": "stderr",
     "output_type": "stream",
     "text": [
      "Processing images:  71%|███████▏  | 80/112 [00:26<00:09,  3.50it/s]"
     ]
    },
    {
     "name": "stdout",
     "output_type": "stream",
     "text": [
      "Class: amount, Shape: (105, 435)\n",
      "Saved cropped image: E:/Document Verfication/temp_images\\extracted_amount_0.png\n",
      "Class: account, Shape: (71, 317)\n",
      "Saved cropped image: E:/Document Verfication/temp_images\\extracted_account_1.png\n",
      "Class: signature, Shape: (150, 225)\n",
      "Saved cropped image: E:/Document Verfication/temp_images\\extracted_signature_2.png\n",
      "Class: reciever, Shape: (93, 1040)\n",
      "Saved cropped image: E:/Document Verfication/temp_images\\extracted_reciever_3.png\n",
      "911010049001545 \n",
      "\n",
      "\n",
      "image 1/1 e:\\Document Verfication\\Sample Images\\IDRBT Cheque Image Dataset\\A300\\Cheque 309123.tif: 288x640 1 signature, 1 reciever, 1 account, 1 amount, 34.1ms\n",
      "Speed: 4.1ms preprocess, 34.1ms inference, 3.6ms postprocess per image at shape (1, 3, 288, 640)\n",
      "Class: amount, Shape: (105, 395)\n",
      "Saved cropped image: E:/Document Verfication/temp_images\\extracted_amount_0.png\n",
      "Class: signature, Shape: (151, 213)\n",
      "Saved cropped image: E:/Document Verfication/temp_images\\extracted_signature_1.png\n",
      "Class: account, Shape: (73, 317)\n",
      "Saved cropped image: E:/Document Verfication/temp_images\\extracted_account_2.png\n",
      "Class: reciever, Shape: (102, 1111)\n",
      "Saved cropped image: E:/Document Verfication/temp_images\\extracted_reciever_3.png\n"
     ]
    },
    {
     "name": "stderr",
     "output_type": "stream",
     "text": [
      "Processing images:  72%|███████▏  | 81/112 [00:26<00:09,  3.21it/s]"
     ]
    },
    {
     "name": "stdout",
     "output_type": "stream",
     "text": [
      "911010049001545 \n",
      "\n",
      "\n",
      "image 1/1 e:\\Document Verfication\\Sample Images\\IDRBT Cheque Image Dataset\\A300\\Cheque 309124.tif: 288x640 1 signature, 1 reciever, 1 account, 1 amount, 45.1ms\n",
      "Speed: 0.0ms preprocess, 45.1ms inference, 0.0ms postprocess per image at shape (1, 3, 288, 640)\n",
      "Class: amount, Shape: (106, 450)\n",
      "Saved cropped image: E:/Document Verfication/temp_images\\extracted_amount_0.png\n",
      "Class: reciever, Shape: (107, 953)\n",
      "Saved cropped image: E:/Document Verfication/temp_images\\extracted_reciever_1.png\n",
      "Class: account, Shape: (73, 316)\n",
      "Saved cropped image: E:/Document Verfication/temp_images\\extracted_account_2.png\n",
      "Class: signature, Shape: (127, 204)\n",
      "Saved cropped image: E:/Document Verfication/temp_images\\extracted_signature_3.png\n"
     ]
    },
    {
     "name": "stderr",
     "output_type": "stream",
     "text": [
      "Processing images:  73%|███████▎  | 82/112 [00:27<00:10,  2.96it/s]"
     ]
    },
    {
     "name": "stdout",
     "output_type": "stream",
     "text": [
      "911010049001545 \n",
      "\n",
      "\n",
      "image 1/1 e:\\Document Verfication\\Sample Images\\IDRBT Cheque Image Dataset\\A300\\Cheque 309125.tif: 288x640 1 signature, 2 recievers, 1 account, 1 amount, 49.6ms\n",
      "Speed: 4.5ms preprocess, 49.6ms inference, 9.5ms postprocess per image at shape (1, 3, 288, 640)\n",
      "Class: account, Shape: (72, 314)\n",
      "Saved cropped image: E:/Document Verfication/temp_images\\extracted_account_0.png\n",
      "Class: signature, Shape: (124, 198)\n",
      "Saved cropped image: E:/Document Verfication/temp_images\\extracted_signature_1.png\n",
      "Class: amount, Shape: (105, 437)\n",
      "Saved cropped image: E:/Document Verfication/temp_images\\extracted_amount_2.png\n",
      "Class: reciever, Shape: (110, 925)\n",
      "Saved cropped image: E:/Document Verfication/temp_images\\extracted_reciever_3.png\n",
      "Class: reciever, Shape: (109, 1236)\n",
      "Saved cropped image: E:/Document Verfication/temp_images\\extracted_reciever_4.png\n"
     ]
    },
    {
     "name": "stderr",
     "output_type": "stream",
     "text": [
      "Processing images:  74%|███████▍  | 83/112 [00:27<00:10,  2.72it/s]"
     ]
    },
    {
     "name": "stdout",
     "output_type": "stream",
     "text": [
      "911010049001545 \n",
      "\n",
      "\n",
      "image 1/1 e:\\Document Verfication\\Sample Images\\IDRBT Cheque Image Dataset\\A300\\Cheque 309126.tif: 288x640 1 signature, 1 reciever, 1 account, 1 amount, 50.7ms\n",
      "Speed: 3.8ms preprocess, 50.7ms inference, 3.7ms postprocess per image at shape (1, 3, 288, 640)\n",
      "Class: account, Shape: (70, 317)\n",
      "Saved cropped image: E:/Document Verfication/temp_images\\extracted_account_0.png\n",
      "Class: signature, Shape: (128, 198)\n",
      "Saved cropped image: E:/Document Verfication/temp_images\\extracted_signature_1.png\n",
      "Class: reciever, Shape: (116, 713)\n",
      "Saved cropped image: E:/Document Verfication/temp_images\\extracted_reciever_2.png\n",
      "Class: amount, Shape: (103, 432)\n",
      "Saved cropped image: E:/Document Verfication/temp_images\\extracted_amount_3.png\n"
     ]
    },
    {
     "name": "stderr",
     "output_type": "stream",
     "text": [
      "Processing images:  75%|███████▌  | 84/112 [00:28<00:11,  2.53it/s]"
     ]
    },
    {
     "name": "stdout",
     "output_type": "stream",
     "text": [
      "911010049001545 \n",
      "\n",
      "\n",
      "image 1/1 e:\\Document Verfication\\Sample Images\\IDRBT Cheque Image Dataset\\A300\\Cheque 309127.tif: 320x640 1 signature, 1 reciever, 1 account, 1 amount, 33.3ms\n",
      "Speed: 0.0ms preprocess, 33.3ms inference, 9.7ms postprocess per image at shape (1, 3, 320, 640)\n",
      "Class: account, Shape: (71, 307)\n",
      "Saved cropped image: E:/Document Verfication/temp_images\\extracted_account_0.png\n",
      "Class: signature, Shape: (160, 207)\n",
      "Saved cropped image: E:/Document Verfication/temp_images\\extracted_signature_1.png\n",
      "Class: amount, Shape: (106, 414)\n",
      "Saved cropped image: E:/Document Verfication/temp_images\\extracted_amount_2.png\n",
      "Class: reciever, Shape: (106, 774)\n",
      "Saved cropped image: E:/Document Verfication/temp_images\\extracted_reciever_3.png\n"
     ]
    },
    {
     "name": "stderr",
     "output_type": "stream",
     "text": [
      "Processing images:  76%|███████▌  | 85/112 [00:28<00:09,  2.86it/s]"
     ]
    },
    {
     "name": "stdout",
     "output_type": "stream",
     "text": [
      "911010049001545 \n",
      "\n",
      "\n",
      "image 1/1 e:\\Document Verfication\\Sample Images\\IDRBT Cheque Image Dataset\\A300\\Cheque 309128.tif: 320x640 1 signature, 1 reciever, 1 account, 1 amount, 55.3ms\n",
      "Speed: 0.0ms preprocess, 55.3ms inference, 0.0ms postprocess per image at shape (1, 3, 320, 640)\n"
     ]
    },
    {
     "name": "stderr",
     "output_type": "stream",
     "text": [
      "Processing images:  77%|███████▋  | 86/112 [00:28<00:08,  2.96it/s]"
     ]
    },
    {
     "name": "stdout",
     "output_type": "stream",
     "text": [
      "Class: amount, Shape: (108, 431)\n",
      "Saved cropped image: E:/Document Verfication/temp_images\\extracted_amount_0.png\n",
      "Class: account, Shape: (71, 308)\n",
      "Saved cropped image: E:/Document Verfication/temp_images\\extracted_account_1.png\n",
      "Class: signature, Shape: (126, 209)\n",
      "Saved cropped image: E:/Document Verfication/temp_images\\extracted_signature_2.png\n",
      "Class: reciever, Shape: (108, 1037)\n",
      "Saved cropped image: E:/Document Verfication/temp_images\\extracted_reciever_3.png\n",
      "911010049001545 \n",
      "\n",
      "\n",
      "image 1/1 e:\\Document Verfication\\Sample Images\\IDRBT Cheque Image Dataset\\A300\\Cheque 309129.tif: 320x640 1 signature, 1 reciever, 1 account, 1 amount, 30.2ms\n",
      "Speed: 4.8ms preprocess, 30.2ms inference, 8.2ms postprocess per image at shape (1, 3, 320, 640)\n"
     ]
    },
    {
     "name": "stderr",
     "output_type": "stream",
     "text": [
      "Processing images:  78%|███████▊  | 87/112 [00:29<00:08,  3.11it/s]"
     ]
    },
    {
     "name": "stdout",
     "output_type": "stream",
     "text": [
      "Class: account, Shape: (74, 322)\n",
      "Saved cropped image: E:/Document Verfication/temp_images\\extracted_account_0.png\n",
      "Class: signature, Shape: (126, 222)\n",
      "Saved cropped image: E:/Document Verfication/temp_images\\extracted_signature_1.png\n",
      "Class: amount, Shape: (104, 448)\n",
      "Saved cropped image: E:/Document Verfication/temp_images\\extracted_amount_2.png\n",
      "Class: reciever, Shape: (104, 961)\n",
      "Saved cropped image: E:/Document Verfication/temp_images\\extracted_reciever_3.png\n",
      "911010049001545 \n",
      "\n",
      "\n",
      "image 1/1 e:\\Document Verfication\\Sample Images\\IDRBT Cheque Image Dataset\\A300\\Cheque 309130.tif: 320x640 1 signature, 1 reciever, 1 account, 1 amount, 35.7ms\n",
      "Speed: 0.0ms preprocess, 35.7ms inference, 7.6ms postprocess per image at shape (1, 3, 320, 640)\n"
     ]
    },
    {
     "name": "stderr",
     "output_type": "stream",
     "text": [
      "Processing images:  79%|███████▊  | 88/112 [00:29<00:07,  3.32it/s]"
     ]
    },
    {
     "name": "stdout",
     "output_type": "stream",
     "text": [
      "Class: signature, Shape: (137, 221)\n",
      "Saved cropped image: E:/Document Verfication/temp_images\\extracted_signature_0.png\n",
      "Class: account, Shape: (73, 312)\n",
      "Saved cropped image: E:/Document Verfication/temp_images\\extracted_account_1.png\n",
      "Class: amount, Shape: (109, 421)\n",
      "Saved cropped image: E:/Document Verfication/temp_images\\extracted_amount_2.png\n",
      "Class: reciever, Shape: (109, 1012)\n",
      "Saved cropped image: E:/Document Verfication/temp_images\\extracted_reciever_3.png\n",
      "911010049001545 \n",
      "\n",
      "\n",
      "image 1/1 e:\\Document Verfication\\Sample Images\\IDRBT Cheque Image Dataset\\A300\\Cheque 309131.tif: 320x640 1 signature, 1 reciever, 1 account, 1 amount, 33.0ms\n",
      "Speed: 0.0ms preprocess, 33.0ms inference, 8.2ms postprocess per image at shape (1, 3, 320, 640)\n"
     ]
    },
    {
     "name": "stderr",
     "output_type": "stream",
     "text": [
      "Processing images:  79%|███████▉  | 89/112 [00:29<00:06,  3.40it/s]"
     ]
    },
    {
     "name": "stdout",
     "output_type": "stream",
     "text": [
      "Class: account, Shape: (73, 315)\n",
      "Saved cropped image: E:/Document Verfication/temp_images\\extracted_account_0.png\n",
      "Class: amount, Shape: (110, 394)\n",
      "Saved cropped image: E:/Document Verfication/temp_images\\extracted_amount_1.png\n",
      "Class: signature, Shape: (126, 173)\n",
      "Saved cropped image: E:/Document Verfication/temp_images\\extracted_signature_2.png\n",
      "Class: reciever, Shape: (118, 1067)\n",
      "Saved cropped image: E:/Document Verfication/temp_images\\extracted_reciever_3.png\n",
      "911010049001545 \n",
      "\n",
      "\n",
      "image 1/1 e:\\Document Verfication\\Sample Images\\IDRBT Cheque Image Dataset\\A300\\Cheque 309133.tif: 320x640 1 signature, 1 reciever, 1 account, 1 amount, 29.6ms\n",
      "Speed: 8.1ms preprocess, 29.6ms inference, 6.1ms postprocess per image at shape (1, 3, 320, 640)\n"
     ]
    },
    {
     "name": "stderr",
     "output_type": "stream",
     "text": [
      "Processing images:  80%|████████  | 90/112 [00:29<00:06,  3.59it/s]"
     ]
    },
    {
     "name": "stdout",
     "output_type": "stream",
     "text": [
      "Class: amount, Shape: (108, 456)\n",
      "Saved cropped image: E:/Document Verfication/temp_images\\extracted_amount_0.png\n",
      "Class: signature, Shape: (117, 215)\n",
      "Saved cropped image: E:/Document Verfication/temp_images\\extracted_signature_1.png\n",
      "Class: account, Shape: (73, 318)\n",
      "Saved cropped image: E:/Document Verfication/temp_images\\extracted_account_2.png\n",
      "Class: reciever, Shape: (121, 1167)\n",
      "Saved cropped image: E:/Document Verfication/temp_images\\extracted_reciever_3.png\n",
      "911010049001545 \n",
      "\n",
      "\n",
      "image 1/1 e:\\Document Verfication\\Sample Images\\IDRBT Cheque Image Dataset\\A300\\Cheque 309134.tif: 320x640 1 signature, 1 reciever, 1 account, 1 amount, 18.6ms\n",
      "Speed: 4.8ms preprocess, 18.6ms inference, 10.3ms postprocess per image at shape (1, 3, 320, 640)\n",
      "Class: signature, Shape: (120, 217)\n",
      "Saved cropped image: E:/Document Verfication/temp_images\\extracted_signature_0.png\n",
      "Class: account, Shape: (71, 316)\n",
      "Saved cropped image: E:/Document Verfication/temp_images\\extracted_account_1.png\n",
      "Class: amount, Shape: (109, 450)\n",
      "Saved cropped image: E:/Document Verfication/temp_images\\extracted_amount_2.png\n",
      "Class: reciever, Shape: (119, 1051)\n",
      "Saved cropped image: E:/Document Verfication/temp_images\\extracted_reciever_3.png\n",
      "911010049001545 \n",
      "\n"
     ]
    },
    {
     "name": "stderr",
     "output_type": "stream",
     "text": [
      "Processing images:  81%|████████▏ | 91/112 [00:30<00:06,  3.20it/s]"
     ]
    },
    {
     "name": "stdout",
     "output_type": "stream",
     "text": [
      "\n",
      "image 1/1 e:\\Document Verfication\\Sample Images\\IDRBT Cheque Image Dataset\\A300\\Cheque 309135.tif: 320x640 1 signature, 1 reciever, 1 account, 1 amount, 90.6ms\n",
      "Speed: 10.6ms preprocess, 90.6ms inference, 1.0ms postprocess per image at shape (1, 3, 320, 640)\n"
     ]
    },
    {
     "name": "stderr",
     "output_type": "stream",
     "text": [
      "Processing images:  82%|████████▏ | 92/112 [00:30<00:06,  3.22it/s]"
     ]
    },
    {
     "name": "stdout",
     "output_type": "stream",
     "text": [
      "Class: amount, Shape: (108, 425)\n",
      "Saved cropped image: E:/Document Verfication/temp_images\\extracted_amount_0.png\n",
      "Class: signature, Shape: (118, 243)\n",
      "Saved cropped image: E:/Document Verfication/temp_images\\extracted_signature_1.png\n",
      "Class: account, Shape: (70, 319)\n",
      "Saved cropped image: E:/Document Verfication/temp_images\\extracted_account_2.png\n",
      "Class: reciever, Shape: (118, 1129)\n",
      "Saved cropped image: E:/Document Verfication/temp_images\\extracted_reciever_3.png\n",
      "911010049001545 \n",
      "\n",
      "\n",
      "image 1/1 e:\\Document Verfication\\Sample Images\\IDRBT Cheque Image Dataset\\A300\\Cheque 309136.tif: 320x640 1 signature, 1 reciever, 1 account, 1 amount, 32.5ms\n",
      "Speed: 2.7ms preprocess, 32.5ms inference, 9.2ms postprocess per image at shape (1, 3, 320, 640)\n"
     ]
    },
    {
     "name": "stderr",
     "output_type": "stream",
     "text": [
      "Processing images:  83%|████████▎ | 93/112 [00:30<00:05,  3.39it/s]"
     ]
    },
    {
     "name": "stdout",
     "output_type": "stream",
     "text": [
      "Class: amount, Shape: (109, 430)\n",
      "Saved cropped image: E:/Document Verfication/temp_images\\extracted_amount_0.png\n",
      "Class: account, Shape: (71, 313)\n",
      "Saved cropped image: E:/Document Verfication/temp_images\\extracted_account_1.png\n",
      "Class: signature, Shape: (109, 214)\n",
      "Saved cropped image: E:/Document Verfication/temp_images\\extracted_signature_2.png\n",
      "Class: reciever, Shape: (113, 824)\n",
      "Saved cropped image: E:/Document Verfication/temp_images\\extracted_reciever_3.png\n",
      "911010049001545 \n",
      "\n",
      "\n",
      "image 1/1 e:\\Document Verfication\\Sample Images\\IDRBT Cheque Image Dataset\\A300\\Cheque 309137.tif: 320x640 1 signature, 1 reciever, 1 account, 1 amount, 35.2ms\n",
      "Speed: 8.2ms preprocess, 35.2ms inference, 8.4ms postprocess per image at shape (1, 3, 320, 640)\n"
     ]
    },
    {
     "name": "stderr",
     "output_type": "stream",
     "text": [
      "Processing images:  84%|████████▍ | 94/112 [00:31<00:05,  3.45it/s]"
     ]
    },
    {
     "name": "stdout",
     "output_type": "stream",
     "text": [
      "Class: amount, Shape: (109, 439)\n",
      "Saved cropped image: E:/Document Verfication/temp_images\\extracted_amount_0.png\n",
      "Class: signature, Shape: (106, 179)\n",
      "Saved cropped image: E:/Document Verfication/temp_images\\extracted_signature_1.png\n",
      "Class: reciever, Shape: (132, 881)\n",
      "Saved cropped image: E:/Document Verfication/temp_images\\extracted_reciever_2.png\n",
      "Class: account, Shape: (70, 313)\n",
      "Saved cropped image: E:/Document Verfication/temp_images\\extracted_account_3.png\n",
      "911010049001545 \n",
      "\n",
      "\n",
      "image 1/1 e:\\Document Verfication\\Sample Images\\IDRBT Cheque Image Dataset\\A300\\Cheque 309138.tif: 320x640 1 signature, 1 reciever, 1 account, 1 amount, 32.9ms\n",
      "Speed: 0.0ms preprocess, 32.9ms inference, 0.0ms postprocess per image at shape (1, 3, 320, 640)\n",
      "Class: signature, Shape: (85, 191)\n",
      "Saved cropped image: E:/Document Verfication/temp_images\\extracted_signature_0.png\n",
      "Class: account, Shape: (72, 311)\n",
      "Saved cropped image: E:/Document Verfication/temp_images\\extracted_account_1.png\n",
      "Class: reciever, Shape: (116, 959)\n",
      "Saved cropped image: E:/Document Verfication/temp_images\\extracted_reciever_2.png\n",
      "Class: amount, Shape: (108, 456)\n",
      "Saved cropped image: E:/Document Verfication/temp_images\\extracted_amount_3.png\n"
     ]
    },
    {
     "name": "stderr",
     "output_type": "stream",
     "text": [
      "Processing images:  85%|████████▍ | 95/112 [00:31<00:04,  3.56it/s]"
     ]
    },
    {
     "name": "stdout",
     "output_type": "stream",
     "text": [
      "911010049001545 \n",
      "\n",
      "\n",
      "image 1/1 e:\\Document Verfication\\Sample Images\\IDRBT Cheque Image Dataset\\A300\\Cheque 309139.tif: 320x640 1 signature, 1 reciever, 1 account, 1 amount, 25.8ms\n",
      "Speed: 8.2ms preprocess, 25.8ms inference, 0.0ms postprocess per image at shape (1, 3, 320, 640)\n",
      "Class: amount, Shape: (108, 369)\n",
      "Saved cropped image: E:/Document Verfication/temp_images\\extracted_amount_0.png\n",
      "Class: reciever, Shape: (132, 833)\n",
      "Saved cropped image: E:/Document Verfication/temp_images\\extracted_reciever_1.png\n",
      "Class: account, Shape: (72, 310)\n",
      "Saved cropped image: E:/Document Verfication/temp_images\\extracted_account_2.png\n",
      "Class: signature, Shape: (69, 167)\n",
      "Saved cropped image: E:/Document Verfication/temp_images\\extracted_signature_3.png\n"
     ]
    },
    {
     "name": "stderr",
     "output_type": "stream",
     "text": [
      "Processing images:  86%|████████▌ | 96/112 [00:31<00:04,  3.67it/s]"
     ]
    },
    {
     "name": "stdout",
     "output_type": "stream",
     "text": [
      "911010049001545 \n",
      "\n",
      "\n",
      "image 1/1 e:\\Document Verfication\\Sample Images\\IDRBT Cheque Image Dataset\\A300\\Cheque 309141.tif: 320x640 1 signature, 1 reciever, 1 account, 1 amount, 43.0ms\n",
      "Speed: 6.6ms preprocess, 43.0ms inference, 1.6ms postprocess per image at shape (1, 3, 320, 640)\n",
      "Class: signature, Shape: (85, 203)\n",
      "Saved cropped image: E:/Document Verfication/temp_images\\extracted_signature_0.png\n",
      "Class: amount, Shape: (106, 403)\n",
      "Saved cropped image: E:/Document Verfication/temp_images\\extracted_amount_1.png\n",
      "Class: reciever, Shape: (104, 778)\n",
      "Saved cropped image: E:/Document Verfication/temp_images\\extracted_reciever_2.png\n",
      "Class: account, Shape: (69, 318)\n",
      "Saved cropped image: E:/Document Verfication/temp_images\\extracted_account_3.png\n"
     ]
    },
    {
     "name": "stderr",
     "output_type": "stream",
     "text": [
      "Processing images:  87%|████████▋ | 97/112 [00:31<00:04,  3.70it/s]"
     ]
    },
    {
     "name": "stdout",
     "output_type": "stream",
     "text": [
      "911010049001545 \n",
      "\n",
      "\n",
      "image 1/1 e:\\Document Verfication\\Sample Images\\IDRBT Cheque Image Dataset\\A300\\Cheque 309142.tif: 320x640 1 signature, 1 reciever, 1 account, 1 amount, 118.8ms\n",
      "Speed: 0.0ms preprocess, 118.8ms inference, 6.3ms postprocess per image at shape (1, 3, 320, 640)\n",
      "Class: amount, Shape: (106, 382)\n",
      "Saved cropped image: E:/Document Verfication/temp_images\\extracted_amount_0.png\n",
      "Class: account, Shape: (71, 316)\n",
      "Saved cropped image: E:/Document Verfication/temp_images\\extracted_account_1.png\n",
      "Class: signature, Shape: (89, 157)\n",
      "Saved cropped image: E:/Document Verfication/temp_images\\extracted_signature_2.png\n",
      "Class: reciever, Shape: (105, 925)\n",
      "Saved cropped image: E:/Document Verfication/temp_images\\extracted_reciever_3.png\n"
     ]
    },
    {
     "name": "stderr",
     "output_type": "stream",
     "text": [
      "Processing images:  88%|████████▊ | 98/112 [00:32<00:04,  3.10it/s]"
     ]
    },
    {
     "name": "stdout",
     "output_type": "stream",
     "text": [
      "911010049001545 \n",
      "\n",
      "\n",
      "image 1/1 e:\\Document Verfication\\Sample Images\\IDRBT Cheque Image Dataset\\A300\\Cheque 309144.tif: 320x640 1 signature, 1 reciever, 1 account, 1 amount, 57.9ms\n",
      "Speed: 7.7ms preprocess, 57.9ms inference, 5.1ms postprocess per image at shape (1, 3, 320, 640)\n",
      "Class: amount, Shape: (108, 468)\n",
      "Saved cropped image: E:/Document Verfication/temp_images\\extracted_amount_0.png\n",
      "Class: account, Shape: (75, 320)\n",
      "Saved cropped image: E:/Document Verfication/temp_images\\extracted_account_1.png\n",
      "Class: signature, Shape: (81, 174)\n",
      "Saved cropped image: E:/Document Verfication/temp_images\\extracted_signature_2.png\n",
      "Class: reciever, Shape: (116, 774)\n",
      "Saved cropped image: E:/Document Verfication/temp_images\\extracted_reciever_3.png\n"
     ]
    },
    {
     "name": "stderr",
     "output_type": "stream",
     "text": [
      "Processing images:  88%|████████▊ | 99/112 [00:32<00:04,  2.85it/s]"
     ]
    },
    {
     "name": "stdout",
     "output_type": "stream",
     "text": [
      "911010049001545 \n",
      "\n",
      "\n",
      "image 1/1 e:\\Document Verfication\\Sample Images\\IDRBT Cheque Image Dataset\\A300\\Cheque 309145.tif: 320x640 1 signature, 1 reciever, 1 account, 1 amount, 49.9ms\n",
      "Speed: 7.0ms preprocess, 49.9ms inference, 8.6ms postprocess per image at shape (1, 3, 320, 640)\n",
      "Class: account, Shape: (73, 316)\n",
      "Saved cropped image: E:/Document Verfication/temp_images\\extracted_account_0.png\n",
      "Class: signature, Shape: (96, 191)\n",
      "Saved cropped image: E:/Document Verfication/temp_images\\extracted_signature_1.png\n",
      "Class: amount, Shape: (106, 431)\n",
      "Saved cropped image: E:/Document Verfication/temp_images\\extracted_amount_2.png\n",
      "Class: reciever, Shape: (111, 871)\n",
      "Saved cropped image: E:/Document Verfication/temp_images\\extracted_reciever_3.png\n"
     ]
    },
    {
     "name": "stderr",
     "output_type": "stream",
     "text": [
      "Processing images:  89%|████████▉ | 100/112 [00:33<00:04,  2.63it/s]"
     ]
    },
    {
     "name": "stdout",
     "output_type": "stream",
     "text": [
      "911010049001545 \n",
      "\n",
      "\n",
      "image 1/1 e:\\Document Verfication\\Sample Images\\IDRBT Cheque Image Dataset\\A300\\Cheque 309147.tif: 320x640 1 signature, 1 reciever, 1 account, 1 amount, 55.8ms\n",
      "Speed: 10.3ms preprocess, 55.8ms inference, 3.6ms postprocess per image at shape (1, 3, 320, 640)\n",
      "Class: account, Shape: (74, 313)\n",
      "Saved cropped image: E:/Document Verfication/temp_images\\extracted_account_0.png\n",
      "Class: amount, Shape: (108, 418)\n",
      "Saved cropped image: E:/Document Verfication/temp_images\\extracted_amount_1.png\n",
      "Class: signature, Shape: (81, 170)\n",
      "Saved cropped image: E:/Document Verfication/temp_images\\extracted_signature_2.png\n",
      "Class: reciever, Shape: (143, 932)\n",
      "Saved cropped image: E:/Document Verfication/temp_images\\extracted_reciever_3.png\n"
     ]
    },
    {
     "name": "stderr",
     "output_type": "stream",
     "text": [
      "Processing images:  90%|█████████ | 101/112 [00:33<00:04,  2.46it/s]"
     ]
    },
    {
     "name": "stdout",
     "output_type": "stream",
     "text": [
      "911010049001545 \n",
      "\n",
      "\n",
      "image 1/1 e:\\Document Verfication\\Sample Images\\IDRBT Cheque Image Dataset\\A300\\Cheque 309148.tif: 320x640 1 signature, 1 reciever, 1 account, 1 amount, 40.6ms\n",
      "Speed: 0.0ms preprocess, 40.6ms inference, 10.0ms postprocess per image at shape (1, 3, 320, 640)\n",
      "Class: account, Shape: (73, 312)\n"
     ]
    },
    {
     "name": "stderr",
     "output_type": "stream",
     "text": [
      "Processing images:  91%|█████████ | 102/112 [00:33<00:03,  2.69it/s]"
     ]
    },
    {
     "name": "stdout",
     "output_type": "stream",
     "text": [
      "Saved cropped image: E:/Document Verfication/temp_images\\extracted_account_0.png\n",
      "Class: amount, Shape: (106, 440)\n",
      "Saved cropped image: E:/Document Verfication/temp_images\\extracted_amount_1.png\n",
      "Class: reciever, Shape: (129, 1006)\n",
      "Saved cropped image: E:/Document Verfication/temp_images\\extracted_reciever_2.png\n",
      "Class: signature, Shape: (88, 176)\n",
      "Saved cropped image: E:/Document Verfication/temp_images\\extracted_signature_3.png\n",
      "911010049001545 \n",
      "\n",
      "\n",
      "image 1/1 e:\\Document Verfication\\Sample Images\\IDRBT Cheque Image Dataset\\A300\\Cheque 309149.tif: 320x640 1 signature, 1 reciever, 1 account, 1 amount, 43.7ms\n",
      "Speed: 0.0ms preprocess, 43.7ms inference, 0.0ms postprocess per image at shape (1, 3, 320, 640)\n"
     ]
    },
    {
     "name": "stderr",
     "output_type": "stream",
     "text": [
      "Processing images:  92%|█████████▏| 103/112 [00:34<00:03,  2.95it/s]"
     ]
    },
    {
     "name": "stdout",
     "output_type": "stream",
     "text": [
      "Class: signature, Shape: (126, 282)\n",
      "Saved cropped image: E:/Document Verfication/temp_images\\extracted_signature_0.png\n",
      "Class: amount, Shape: (107, 461)\n",
      "Saved cropped image: E:/Document Verfication/temp_images\\extracted_amount_1.png\n",
      "Class: account, Shape: (74, 318)\n",
      "Saved cropped image: E:/Document Verfication/temp_images\\extracted_account_2.png\n",
      "Class: reciever, Shape: (83, 609)\n",
      "Saved cropped image: E:/Document Verfication/temp_images\\extracted_reciever_3.png\n",
      "911010049001545 \n",
      "\n",
      "\n",
      "image 1/1 e:\\Document Verfication\\Sample Images\\IDRBT Cheque Image Dataset\\A300\\Cheque 309150.tif: 320x640 1 signature, 1 reciever, 1 account, 1 amount, 75.0ms\n",
      "Speed: 1.5ms preprocess, 75.0ms inference, 0.0ms postprocess per image at shape (1, 3, 320, 640)\n"
     ]
    },
    {
     "name": "stderr",
     "output_type": "stream",
     "text": [
      "Processing images:  93%|█████████▎| 104/112 [00:34<00:02,  3.00it/s]"
     ]
    },
    {
     "name": "stdout",
     "output_type": "stream",
     "text": [
      "Class: account, Shape: (74, 311)\n",
      "Saved cropped image: E:/Document Verfication/temp_images\\extracted_account_0.png\n",
      "Class: amount, Shape: (107, 462)\n",
      "Saved cropped image: E:/Document Verfication/temp_images\\extracted_amount_1.png\n",
      "Class: signature, Shape: (113, 262)\n",
      "Saved cropped image: E:/Document Verfication/temp_images\\extracted_signature_2.png\n",
      "Class: reciever, Shape: (117, 556)\n",
      "Saved cropped image: E:/Document Verfication/temp_images\\extracted_reciever_3.png\n",
      "911010049001545 \n",
      "\n",
      "\n",
      "image 1/1 e:\\Document Verfication\\Sample Images\\IDRBT Cheque Image Dataset\\A300\\Cheque 309151.tif: 320x640 1 signature, 1 reciever, 1 account, 1 amount, 39.8ms\n",
      "Speed: 9.6ms preprocess, 39.8ms inference, 8.0ms postprocess per image at shape (1, 3, 320, 640)\n"
     ]
    },
    {
     "name": "stderr",
     "output_type": "stream",
     "text": [
      "Processing images:  94%|█████████▍| 105/112 [00:34<00:02,  3.15it/s]"
     ]
    },
    {
     "name": "stdout",
     "output_type": "stream",
     "text": [
      "Class: amount, Shape: (104, 457)\n",
      "Saved cropped image: E:/Document Verfication/temp_images\\extracted_amount_0.png\n",
      "Class: account, Shape: (72, 312)\n",
      "Saved cropped image: E:/Document Verfication/temp_images\\extracted_account_1.png\n",
      "Class: signature, Shape: (93, 247)\n",
      "Saved cropped image: E:/Document Verfication/temp_images\\extracted_signature_2.png\n",
      "Class: reciever, Shape: (91, 669)\n",
      "Saved cropped image: E:/Document Verfication/temp_images\\extracted_reciever_3.png\n",
      "911010049001545 \n",
      "\n",
      "\n",
      "image 1/1 e:\\Document Verfication\\Sample Images\\IDRBT Cheque Image Dataset\\A300\\Cheque 309153.tif: 320x640 1 signature, 1 reciever, 1 account, 1 amount, 32.5ms\n",
      "Speed: 4.7ms preprocess, 32.5ms inference, 0.0ms postprocess per image at shape (1, 3, 320, 640)\n"
     ]
    },
    {
     "name": "stderr",
     "output_type": "stream",
     "text": [
      "Processing images:  95%|█████████▍| 106/112 [00:35<00:01,  3.32it/s]"
     ]
    },
    {
     "name": "stdout",
     "output_type": "stream",
     "text": [
      "Class: amount, Shape: (105, 447)\n",
      "Saved cropped image: E:/Document Verfication/temp_images\\extracted_amount_0.png\n",
      "Class: signature, Shape: (152, 229)\n",
      "Saved cropped image: E:/Document Verfication/temp_images\\extracted_signature_1.png\n",
      "Class: account, Shape: (73, 320)\n",
      "Saved cropped image: E:/Document Verfication/temp_images\\extracted_account_2.png\n",
      "Class: reciever, Shape: (91, 810)\n",
      "Saved cropped image: E:/Document Verfication/temp_images\\extracted_reciever_3.png\n",
      "911010049001545 \n",
      "\n",
      "\n",
      "image 1/1 e:\\Document Verfication\\Sample Images\\IDRBT Cheque Image Dataset\\A300\\Cheque 309155.tif: 320x640 1 signature, 1 reciever, 1 account, 1 amount, 43.1ms\n",
      "Speed: 8.4ms preprocess, 43.1ms inference, 0.0ms postprocess per image at shape (1, 3, 320, 640)\n"
     ]
    },
    {
     "name": "stderr",
     "output_type": "stream",
     "text": [
      "Processing images:  96%|█████████▌| 107/112 [00:35<00:01,  3.37it/s]"
     ]
    },
    {
     "name": "stdout",
     "output_type": "stream",
     "text": [
      "Class: amount, Shape: (103, 407)\n",
      "Saved cropped image: E:/Document Verfication/temp_images\\extracted_amount_0.png\n",
      "Class: signature, Shape: (114, 297)\n",
      "Saved cropped image: E:/Document Verfication/temp_images\\extracted_signature_1.png\n",
      "Class: account, Shape: (73, 321)\n",
      "Saved cropped image: E:/Document Verfication/temp_images\\extracted_account_2.png\n",
      "Class: reciever, Shape: (82, 633)\n",
      "Saved cropped image: E:/Document Verfication/temp_images\\extracted_reciever_3.png\n",
      "911010049001545 \n",
      "\n",
      "\n",
      "image 1/1 e:\\Document Verfication\\Sample Images\\IDRBT Cheque Image Dataset\\A300\\Cheque 309156.tif: 320x640 1 signature, 1 reciever, 1 account, 1 amount, 39.3ms\n",
      "Speed: 2.6ms preprocess, 39.3ms inference, 0.0ms postprocess per image at shape (1, 3, 320, 640)\n",
      "Class: account, Shape: (72, 312)\n",
      "Saved cropped image: E:/Document Verfication/temp_images\\extracted_account_0.png\n",
      "Class: amount, Shape: (108, 427)\n",
      "Saved cropped image: E:/Document Verfication/temp_images\\extracted_amount_1.png\n",
      "Class: signature, Shape: (126, 216)\n",
      "Saved cropped image: E:/Document Verfication/temp_images\\extracted_signature_2.png\n",
      "Class: reciever, Shape: (98, 878)\n",
      "Saved cropped image: E:/Document Verfication/temp_images\\extracted_reciever_3.png\n"
     ]
    },
    {
     "name": "stderr",
     "output_type": "stream",
     "text": [
      "Processing images:  96%|█████████▋| 108/112 [00:35<00:01,  3.11it/s]"
     ]
    },
    {
     "name": "stdout",
     "output_type": "stream",
     "text": [
      "911010049001545 \n",
      "\n",
      "\n",
      "image 1/1 e:\\Document Verfication\\Sample Images\\IDRBT Cheque Image Dataset\\A300\\Cheque 309157.tif: 320x640 1 signature, 1 reciever, 1 account, 1 amount, 51.0ms\n",
      "Speed: 7.5ms preprocess, 51.0ms inference, 8.7ms postprocess per image at shape (1, 3, 320, 640)\n",
      "Class: amount, Shape: (109, 417)\n",
      "Saved cropped image: E:/Document Verfication/temp_images\\extracted_amount_0.png\n",
      "Class: signature, Shape: (123, 265)\n",
      "Saved cropped image: E:/Document Verfication/temp_images\\extracted_signature_1.png\n",
      "Class: account, Shape: (70, 319)\n",
      "Saved cropped image: E:/Document Verfication/temp_images\\extracted_account_2.png\n",
      "Class: reciever, Shape: (99, 539)\n",
      "Saved cropped image: E:/Document Verfication/temp_images\\extracted_reciever_3.png\n"
     ]
    },
    {
     "name": "stderr",
     "output_type": "stream",
     "text": [
      "Processing images:  97%|█████████▋| 109/112 [00:36<00:01,  2.82it/s]"
     ]
    },
    {
     "name": "stdout",
     "output_type": "stream",
     "text": [
      "911010049001545 \n",
      "\n",
      "\n",
      "image 1/1 e:\\Document Verfication\\Sample Images\\IDRBT Cheque Image Dataset\\A300\\Cheque 309158.tif: 320x640 1 signature, 1 reciever, 1 account, 1 amount, 55.4ms\n",
      "Speed: 0.0ms preprocess, 55.4ms inference, 8.1ms postprocess per image at shape (1, 3, 320, 640)\n",
      "Class: account, Shape: (73, 316)\n",
      "Saved cropped image: E:/Document Verfication/temp_images\\extracted_account_0.png\n",
      "Class: signature, Shape: (135, 183)\n",
      "Saved cropped image: E:/Document Verfication/temp_images\\extracted_signature_1.png\n",
      "Class: amount, Shape: (106, 504)\n",
      "Saved cropped image: E:/Document Verfication/temp_images\\extracted_amount_2.png\n",
      "Class: reciever, Shape: (88, 673)\n",
      "Saved cropped image: E:/Document Verfication/temp_images\\extracted_reciever_3.png\n"
     ]
    },
    {
     "name": "stderr",
     "output_type": "stream",
     "text": [
      "Processing images:  98%|█████████▊| 110/112 [00:36<00:00,  2.51it/s]"
     ]
    },
    {
     "name": "stdout",
     "output_type": "stream",
     "text": [
      "911010049001545 \n",
      "\n",
      "\n",
      "image 1/1 e:\\Document Verfication\\Sample Images\\IDRBT Cheque Image Dataset\\A300\\Cheque 309159.tif: 320x640 1 signature, 1 reciever, 1 account, 1 amount, 38.4ms\n",
      "Speed: 0.0ms preprocess, 38.4ms inference, 3.1ms postprocess per image at shape (1, 3, 320, 640)\n",
      "Class: amount, Shape: (104, 434)\n",
      "Saved cropped image: E:/Document Verfication/temp_images\\extracted_amount_0.png\n",
      "Class: account, Shape: (70, 322)\n",
      "Saved cropped image: E:/Document Verfication/temp_images\\extracted_account_1.png\n",
      "Class: signature, Shape: (122, 182)\n",
      "Saved cropped image: E:/Document Verfication/temp_images\\extracted_signature_2.png\n",
      "Class: reciever, Shape: (88, 494)\n",
      "Saved cropped image: E:/Document Verfication/temp_images\\extracted_reciever_3.png\n"
     ]
    },
    {
     "name": "stderr",
     "output_type": "stream",
     "text": [
      "Processing images:  99%|█████████▉| 111/112 [00:36<00:00,  2.80it/s]"
     ]
    },
    {
     "name": "stdout",
     "output_type": "stream",
     "text": [
      "911010049001545 \n",
      "\n",
      "\n",
      "image 1/1 e:\\Document Verfication\\Sample Images\\IDRBT Cheque Image Dataset\\A300\\Cheque 309160.tif: 320x640 1 signature, 1 reciever, 1 account, 1 amount, 33.3ms\n",
      "Speed: 8.7ms preprocess, 33.3ms inference, 0.0ms postprocess per image at shape (1, 3, 320, 640)\n",
      "Class: account, Shape: (73, 315)\n",
      "Saved cropped image: E:/Document Verfication/temp_images\\extracted_account_0.png\n",
      "Class: amount, Shape: (107, 389)\n",
      "Saved cropped image: E:/Document Verfication/temp_images\\extracted_amount_1.png\n",
      "Class: signature, Shape: (113, 266)\n",
      "Saved cropped image: E:/Document Verfication/temp_images\\extracted_signature_2.png\n",
      "Class: reciever, Shape: (98, 445)\n",
      "Saved cropped image: E:/Document Verfication/temp_images\\extracted_reciever_3.png\n"
     ]
    },
    {
     "name": "stderr",
     "output_type": "stream",
     "text": [
      "Processing images: 100%|██████████| 112/112 [00:37<00:00,  3.02it/s]"
     ]
    },
    {
     "name": "stdout",
     "output_type": "stream",
     "text": [
      "911010049001545 \n",
      "\n"
     ]
    },
    {
     "name": "stderr",
     "output_type": "stream",
     "text": [
      "\n"
     ]
    }
   ],
   "source": [
    "import os\n",
    "from ultralytics import YOLO\n",
    "from Backend.utils.extraction import extract_components\n",
    "import torch\n",
    "import easyocr\n",
    "from tqdm import tqdm\n",
    "import cv2 as cv\n",
    "import re\n",
    "\n",
    "device = \"cuda\" if torch.cuda.is_available() else \"cpu\"\n",
    "\n",
    "folder_path = \"Sample Images\\IDRBT Cheque Image Dataset\\A300\"\n",
    "\n",
    "model_extract = YOLO(r\"E:\\Document Verfication\\Models\\Extraction\\weights\\best.pt\")  # Replace with your trained YOLO weights\n",
    "model_extract.to(device)\n",
    "\n",
    "model_ocr = easyocr.Reader([\"en\"], gpu=torch.cuda.is_available())  # Enable GPU if available\n",
    "\n",
    "# Use tqdm to create a progress bar\n",
    "for file in tqdm(os.listdir(folder_path), desc=\"Processing images\"):\n",
    "    if file.endswith(\".tif\"):\n",
    "        file_path = os.path.join(folder_path, file)\n",
    "        extracted_images = extract_components(file_path , model_extract)\n",
    "        if \"account\" not in extracted_images or \"signature\" not in extracted_images:\n",
    "            print(\"Error Extracting\")\n",
    "            continue # Skip to the next file if extraction fails\n",
    "\n",
    "        try:\n",
    "          account_no = cv.imread(extracted_images[\"account\"])\n",
    "          signature = cv.imread(extracted_images[\"signature\"])\n",
    "\n",
    "          account_text = model_ocr.readtext(account_no, detail=0)[0]\n",
    "          account_text = re.sub(r'\\D', '', account_text)\n",
    "          print(account_text,\"\\n\")\n",
    "        #   # Assuming account_text is a list and you want the first result\n",
    "        #   if account_text:\n",
    "        #       account_text = account_text[0][1] # Extract the text content\n",
    "        #   else:\n",
    "        #       account_text = \"unknown_account\" # Provide a default value\n",
    "          save_folder = os.path.join(\"Dataset\", account_text)\n",
    "          os.makedirs(save_folder, exist_ok=True)\n",
    "          cv.imwrite(os.path.join(save_folder, file), signature)\n",
    "\n",
    "        except Exception as e:\n",
    "            print(f\"Error processing {file}: {e}\")"
   ]
  },
  {
   "cell_type": "code",
   "execution_count": null,
   "metadata": {},
   "outputs": [],
   "source": []
  }
 ],
 "metadata": {
  "kernelspec": {
   "display_name": "pytorch_env",
   "language": "python",
   "name": "python3"
  },
  "language_info": {
   "codemirror_mode": {
    "name": "ipython",
    "version": 3
   },
   "file_extension": ".py",
   "mimetype": "text/x-python",
   "name": "python",
   "nbconvert_exporter": "python",
   "pygments_lexer": "ipython3",
   "version": "3.10.15"
  }
 },
 "nbformat": 4,
 "nbformat_minor": 2
}
